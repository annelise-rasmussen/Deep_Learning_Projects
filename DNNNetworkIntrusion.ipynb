{
  "nbformat": 4,
  "nbformat_minor": 0,
  "metadata": {
    "colab": {
      "provenance": [],
      "gpuType": "T4"
    },
    "kernelspec": {
      "name": "python3",
      "display_name": "Python 3"
    },
    "language_info": {
      "name": "python"
    },
    "accelerator": "GPU"
  },
  "cells": [
    {
      "cell_type": "markdown",
      "source": [
        "#Cybersecurity DNN: Network Intrusion Detection"
      ],
      "metadata": {
        "id": "06pm8dceXZDA"
      }
    },
    {
      "cell_type": "markdown",
      "source": [
        "This data comes from: https://www.kaggle.com/datasets/hassan06/nslkdd"
      ],
      "metadata": {
        "id": "WkMdHrSSXprm"
      }
    },
    {
      "cell_type": "markdown",
      "source": [
        "I have decided to do my master's program in cybersecurity and database engineering. I wanted to get my feet wet in using analytics to help detect abnormalities. When I went to a forum, Joe McManus discussed the importance of analytics in cyber and I hope to be able to bring my analytical skills and cyber skills together. This dataset goes through detecting abnormalities in networks."
      ],
      "metadata": {
        "id": "LYVzw28P3DUz"
      }
    },
    {
      "cell_type": "markdown",
      "source": [
        "##Preprocessing"
      ],
      "metadata": {
        "id": "kD1lCtliY5i3"
      }
    },
    {
      "cell_type": "markdown",
      "source": [
        "1.Explore the Dataset: Begin by exploring the dataset to understand its structure, the types of features it includes, and the format of the data."
      ],
      "metadata": {
        "id": "9qcGEZ5OXvz6"
      }
    },
    {
      "cell_type": "code",
      "execution_count": 199,
      "metadata": {
        "colab": {
          "base_uri": "https://localhost:8080/",
          "height": 35
        },
        "id": "43TcnLRpWzeN",
        "outputId": "e3450674-ad16-4f3a-af8e-012644d2ae05"
      },
      "outputs": [
        {
          "output_type": "execute_result",
          "data": {
            "text/plain": [
              "'2.14.0'"
            ],
            "application/vnd.google.colaboratory.intrinsic+json": {
              "type": "string"
            }
          },
          "metadata": {},
          "execution_count": 199
        }
      ],
      "source": [
        "import tensorflow\n",
        "tensorflow.__version__"
      ]
    },
    {
      "cell_type": "code",
      "source": [
        "import pandas as pd\n",
        "import numpy as np"
      ],
      "metadata": {
        "id": "WwOnLiIOaxId"
      },
      "execution_count": 200,
      "outputs": []
    },
    {
      "cell_type": "code",
      "source": [
        "train = pd.read_csv(\"/content/KDDTrain.csv\")\n",
        "train.head()"
      ],
      "metadata": {
        "colab": {
          "base_uri": "https://localhost:8080/",
          "height": 256
        },
        "id": "JD9k5FGSaw7x",
        "outputId": "ad455150-cf1e-4819-d00c-82ea2ace489e"
      },
      "execution_count": 201,
      "outputs": [
        {
          "output_type": "execute_result",
          "data": {
            "text/plain": [
              "   duration protocol_type   service flag  src_bytes  dst_bytes  land  \\\n",
              "0         0           tcp  ftp_data   SF        491          0     0   \n",
              "1         0           udp     other   SF        146          0     0   \n",
              "2         0           tcp   private   S0          0          0     0   \n",
              "3         0           tcp      http   SF        232       8153     0   \n",
              "4         0           tcp      http   SF        199        420     0   \n",
              "\n",
              "   wrong_fragment  urgent  hot  ...  dst_host_srv_count  \\\n",
              "0               0       0    0  ...                  25   \n",
              "1               0       0    0  ...                   1   \n",
              "2               0       0    0  ...                  26   \n",
              "3               0       0    0  ...                 255   \n",
              "4               0       0    0  ...                 255   \n",
              "\n",
              "   dst_host_same_srv_rate  dst_host_diff_srv_rate  \\\n",
              "0                    0.17                    0.03   \n",
              "1                    0.00                    0.60   \n",
              "2                    0.10                    0.05   \n",
              "3                    1.00                    0.00   \n",
              "4                    1.00                    0.00   \n",
              "\n",
              "   dst_host_same_src_port_rate  dst_host_srv_diff_host_rate  \\\n",
              "0                         0.17                         0.00   \n",
              "1                         0.88                         0.00   \n",
              "2                         0.00                         0.00   \n",
              "3                         0.03                         0.04   \n",
              "4                         0.00                         0.00   \n",
              "\n",
              "   dst_host_serror_rate  dst_host_srv_serror_rate  dst_host_rerror_rate  \\\n",
              "0                  0.00                      0.00                  0.05   \n",
              "1                  0.00                      0.00                  0.00   \n",
              "2                  1.00                      1.00                  0.00   \n",
              "3                  0.03                      0.01                  0.00   \n",
              "4                  0.00                      0.00                  0.00   \n",
              "\n",
              "   dst_host_srv_rerror_rate    class  \n",
              "0                      0.00   normal  \n",
              "1                      0.00   normal  \n",
              "2                      0.00  anomaly  \n",
              "3                      0.01   normal  \n",
              "4                      0.00   normal  \n",
              "\n",
              "[5 rows x 42 columns]"
            ],
            "text/html": [
              "\n",
              "  <div id=\"df-6571e8c6-1d84-448c-ba95-230e409d1a92\" class=\"colab-df-container\">\n",
              "    <div>\n",
              "<style scoped>\n",
              "    .dataframe tbody tr th:only-of-type {\n",
              "        vertical-align: middle;\n",
              "    }\n",
              "\n",
              "    .dataframe tbody tr th {\n",
              "        vertical-align: top;\n",
              "    }\n",
              "\n",
              "    .dataframe thead th {\n",
              "        text-align: right;\n",
              "    }\n",
              "</style>\n",
              "<table border=\"1\" class=\"dataframe\">\n",
              "  <thead>\n",
              "    <tr style=\"text-align: right;\">\n",
              "      <th></th>\n",
              "      <th>duration</th>\n",
              "      <th>protocol_type</th>\n",
              "      <th>service</th>\n",
              "      <th>flag</th>\n",
              "      <th>src_bytes</th>\n",
              "      <th>dst_bytes</th>\n",
              "      <th>land</th>\n",
              "      <th>wrong_fragment</th>\n",
              "      <th>urgent</th>\n",
              "      <th>hot</th>\n",
              "      <th>...</th>\n",
              "      <th>dst_host_srv_count</th>\n",
              "      <th>dst_host_same_srv_rate</th>\n",
              "      <th>dst_host_diff_srv_rate</th>\n",
              "      <th>dst_host_same_src_port_rate</th>\n",
              "      <th>dst_host_srv_diff_host_rate</th>\n",
              "      <th>dst_host_serror_rate</th>\n",
              "      <th>dst_host_srv_serror_rate</th>\n",
              "      <th>dst_host_rerror_rate</th>\n",
              "      <th>dst_host_srv_rerror_rate</th>\n",
              "      <th>class</th>\n",
              "    </tr>\n",
              "  </thead>\n",
              "  <tbody>\n",
              "    <tr>\n",
              "      <th>0</th>\n",
              "      <td>0</td>\n",
              "      <td>tcp</td>\n",
              "      <td>ftp_data</td>\n",
              "      <td>SF</td>\n",
              "      <td>491</td>\n",
              "      <td>0</td>\n",
              "      <td>0</td>\n",
              "      <td>0</td>\n",
              "      <td>0</td>\n",
              "      <td>0</td>\n",
              "      <td>...</td>\n",
              "      <td>25</td>\n",
              "      <td>0.17</td>\n",
              "      <td>0.03</td>\n",
              "      <td>0.17</td>\n",
              "      <td>0.00</td>\n",
              "      <td>0.00</td>\n",
              "      <td>0.00</td>\n",
              "      <td>0.05</td>\n",
              "      <td>0.00</td>\n",
              "      <td>normal</td>\n",
              "    </tr>\n",
              "    <tr>\n",
              "      <th>1</th>\n",
              "      <td>0</td>\n",
              "      <td>udp</td>\n",
              "      <td>other</td>\n",
              "      <td>SF</td>\n",
              "      <td>146</td>\n",
              "      <td>0</td>\n",
              "      <td>0</td>\n",
              "      <td>0</td>\n",
              "      <td>0</td>\n",
              "      <td>0</td>\n",
              "      <td>...</td>\n",
              "      <td>1</td>\n",
              "      <td>0.00</td>\n",
              "      <td>0.60</td>\n",
              "      <td>0.88</td>\n",
              "      <td>0.00</td>\n",
              "      <td>0.00</td>\n",
              "      <td>0.00</td>\n",
              "      <td>0.00</td>\n",
              "      <td>0.00</td>\n",
              "      <td>normal</td>\n",
              "    </tr>\n",
              "    <tr>\n",
              "      <th>2</th>\n",
              "      <td>0</td>\n",
              "      <td>tcp</td>\n",
              "      <td>private</td>\n",
              "      <td>S0</td>\n",
              "      <td>0</td>\n",
              "      <td>0</td>\n",
              "      <td>0</td>\n",
              "      <td>0</td>\n",
              "      <td>0</td>\n",
              "      <td>0</td>\n",
              "      <td>...</td>\n",
              "      <td>26</td>\n",
              "      <td>0.10</td>\n",
              "      <td>0.05</td>\n",
              "      <td>0.00</td>\n",
              "      <td>0.00</td>\n",
              "      <td>1.00</td>\n",
              "      <td>1.00</td>\n",
              "      <td>0.00</td>\n",
              "      <td>0.00</td>\n",
              "      <td>anomaly</td>\n",
              "    </tr>\n",
              "    <tr>\n",
              "      <th>3</th>\n",
              "      <td>0</td>\n",
              "      <td>tcp</td>\n",
              "      <td>http</td>\n",
              "      <td>SF</td>\n",
              "      <td>232</td>\n",
              "      <td>8153</td>\n",
              "      <td>0</td>\n",
              "      <td>0</td>\n",
              "      <td>0</td>\n",
              "      <td>0</td>\n",
              "      <td>...</td>\n",
              "      <td>255</td>\n",
              "      <td>1.00</td>\n",
              "      <td>0.00</td>\n",
              "      <td>0.03</td>\n",
              "      <td>0.04</td>\n",
              "      <td>0.03</td>\n",
              "      <td>0.01</td>\n",
              "      <td>0.00</td>\n",
              "      <td>0.01</td>\n",
              "      <td>normal</td>\n",
              "    </tr>\n",
              "    <tr>\n",
              "      <th>4</th>\n",
              "      <td>0</td>\n",
              "      <td>tcp</td>\n",
              "      <td>http</td>\n",
              "      <td>SF</td>\n",
              "      <td>199</td>\n",
              "      <td>420</td>\n",
              "      <td>0</td>\n",
              "      <td>0</td>\n",
              "      <td>0</td>\n",
              "      <td>0</td>\n",
              "      <td>...</td>\n",
              "      <td>255</td>\n",
              "      <td>1.00</td>\n",
              "      <td>0.00</td>\n",
              "      <td>0.00</td>\n",
              "      <td>0.00</td>\n",
              "      <td>0.00</td>\n",
              "      <td>0.00</td>\n",
              "      <td>0.00</td>\n",
              "      <td>0.00</td>\n",
              "      <td>normal</td>\n",
              "    </tr>\n",
              "  </tbody>\n",
              "</table>\n",
              "<p>5 rows × 42 columns</p>\n",
              "</div>\n",
              "    <div class=\"colab-df-buttons\">\n",
              "\n",
              "  <div class=\"colab-df-container\">\n",
              "    <button class=\"colab-df-convert\" onclick=\"convertToInteractive('df-6571e8c6-1d84-448c-ba95-230e409d1a92')\"\n",
              "            title=\"Convert this dataframe to an interactive table.\"\n",
              "            style=\"display:none;\">\n",
              "\n",
              "  <svg xmlns=\"http://www.w3.org/2000/svg\" height=\"24px\" viewBox=\"0 -960 960 960\">\n",
              "    <path d=\"M120-120v-720h720v720H120Zm60-500h600v-160H180v160Zm220 220h160v-160H400v160Zm0 220h160v-160H400v160ZM180-400h160v-160H180v160Zm440 0h160v-160H620v160ZM180-180h160v-160H180v160Zm440 0h160v-160H620v160Z\"/>\n",
              "  </svg>\n",
              "    </button>\n",
              "\n",
              "  <style>\n",
              "    .colab-df-container {\n",
              "      display:flex;\n",
              "      gap: 12px;\n",
              "    }\n",
              "\n",
              "    .colab-df-convert {\n",
              "      background-color: #E8F0FE;\n",
              "      border: none;\n",
              "      border-radius: 50%;\n",
              "      cursor: pointer;\n",
              "      display: none;\n",
              "      fill: #1967D2;\n",
              "      height: 32px;\n",
              "      padding: 0 0 0 0;\n",
              "      width: 32px;\n",
              "    }\n",
              "\n",
              "    .colab-df-convert:hover {\n",
              "      background-color: #E2EBFA;\n",
              "      box-shadow: 0px 1px 2px rgba(60, 64, 67, 0.3), 0px 1px 3px 1px rgba(60, 64, 67, 0.15);\n",
              "      fill: #174EA6;\n",
              "    }\n",
              "\n",
              "    .colab-df-buttons div {\n",
              "      margin-bottom: 4px;\n",
              "    }\n",
              "\n",
              "    [theme=dark] .colab-df-convert {\n",
              "      background-color: #3B4455;\n",
              "      fill: #D2E3FC;\n",
              "    }\n",
              "\n",
              "    [theme=dark] .colab-df-convert:hover {\n",
              "      background-color: #434B5C;\n",
              "      box-shadow: 0px 1px 3px 1px rgba(0, 0, 0, 0.15);\n",
              "      filter: drop-shadow(0px 1px 2px rgba(0, 0, 0, 0.3));\n",
              "      fill: #FFFFFF;\n",
              "    }\n",
              "  </style>\n",
              "\n",
              "    <script>\n",
              "      const buttonEl =\n",
              "        document.querySelector('#df-6571e8c6-1d84-448c-ba95-230e409d1a92 button.colab-df-convert');\n",
              "      buttonEl.style.display =\n",
              "        google.colab.kernel.accessAllowed ? 'block' : 'none';\n",
              "\n",
              "      async function convertToInteractive(key) {\n",
              "        const element = document.querySelector('#df-6571e8c6-1d84-448c-ba95-230e409d1a92');\n",
              "        const dataTable =\n",
              "          await google.colab.kernel.invokeFunction('convertToInteractive',\n",
              "                                                    [key], {});\n",
              "        if (!dataTable) return;\n",
              "\n",
              "        const docLinkHtml = 'Like what you see? Visit the ' +\n",
              "          '<a target=\"_blank\" href=https://colab.research.google.com/notebooks/data_table.ipynb>data table notebook</a>'\n",
              "          + ' to learn more about interactive tables.';\n",
              "        element.innerHTML = '';\n",
              "        dataTable['output_type'] = 'display_data';\n",
              "        await google.colab.output.renderOutput(dataTable, element);\n",
              "        const docLink = document.createElement('div');\n",
              "        docLink.innerHTML = docLinkHtml;\n",
              "        element.appendChild(docLink);\n",
              "      }\n",
              "    </script>\n",
              "  </div>\n",
              "\n",
              "\n",
              "<div id=\"df-7cb00065-93b1-4062-ba28-c77787223c4d\">\n",
              "  <button class=\"colab-df-quickchart\" onclick=\"quickchart('df-7cb00065-93b1-4062-ba28-c77787223c4d')\"\n",
              "            title=\"Suggest charts\"\n",
              "            style=\"display:none;\">\n",
              "\n",
              "<svg xmlns=\"http://www.w3.org/2000/svg\" height=\"24px\"viewBox=\"0 0 24 24\"\n",
              "     width=\"24px\">\n",
              "    <g>\n",
              "        <path d=\"M19 3H5c-1.1 0-2 .9-2 2v14c0 1.1.9 2 2 2h14c1.1 0 2-.9 2-2V5c0-1.1-.9-2-2-2zM9 17H7v-7h2v7zm4 0h-2V7h2v10zm4 0h-2v-4h2v4z\"/>\n",
              "    </g>\n",
              "</svg>\n",
              "  </button>\n",
              "\n",
              "<style>\n",
              "  .colab-df-quickchart {\n",
              "      --bg-color: #E8F0FE;\n",
              "      --fill-color: #1967D2;\n",
              "      --hover-bg-color: #E2EBFA;\n",
              "      --hover-fill-color: #174EA6;\n",
              "      --disabled-fill-color: #AAA;\n",
              "      --disabled-bg-color: #DDD;\n",
              "  }\n",
              "\n",
              "  [theme=dark] .colab-df-quickchart {\n",
              "      --bg-color: #3B4455;\n",
              "      --fill-color: #D2E3FC;\n",
              "      --hover-bg-color: #434B5C;\n",
              "      --hover-fill-color: #FFFFFF;\n",
              "      --disabled-bg-color: #3B4455;\n",
              "      --disabled-fill-color: #666;\n",
              "  }\n",
              "\n",
              "  .colab-df-quickchart {\n",
              "    background-color: var(--bg-color);\n",
              "    border: none;\n",
              "    border-radius: 50%;\n",
              "    cursor: pointer;\n",
              "    display: none;\n",
              "    fill: var(--fill-color);\n",
              "    height: 32px;\n",
              "    padding: 0;\n",
              "    width: 32px;\n",
              "  }\n",
              "\n",
              "  .colab-df-quickchart:hover {\n",
              "    background-color: var(--hover-bg-color);\n",
              "    box-shadow: 0 1px 2px rgba(60, 64, 67, 0.3), 0 1px 3px 1px rgba(60, 64, 67, 0.15);\n",
              "    fill: var(--button-hover-fill-color);\n",
              "  }\n",
              "\n",
              "  .colab-df-quickchart-complete:disabled,\n",
              "  .colab-df-quickchart-complete:disabled:hover {\n",
              "    background-color: var(--disabled-bg-color);\n",
              "    fill: var(--disabled-fill-color);\n",
              "    box-shadow: none;\n",
              "  }\n",
              "\n",
              "  .colab-df-spinner {\n",
              "    border: 2px solid var(--fill-color);\n",
              "    border-color: transparent;\n",
              "    border-bottom-color: var(--fill-color);\n",
              "    animation:\n",
              "      spin 1s steps(1) infinite;\n",
              "  }\n",
              "\n",
              "  @keyframes spin {\n",
              "    0% {\n",
              "      border-color: transparent;\n",
              "      border-bottom-color: var(--fill-color);\n",
              "      border-left-color: var(--fill-color);\n",
              "    }\n",
              "    20% {\n",
              "      border-color: transparent;\n",
              "      border-left-color: var(--fill-color);\n",
              "      border-top-color: var(--fill-color);\n",
              "    }\n",
              "    30% {\n",
              "      border-color: transparent;\n",
              "      border-left-color: var(--fill-color);\n",
              "      border-top-color: var(--fill-color);\n",
              "      border-right-color: var(--fill-color);\n",
              "    }\n",
              "    40% {\n",
              "      border-color: transparent;\n",
              "      border-right-color: var(--fill-color);\n",
              "      border-top-color: var(--fill-color);\n",
              "    }\n",
              "    60% {\n",
              "      border-color: transparent;\n",
              "      border-right-color: var(--fill-color);\n",
              "    }\n",
              "    80% {\n",
              "      border-color: transparent;\n",
              "      border-right-color: var(--fill-color);\n",
              "      border-bottom-color: var(--fill-color);\n",
              "    }\n",
              "    90% {\n",
              "      border-color: transparent;\n",
              "      border-bottom-color: var(--fill-color);\n",
              "    }\n",
              "  }\n",
              "</style>\n",
              "\n",
              "  <script>\n",
              "    async function quickchart(key) {\n",
              "      const quickchartButtonEl =\n",
              "        document.querySelector('#' + key + ' button');\n",
              "      quickchartButtonEl.disabled = true;  // To prevent multiple clicks.\n",
              "      quickchartButtonEl.classList.add('colab-df-spinner');\n",
              "      try {\n",
              "        const charts = await google.colab.kernel.invokeFunction(\n",
              "            'suggestCharts', [key], {});\n",
              "      } catch (error) {\n",
              "        console.error('Error during call to suggestCharts:', error);\n",
              "      }\n",
              "      quickchartButtonEl.classList.remove('colab-df-spinner');\n",
              "      quickchartButtonEl.classList.add('colab-df-quickchart-complete');\n",
              "    }\n",
              "    (() => {\n",
              "      let quickchartButtonEl =\n",
              "        document.querySelector('#df-7cb00065-93b1-4062-ba28-c77787223c4d button');\n",
              "      quickchartButtonEl.style.display =\n",
              "        google.colab.kernel.accessAllowed ? 'block' : 'none';\n",
              "    })();\n",
              "  </script>\n",
              "</div>\n",
              "    </div>\n",
              "  </div>\n"
            ]
          },
          "metadata": {},
          "execution_count": 201
        }
      ]
    },
    {
      "cell_type": "code",
      "source": [
        "test = pd.read_csv(\"/content/KDDTest-21.csv\")\n",
        "test.head()"
      ],
      "metadata": {
        "colab": {
          "base_uri": "https://localhost:8080/",
          "height": 256
        },
        "id": "HIVGHeOYawrO",
        "outputId": "5c013560-d1fc-4336-858c-06477afe117f"
      },
      "execution_count": 202,
      "outputs": [
        {
          "output_type": "execute_result",
          "data": {
            "text/plain": [
              "   duration protocol_type  service flag  src_bytes  dst_bytes  land  \\\n",
              "0        13           tcp   telnet   SF        118       2425     0   \n",
              "1         0           udp  private   SF         44          0     0   \n",
              "2         0           tcp   telnet   S3          0         44     0   \n",
              "3         0           udp  private   SF         53         55     0   \n",
              "4         0           tcp  private   SH          0          0     0   \n",
              "\n",
              "   wrong_fragment  urgent  hot  ...  dst_host_srv_count  \\\n",
              "0               0       0    0  ...                  10   \n",
              "1               0       0    0  ...                 254   \n",
              "2               0       0    0  ...                  79   \n",
              "3               0       0    0  ...                 255   \n",
              "4               0       0    0  ...                   1   \n",
              "\n",
              "   dst_host_same_srv_rate  dst_host_diff_srv_rate  \\\n",
              "0                    0.38                    0.12   \n",
              "1                    1.00                    0.01   \n",
              "2                    0.31                    0.61   \n",
              "3                    1.00                    0.00   \n",
              "4                    0.06                    1.00   \n",
              "\n",
              "   dst_host_same_src_port_rate  dst_host_srv_diff_host_rate  \\\n",
              "0                         0.04                          0.0   \n",
              "1                         0.01                          0.0   \n",
              "2                         0.00                          0.0   \n",
              "3                         0.87                          0.0   \n",
              "4                         1.00                          0.0   \n",
              "\n",
              "   dst_host_serror_rate  dst_host_srv_serror_rate  dst_host_rerror_rate  \\\n",
              "0                  0.00                      0.00                  0.12   \n",
              "1                  0.00                      0.00                  0.00   \n",
              "2                  0.21                      0.68                  0.60   \n",
              "3                  0.00                      0.00                  0.00   \n",
              "4                  1.00                      1.00                  0.00   \n",
              "\n",
              "   dst_host_srv_rerror_rate    class  \n",
              "0                       0.3  anomaly  \n",
              "1                       0.0  anomaly  \n",
              "2                       0.0  anomaly  \n",
              "3                       0.0   normal  \n",
              "4                       0.0  anomaly  \n",
              "\n",
              "[5 rows x 42 columns]"
            ],
            "text/html": [
              "\n",
              "  <div id=\"df-1b38d919-2cd7-4d84-92fe-8f51d20fce9f\" class=\"colab-df-container\">\n",
              "    <div>\n",
              "<style scoped>\n",
              "    .dataframe tbody tr th:only-of-type {\n",
              "        vertical-align: middle;\n",
              "    }\n",
              "\n",
              "    .dataframe tbody tr th {\n",
              "        vertical-align: top;\n",
              "    }\n",
              "\n",
              "    .dataframe thead th {\n",
              "        text-align: right;\n",
              "    }\n",
              "</style>\n",
              "<table border=\"1\" class=\"dataframe\">\n",
              "  <thead>\n",
              "    <tr style=\"text-align: right;\">\n",
              "      <th></th>\n",
              "      <th>duration</th>\n",
              "      <th>protocol_type</th>\n",
              "      <th>service</th>\n",
              "      <th>flag</th>\n",
              "      <th>src_bytes</th>\n",
              "      <th>dst_bytes</th>\n",
              "      <th>land</th>\n",
              "      <th>wrong_fragment</th>\n",
              "      <th>urgent</th>\n",
              "      <th>hot</th>\n",
              "      <th>...</th>\n",
              "      <th>dst_host_srv_count</th>\n",
              "      <th>dst_host_same_srv_rate</th>\n",
              "      <th>dst_host_diff_srv_rate</th>\n",
              "      <th>dst_host_same_src_port_rate</th>\n",
              "      <th>dst_host_srv_diff_host_rate</th>\n",
              "      <th>dst_host_serror_rate</th>\n",
              "      <th>dst_host_srv_serror_rate</th>\n",
              "      <th>dst_host_rerror_rate</th>\n",
              "      <th>dst_host_srv_rerror_rate</th>\n",
              "      <th>class</th>\n",
              "    </tr>\n",
              "  </thead>\n",
              "  <tbody>\n",
              "    <tr>\n",
              "      <th>0</th>\n",
              "      <td>13</td>\n",
              "      <td>tcp</td>\n",
              "      <td>telnet</td>\n",
              "      <td>SF</td>\n",
              "      <td>118</td>\n",
              "      <td>2425</td>\n",
              "      <td>0</td>\n",
              "      <td>0</td>\n",
              "      <td>0</td>\n",
              "      <td>0</td>\n",
              "      <td>...</td>\n",
              "      <td>10</td>\n",
              "      <td>0.38</td>\n",
              "      <td>0.12</td>\n",
              "      <td>0.04</td>\n",
              "      <td>0.0</td>\n",
              "      <td>0.00</td>\n",
              "      <td>0.00</td>\n",
              "      <td>0.12</td>\n",
              "      <td>0.3</td>\n",
              "      <td>anomaly</td>\n",
              "    </tr>\n",
              "    <tr>\n",
              "      <th>1</th>\n",
              "      <td>0</td>\n",
              "      <td>udp</td>\n",
              "      <td>private</td>\n",
              "      <td>SF</td>\n",
              "      <td>44</td>\n",
              "      <td>0</td>\n",
              "      <td>0</td>\n",
              "      <td>0</td>\n",
              "      <td>0</td>\n",
              "      <td>0</td>\n",
              "      <td>...</td>\n",
              "      <td>254</td>\n",
              "      <td>1.00</td>\n",
              "      <td>0.01</td>\n",
              "      <td>0.01</td>\n",
              "      <td>0.0</td>\n",
              "      <td>0.00</td>\n",
              "      <td>0.00</td>\n",
              "      <td>0.00</td>\n",
              "      <td>0.0</td>\n",
              "      <td>anomaly</td>\n",
              "    </tr>\n",
              "    <tr>\n",
              "      <th>2</th>\n",
              "      <td>0</td>\n",
              "      <td>tcp</td>\n",
              "      <td>telnet</td>\n",
              "      <td>S3</td>\n",
              "      <td>0</td>\n",
              "      <td>44</td>\n",
              "      <td>0</td>\n",
              "      <td>0</td>\n",
              "      <td>0</td>\n",
              "      <td>0</td>\n",
              "      <td>...</td>\n",
              "      <td>79</td>\n",
              "      <td>0.31</td>\n",
              "      <td>0.61</td>\n",
              "      <td>0.00</td>\n",
              "      <td>0.0</td>\n",
              "      <td>0.21</td>\n",
              "      <td>0.68</td>\n",
              "      <td>0.60</td>\n",
              "      <td>0.0</td>\n",
              "      <td>anomaly</td>\n",
              "    </tr>\n",
              "    <tr>\n",
              "      <th>3</th>\n",
              "      <td>0</td>\n",
              "      <td>udp</td>\n",
              "      <td>private</td>\n",
              "      <td>SF</td>\n",
              "      <td>53</td>\n",
              "      <td>55</td>\n",
              "      <td>0</td>\n",
              "      <td>0</td>\n",
              "      <td>0</td>\n",
              "      <td>0</td>\n",
              "      <td>...</td>\n",
              "      <td>255</td>\n",
              "      <td>1.00</td>\n",
              "      <td>0.00</td>\n",
              "      <td>0.87</td>\n",
              "      <td>0.0</td>\n",
              "      <td>0.00</td>\n",
              "      <td>0.00</td>\n",
              "      <td>0.00</td>\n",
              "      <td>0.0</td>\n",
              "      <td>normal</td>\n",
              "    </tr>\n",
              "    <tr>\n",
              "      <th>4</th>\n",
              "      <td>0</td>\n",
              "      <td>tcp</td>\n",
              "      <td>private</td>\n",
              "      <td>SH</td>\n",
              "      <td>0</td>\n",
              "      <td>0</td>\n",
              "      <td>0</td>\n",
              "      <td>0</td>\n",
              "      <td>0</td>\n",
              "      <td>0</td>\n",
              "      <td>...</td>\n",
              "      <td>1</td>\n",
              "      <td>0.06</td>\n",
              "      <td>1.00</td>\n",
              "      <td>1.00</td>\n",
              "      <td>0.0</td>\n",
              "      <td>1.00</td>\n",
              "      <td>1.00</td>\n",
              "      <td>0.00</td>\n",
              "      <td>0.0</td>\n",
              "      <td>anomaly</td>\n",
              "    </tr>\n",
              "  </tbody>\n",
              "</table>\n",
              "<p>5 rows × 42 columns</p>\n",
              "</div>\n",
              "    <div class=\"colab-df-buttons\">\n",
              "\n",
              "  <div class=\"colab-df-container\">\n",
              "    <button class=\"colab-df-convert\" onclick=\"convertToInteractive('df-1b38d919-2cd7-4d84-92fe-8f51d20fce9f')\"\n",
              "            title=\"Convert this dataframe to an interactive table.\"\n",
              "            style=\"display:none;\">\n",
              "\n",
              "  <svg xmlns=\"http://www.w3.org/2000/svg\" height=\"24px\" viewBox=\"0 -960 960 960\">\n",
              "    <path d=\"M120-120v-720h720v720H120Zm60-500h600v-160H180v160Zm220 220h160v-160H400v160Zm0 220h160v-160H400v160ZM180-400h160v-160H180v160Zm440 0h160v-160H620v160ZM180-180h160v-160H180v160Zm440 0h160v-160H620v160Z\"/>\n",
              "  </svg>\n",
              "    </button>\n",
              "\n",
              "  <style>\n",
              "    .colab-df-container {\n",
              "      display:flex;\n",
              "      gap: 12px;\n",
              "    }\n",
              "\n",
              "    .colab-df-convert {\n",
              "      background-color: #E8F0FE;\n",
              "      border: none;\n",
              "      border-radius: 50%;\n",
              "      cursor: pointer;\n",
              "      display: none;\n",
              "      fill: #1967D2;\n",
              "      height: 32px;\n",
              "      padding: 0 0 0 0;\n",
              "      width: 32px;\n",
              "    }\n",
              "\n",
              "    .colab-df-convert:hover {\n",
              "      background-color: #E2EBFA;\n",
              "      box-shadow: 0px 1px 2px rgba(60, 64, 67, 0.3), 0px 1px 3px 1px rgba(60, 64, 67, 0.15);\n",
              "      fill: #174EA6;\n",
              "    }\n",
              "\n",
              "    .colab-df-buttons div {\n",
              "      margin-bottom: 4px;\n",
              "    }\n",
              "\n",
              "    [theme=dark] .colab-df-convert {\n",
              "      background-color: #3B4455;\n",
              "      fill: #D2E3FC;\n",
              "    }\n",
              "\n",
              "    [theme=dark] .colab-df-convert:hover {\n",
              "      background-color: #434B5C;\n",
              "      box-shadow: 0px 1px 3px 1px rgba(0, 0, 0, 0.15);\n",
              "      filter: drop-shadow(0px 1px 2px rgba(0, 0, 0, 0.3));\n",
              "      fill: #FFFFFF;\n",
              "    }\n",
              "  </style>\n",
              "\n",
              "    <script>\n",
              "      const buttonEl =\n",
              "        document.querySelector('#df-1b38d919-2cd7-4d84-92fe-8f51d20fce9f button.colab-df-convert');\n",
              "      buttonEl.style.display =\n",
              "        google.colab.kernel.accessAllowed ? 'block' : 'none';\n",
              "\n",
              "      async function convertToInteractive(key) {\n",
              "        const element = document.querySelector('#df-1b38d919-2cd7-4d84-92fe-8f51d20fce9f');\n",
              "        const dataTable =\n",
              "          await google.colab.kernel.invokeFunction('convertToInteractive',\n",
              "                                                    [key], {});\n",
              "        if (!dataTable) return;\n",
              "\n",
              "        const docLinkHtml = 'Like what you see? Visit the ' +\n",
              "          '<a target=\"_blank\" href=https://colab.research.google.com/notebooks/data_table.ipynb>data table notebook</a>'\n",
              "          + ' to learn more about interactive tables.';\n",
              "        element.innerHTML = '';\n",
              "        dataTable['output_type'] = 'display_data';\n",
              "        await google.colab.output.renderOutput(dataTable, element);\n",
              "        const docLink = document.createElement('div');\n",
              "        docLink.innerHTML = docLinkHtml;\n",
              "        element.appendChild(docLink);\n",
              "      }\n",
              "    </script>\n",
              "  </div>\n",
              "\n",
              "\n",
              "<div id=\"df-067d3fcf-10bc-4876-9883-ad41b040f8b9\">\n",
              "  <button class=\"colab-df-quickchart\" onclick=\"quickchart('df-067d3fcf-10bc-4876-9883-ad41b040f8b9')\"\n",
              "            title=\"Suggest charts\"\n",
              "            style=\"display:none;\">\n",
              "\n",
              "<svg xmlns=\"http://www.w3.org/2000/svg\" height=\"24px\"viewBox=\"0 0 24 24\"\n",
              "     width=\"24px\">\n",
              "    <g>\n",
              "        <path d=\"M19 3H5c-1.1 0-2 .9-2 2v14c0 1.1.9 2 2 2h14c1.1 0 2-.9 2-2V5c0-1.1-.9-2-2-2zM9 17H7v-7h2v7zm4 0h-2V7h2v10zm4 0h-2v-4h2v4z\"/>\n",
              "    </g>\n",
              "</svg>\n",
              "  </button>\n",
              "\n",
              "<style>\n",
              "  .colab-df-quickchart {\n",
              "      --bg-color: #E8F0FE;\n",
              "      --fill-color: #1967D2;\n",
              "      --hover-bg-color: #E2EBFA;\n",
              "      --hover-fill-color: #174EA6;\n",
              "      --disabled-fill-color: #AAA;\n",
              "      --disabled-bg-color: #DDD;\n",
              "  }\n",
              "\n",
              "  [theme=dark] .colab-df-quickchart {\n",
              "      --bg-color: #3B4455;\n",
              "      --fill-color: #D2E3FC;\n",
              "      --hover-bg-color: #434B5C;\n",
              "      --hover-fill-color: #FFFFFF;\n",
              "      --disabled-bg-color: #3B4455;\n",
              "      --disabled-fill-color: #666;\n",
              "  }\n",
              "\n",
              "  .colab-df-quickchart {\n",
              "    background-color: var(--bg-color);\n",
              "    border: none;\n",
              "    border-radius: 50%;\n",
              "    cursor: pointer;\n",
              "    display: none;\n",
              "    fill: var(--fill-color);\n",
              "    height: 32px;\n",
              "    padding: 0;\n",
              "    width: 32px;\n",
              "  }\n",
              "\n",
              "  .colab-df-quickchart:hover {\n",
              "    background-color: var(--hover-bg-color);\n",
              "    box-shadow: 0 1px 2px rgba(60, 64, 67, 0.3), 0 1px 3px 1px rgba(60, 64, 67, 0.15);\n",
              "    fill: var(--button-hover-fill-color);\n",
              "  }\n",
              "\n",
              "  .colab-df-quickchart-complete:disabled,\n",
              "  .colab-df-quickchart-complete:disabled:hover {\n",
              "    background-color: var(--disabled-bg-color);\n",
              "    fill: var(--disabled-fill-color);\n",
              "    box-shadow: none;\n",
              "  }\n",
              "\n",
              "  .colab-df-spinner {\n",
              "    border: 2px solid var(--fill-color);\n",
              "    border-color: transparent;\n",
              "    border-bottom-color: var(--fill-color);\n",
              "    animation:\n",
              "      spin 1s steps(1) infinite;\n",
              "  }\n",
              "\n",
              "  @keyframes spin {\n",
              "    0% {\n",
              "      border-color: transparent;\n",
              "      border-bottom-color: var(--fill-color);\n",
              "      border-left-color: var(--fill-color);\n",
              "    }\n",
              "    20% {\n",
              "      border-color: transparent;\n",
              "      border-left-color: var(--fill-color);\n",
              "      border-top-color: var(--fill-color);\n",
              "    }\n",
              "    30% {\n",
              "      border-color: transparent;\n",
              "      border-left-color: var(--fill-color);\n",
              "      border-top-color: var(--fill-color);\n",
              "      border-right-color: var(--fill-color);\n",
              "    }\n",
              "    40% {\n",
              "      border-color: transparent;\n",
              "      border-right-color: var(--fill-color);\n",
              "      border-top-color: var(--fill-color);\n",
              "    }\n",
              "    60% {\n",
              "      border-color: transparent;\n",
              "      border-right-color: var(--fill-color);\n",
              "    }\n",
              "    80% {\n",
              "      border-color: transparent;\n",
              "      border-right-color: var(--fill-color);\n",
              "      border-bottom-color: var(--fill-color);\n",
              "    }\n",
              "    90% {\n",
              "      border-color: transparent;\n",
              "      border-bottom-color: var(--fill-color);\n",
              "    }\n",
              "  }\n",
              "</style>\n",
              "\n",
              "  <script>\n",
              "    async function quickchart(key) {\n",
              "      const quickchartButtonEl =\n",
              "        document.querySelector('#' + key + ' button');\n",
              "      quickchartButtonEl.disabled = true;  // To prevent multiple clicks.\n",
              "      quickchartButtonEl.classList.add('colab-df-spinner');\n",
              "      try {\n",
              "        const charts = await google.colab.kernel.invokeFunction(\n",
              "            'suggestCharts', [key], {});\n",
              "      } catch (error) {\n",
              "        console.error('Error during call to suggestCharts:', error);\n",
              "      }\n",
              "      quickchartButtonEl.classList.remove('colab-df-spinner');\n",
              "      quickchartButtonEl.classList.add('colab-df-quickchart-complete');\n",
              "    }\n",
              "    (() => {\n",
              "      let quickchartButtonEl =\n",
              "        document.querySelector('#df-067d3fcf-10bc-4876-9883-ad41b040f8b9 button');\n",
              "      quickchartButtonEl.style.display =\n",
              "        google.colab.kernel.accessAllowed ? 'block' : 'none';\n",
              "    })();\n",
              "  </script>\n",
              "</div>\n",
              "    </div>\n",
              "  </div>\n"
            ]
          },
          "metadata": {},
          "execution_count": 202
        }
      ]
    },
    {
      "cell_type": "code",
      "source": [
        "test.dtypes"
      ],
      "metadata": {
        "colab": {
          "base_uri": "https://localhost:8080/"
        },
        "id": "vVgSnAkupG9H",
        "outputId": "8135ab2e-920f-4202-d74b-134dd94ed7a3"
      },
      "execution_count": 203,
      "outputs": [
        {
          "output_type": "execute_result",
          "data": {
            "text/plain": [
              "duration                         int64\n",
              "protocol_type                   object\n",
              "service                         object\n",
              "flag                            object\n",
              "src_bytes                        int64\n",
              "dst_bytes                        int64\n",
              "land                             int64\n",
              "wrong_fragment                   int64\n",
              "urgent                           int64\n",
              "hot                              int64\n",
              "num_failed_logins                int64\n",
              "logged_in                        int64\n",
              "num_compromised                  int64\n",
              "root_shell                       int64\n",
              "su_attempted                     int64\n",
              "num_root                         int64\n",
              "num_file_creations               int64\n",
              "num_shells                       int64\n",
              "num_access_files                 int64\n",
              "num_outbound_cmds                int64\n",
              "is_host_login                    int64\n",
              "is_guest_login                   int64\n",
              "count                            int64\n",
              "srv_count                        int64\n",
              "serror_rate                    float64\n",
              "srv_serror_rate                float64\n",
              " rerror_rate                   float64\n",
              "srv_rerror_rate                float64\n",
              "same_srv_rate                  float64\n",
              "diff_srv_rate                  float64\n",
              "srv_diff_host_rate             float64\n",
              "dst_host_count                   int64\n",
              "dst_host_srv_count               int64\n",
              "dst_host_same_srv_rate         float64\n",
              "dst_host_diff_srv_rate         float64\n",
              "dst_host_same_src_port_rate    float64\n",
              "dst_host_srv_diff_host_rate    float64\n",
              "dst_host_serror_rate           float64\n",
              "dst_host_srv_serror_rate       float64\n",
              "dst_host_rerror_rate           float64\n",
              "dst_host_srv_rerror_rate       float64\n",
              "class                           object\n",
              "dtype: object"
            ]
          },
          "metadata": {},
          "execution_count": 203
        }
      ]
    },
    {
      "cell_type": "code",
      "source": [
        "for col in train.select_dtypes('object').columns:\n",
        "    train[col] = train[col].astype('category')"
      ],
      "metadata": {
        "id": "OMdROf9Fq_fZ"
      },
      "execution_count": 204,
      "outputs": []
    },
    {
      "cell_type": "code",
      "source": [
        "for col in test.select_dtypes('object').columns:\n",
        "    test[col] = test[col].astype('category')"
      ],
      "metadata": {
        "id": "hKJOuCuLrE-E"
      },
      "execution_count": 205,
      "outputs": []
    },
    {
      "cell_type": "code",
      "source": [
        "test.dtypes"
      ],
      "metadata": {
        "colab": {
          "base_uri": "https://localhost:8080/"
        },
        "id": "jkuQN420rK2z",
        "outputId": "0db38341-73d3-46b4-cafe-fcae5e9c5543"
      },
      "execution_count": 206,
      "outputs": [
        {
          "output_type": "execute_result",
          "data": {
            "text/plain": [
              "duration                          int64\n",
              "protocol_type                  category\n",
              "service                        category\n",
              "flag                           category\n",
              "src_bytes                         int64\n",
              "dst_bytes                         int64\n",
              "land                              int64\n",
              "wrong_fragment                    int64\n",
              "urgent                            int64\n",
              "hot                               int64\n",
              "num_failed_logins                 int64\n",
              "logged_in                         int64\n",
              "num_compromised                   int64\n",
              "root_shell                        int64\n",
              "su_attempted                      int64\n",
              "num_root                          int64\n",
              "num_file_creations                int64\n",
              "num_shells                        int64\n",
              "num_access_files                  int64\n",
              "num_outbound_cmds                 int64\n",
              "is_host_login                     int64\n",
              "is_guest_login                    int64\n",
              "count                             int64\n",
              "srv_count                         int64\n",
              "serror_rate                     float64\n",
              "srv_serror_rate                 float64\n",
              " rerror_rate                    float64\n",
              "srv_rerror_rate                 float64\n",
              "same_srv_rate                   float64\n",
              "diff_srv_rate                   float64\n",
              "srv_diff_host_rate              float64\n",
              "dst_host_count                    int64\n",
              "dst_host_srv_count                int64\n",
              "dst_host_same_srv_rate          float64\n",
              "dst_host_diff_srv_rate          float64\n",
              "dst_host_same_src_port_rate     float64\n",
              "dst_host_srv_diff_host_rate     float64\n",
              "dst_host_serror_rate            float64\n",
              "dst_host_srv_serror_rate        float64\n",
              "dst_host_rerror_rate            float64\n",
              "dst_host_srv_rerror_rate        float64\n",
              "class                          category\n",
              "dtype: object"
            ]
          },
          "metadata": {},
          "execution_count": 206
        }
      ]
    },
    {
      "cell_type": "markdown",
      "source": [
        "2.Data Cleaning: Check for any missing or inconsistent data in the dataset. This could involve filling in missing values or correcting anomalies."
      ],
      "metadata": {
        "id": "4EWBjvpVW7iQ"
      }
    },
    {
      "cell_type": "code",
      "source": [
        "train.isna().any()"
      ],
      "metadata": {
        "colab": {
          "base_uri": "https://localhost:8080/"
        },
        "id": "BowccxYvW8HQ",
        "outputId": "624e7333-98d5-4ace-9775-74bcde3c2458"
      },
      "execution_count": 207,
      "outputs": [
        {
          "output_type": "execute_result",
          "data": {
            "text/plain": [
              "duration                       False\n",
              "protocol_type                  False\n",
              "service                        False\n",
              "flag                           False\n",
              "src_bytes                      False\n",
              "dst_bytes                      False\n",
              "land                           False\n",
              "wrong_fragment                 False\n",
              "urgent                         False\n",
              "hot                            False\n",
              "num_failed_logins              False\n",
              "logged_in                      False\n",
              "num_compromised                False\n",
              "root_shell                     False\n",
              "su_attempted                   False\n",
              "num_root                       False\n",
              "num_file_creations             False\n",
              "num_shells                     False\n",
              "num_access_files               False\n",
              "num_outbound_cmds              False\n",
              "is_host_login                  False\n",
              "is_guest_login                 False\n",
              "count                          False\n",
              "srv_count                      False\n",
              "serror_rate                    False\n",
              "srv_serror_rate                False\n",
              " rerror_rate                   False\n",
              "srv_rerror_rate                False\n",
              "same_srv_rate                  False\n",
              "diff_srv_rate                  False\n",
              "srv_diff_host_rate             False\n",
              "dst_host_count                 False\n",
              "dst_host_srv_count             False\n",
              "dst_host_same_srv_rate         False\n",
              "dst_host_diff_srv_rate         False\n",
              "dst_host_same_src_port_rate    False\n",
              "dst_host_srv_diff_host_rate    False\n",
              "dst_host_serror_rate           False\n",
              "dst_host_srv_serror_rate       False\n",
              "dst_host_rerror_rate           False\n",
              "dst_host_srv_rerror_rate       False\n",
              "class                          False\n",
              "dtype: bool"
            ]
          },
          "metadata": {},
          "execution_count": 207
        }
      ]
    },
    {
      "cell_type": "code",
      "source": [
        "test.isna().any()"
      ],
      "metadata": {
        "colab": {
          "base_uri": "https://localhost:8080/"
        },
        "id": "XMl_tjIGaxsC",
        "outputId": "9a9bf106-3b67-4166-a5c0-8bca15881a6d"
      },
      "execution_count": 208,
      "outputs": [
        {
          "output_type": "execute_result",
          "data": {
            "text/plain": [
              "duration                       False\n",
              "protocol_type                  False\n",
              "service                        False\n",
              "flag                           False\n",
              "src_bytes                      False\n",
              "dst_bytes                      False\n",
              "land                           False\n",
              "wrong_fragment                 False\n",
              "urgent                         False\n",
              "hot                            False\n",
              "num_failed_logins              False\n",
              "logged_in                      False\n",
              "num_compromised                False\n",
              "root_shell                     False\n",
              "su_attempted                   False\n",
              "num_root                       False\n",
              "num_file_creations             False\n",
              "num_shells                     False\n",
              "num_access_files               False\n",
              "num_outbound_cmds              False\n",
              "is_host_login                  False\n",
              "is_guest_login                 False\n",
              "count                          False\n",
              "srv_count                      False\n",
              "serror_rate                    False\n",
              "srv_serror_rate                False\n",
              " rerror_rate                   False\n",
              "srv_rerror_rate                False\n",
              "same_srv_rate                  False\n",
              "diff_srv_rate                  False\n",
              "srv_diff_host_rate             False\n",
              "dst_host_count                 False\n",
              "dst_host_srv_count             False\n",
              "dst_host_same_srv_rate         False\n",
              "dst_host_diff_srv_rate         False\n",
              "dst_host_same_src_port_rate    False\n",
              "dst_host_srv_diff_host_rate    False\n",
              "dst_host_serror_rate           False\n",
              "dst_host_srv_serror_rate       False\n",
              "dst_host_rerror_rate           False\n",
              "dst_host_srv_rerror_rate       False\n",
              "class                          False\n",
              "dtype: bool"
            ]
          },
          "metadata": {},
          "execution_count": 208
        }
      ]
    },
    {
      "cell_type": "markdown",
      "source": [
        "3.Encoding Categorical Data: If the dataset contains categorical data, you'll need to encode these into a numerical format. Methods like one-hot encoding or label encoding are typically used."
      ],
      "metadata": {
        "id": "S-yA6RurW9Pa"
      }
    },
    {
      "cell_type": "code",
      "source": [
        "from sklearn.preprocessing import LabelEncoder"
      ],
      "metadata": {
        "id": "4rPNgyzoW9X2"
      },
      "execution_count": 209,
      "outputs": []
    },
    {
      "cell_type": "code",
      "source": [
        "le = LabelEncoder()"
      ],
      "metadata": {
        "id": "NKcsmK2MPiCM"
      },
      "execution_count": 210,
      "outputs": []
    },
    {
      "cell_type": "code",
      "source": [
        "categorical_columns= [\"protocol_type\",\"service\", \"flag\",\"class\"]"
      ],
      "metadata": {
        "id": "Kejlz6BjPl8k"
      },
      "execution_count": 211,
      "outputs": []
    },
    {
      "cell_type": "code",
      "source": [
        "for col in categorical_columns:  # Replace 'categorical_columns' with your list of categorical column names\n",
        "    train[col] = le.fit_transform(train[col])"
      ],
      "metadata": {
        "id": "z9zN3vZiP8JA"
      },
      "execution_count": 212,
      "outputs": []
    },
    {
      "cell_type": "markdown",
      "source": [
        "4.Splitting the Data: Divide your dataset into training, validation, and testing sets. A common split ratio is 70% for training, 15% for validation, and 15% for testing"
      ],
      "metadata": {
        "id": "nCSil-pqYy3V"
      }
    },
    {
      "cell_type": "code",
      "source": [
        "x = train.drop('class', axis=1)\n",
        "y = train['class']"
      ],
      "metadata": {
        "id": "0W8Urty_OX5U"
      },
      "execution_count": 213,
      "outputs": []
    },
    {
      "cell_type": "code",
      "source": [
        "x.head()"
      ],
      "metadata": {
        "colab": {
          "base_uri": "https://localhost:8080/",
          "height": 256
        },
        "id": "WHrdxQTLd45M",
        "outputId": "eaae0e67-58c8-4c75-ed76-fca646d4f28f"
      },
      "execution_count": 214,
      "outputs": [
        {
          "output_type": "execute_result",
          "data": {
            "text/plain": [
              "   duration  protocol_type  service  flag  src_bytes  dst_bytes  land  \\\n",
              "0         0              1       19     9        491          0     0   \n",
              "1         0              2       41     9        146          0     0   \n",
              "2         0              1       46     5          0          0     0   \n",
              "3         0              1       22     9        232       8153     0   \n",
              "4         0              1       22     9        199        420     0   \n",
              "\n",
              "   wrong_fragment  urgent  hot  ...  dst_host_count  dst_host_srv_count  \\\n",
              "0               0       0    0  ...             150                  25   \n",
              "1               0       0    0  ...             255                   1   \n",
              "2               0       0    0  ...             255                  26   \n",
              "3               0       0    0  ...              30                 255   \n",
              "4               0       0    0  ...             255                 255   \n",
              "\n",
              "   dst_host_same_srv_rate  dst_host_diff_srv_rate  \\\n",
              "0                    0.17                    0.03   \n",
              "1                    0.00                    0.60   \n",
              "2                    0.10                    0.05   \n",
              "3                    1.00                    0.00   \n",
              "4                    1.00                    0.00   \n",
              "\n",
              "   dst_host_same_src_port_rate  dst_host_srv_diff_host_rate  \\\n",
              "0                         0.17                         0.00   \n",
              "1                         0.88                         0.00   \n",
              "2                         0.00                         0.00   \n",
              "3                         0.03                         0.04   \n",
              "4                         0.00                         0.00   \n",
              "\n",
              "   dst_host_serror_rate  dst_host_srv_serror_rate  dst_host_rerror_rate  \\\n",
              "0                  0.00                      0.00                  0.05   \n",
              "1                  0.00                      0.00                  0.00   \n",
              "2                  1.00                      1.00                  0.00   \n",
              "3                  0.03                      0.01                  0.00   \n",
              "4                  0.00                      0.00                  0.00   \n",
              "\n",
              "   dst_host_srv_rerror_rate  \n",
              "0                      0.00  \n",
              "1                      0.00  \n",
              "2                      0.00  \n",
              "3                      0.01  \n",
              "4                      0.00  \n",
              "\n",
              "[5 rows x 41 columns]"
            ],
            "text/html": [
              "\n",
              "  <div id=\"df-dbea0331-b220-40fe-bb27-ea9a6423c5e7\" class=\"colab-df-container\">\n",
              "    <div>\n",
              "<style scoped>\n",
              "    .dataframe tbody tr th:only-of-type {\n",
              "        vertical-align: middle;\n",
              "    }\n",
              "\n",
              "    .dataframe tbody tr th {\n",
              "        vertical-align: top;\n",
              "    }\n",
              "\n",
              "    .dataframe thead th {\n",
              "        text-align: right;\n",
              "    }\n",
              "</style>\n",
              "<table border=\"1\" class=\"dataframe\">\n",
              "  <thead>\n",
              "    <tr style=\"text-align: right;\">\n",
              "      <th></th>\n",
              "      <th>duration</th>\n",
              "      <th>protocol_type</th>\n",
              "      <th>service</th>\n",
              "      <th>flag</th>\n",
              "      <th>src_bytes</th>\n",
              "      <th>dst_bytes</th>\n",
              "      <th>land</th>\n",
              "      <th>wrong_fragment</th>\n",
              "      <th>urgent</th>\n",
              "      <th>hot</th>\n",
              "      <th>...</th>\n",
              "      <th>dst_host_count</th>\n",
              "      <th>dst_host_srv_count</th>\n",
              "      <th>dst_host_same_srv_rate</th>\n",
              "      <th>dst_host_diff_srv_rate</th>\n",
              "      <th>dst_host_same_src_port_rate</th>\n",
              "      <th>dst_host_srv_diff_host_rate</th>\n",
              "      <th>dst_host_serror_rate</th>\n",
              "      <th>dst_host_srv_serror_rate</th>\n",
              "      <th>dst_host_rerror_rate</th>\n",
              "      <th>dst_host_srv_rerror_rate</th>\n",
              "    </tr>\n",
              "  </thead>\n",
              "  <tbody>\n",
              "    <tr>\n",
              "      <th>0</th>\n",
              "      <td>0</td>\n",
              "      <td>1</td>\n",
              "      <td>19</td>\n",
              "      <td>9</td>\n",
              "      <td>491</td>\n",
              "      <td>0</td>\n",
              "      <td>0</td>\n",
              "      <td>0</td>\n",
              "      <td>0</td>\n",
              "      <td>0</td>\n",
              "      <td>...</td>\n",
              "      <td>150</td>\n",
              "      <td>25</td>\n",
              "      <td>0.17</td>\n",
              "      <td>0.03</td>\n",
              "      <td>0.17</td>\n",
              "      <td>0.00</td>\n",
              "      <td>0.00</td>\n",
              "      <td>0.00</td>\n",
              "      <td>0.05</td>\n",
              "      <td>0.00</td>\n",
              "    </tr>\n",
              "    <tr>\n",
              "      <th>1</th>\n",
              "      <td>0</td>\n",
              "      <td>2</td>\n",
              "      <td>41</td>\n",
              "      <td>9</td>\n",
              "      <td>146</td>\n",
              "      <td>0</td>\n",
              "      <td>0</td>\n",
              "      <td>0</td>\n",
              "      <td>0</td>\n",
              "      <td>0</td>\n",
              "      <td>...</td>\n",
              "      <td>255</td>\n",
              "      <td>1</td>\n",
              "      <td>0.00</td>\n",
              "      <td>0.60</td>\n",
              "      <td>0.88</td>\n",
              "      <td>0.00</td>\n",
              "      <td>0.00</td>\n",
              "      <td>0.00</td>\n",
              "      <td>0.00</td>\n",
              "      <td>0.00</td>\n",
              "    </tr>\n",
              "    <tr>\n",
              "      <th>2</th>\n",
              "      <td>0</td>\n",
              "      <td>1</td>\n",
              "      <td>46</td>\n",
              "      <td>5</td>\n",
              "      <td>0</td>\n",
              "      <td>0</td>\n",
              "      <td>0</td>\n",
              "      <td>0</td>\n",
              "      <td>0</td>\n",
              "      <td>0</td>\n",
              "      <td>...</td>\n",
              "      <td>255</td>\n",
              "      <td>26</td>\n",
              "      <td>0.10</td>\n",
              "      <td>0.05</td>\n",
              "      <td>0.00</td>\n",
              "      <td>0.00</td>\n",
              "      <td>1.00</td>\n",
              "      <td>1.00</td>\n",
              "      <td>0.00</td>\n",
              "      <td>0.00</td>\n",
              "    </tr>\n",
              "    <tr>\n",
              "      <th>3</th>\n",
              "      <td>0</td>\n",
              "      <td>1</td>\n",
              "      <td>22</td>\n",
              "      <td>9</td>\n",
              "      <td>232</td>\n",
              "      <td>8153</td>\n",
              "      <td>0</td>\n",
              "      <td>0</td>\n",
              "      <td>0</td>\n",
              "      <td>0</td>\n",
              "      <td>...</td>\n",
              "      <td>30</td>\n",
              "      <td>255</td>\n",
              "      <td>1.00</td>\n",
              "      <td>0.00</td>\n",
              "      <td>0.03</td>\n",
              "      <td>0.04</td>\n",
              "      <td>0.03</td>\n",
              "      <td>0.01</td>\n",
              "      <td>0.00</td>\n",
              "      <td>0.01</td>\n",
              "    </tr>\n",
              "    <tr>\n",
              "      <th>4</th>\n",
              "      <td>0</td>\n",
              "      <td>1</td>\n",
              "      <td>22</td>\n",
              "      <td>9</td>\n",
              "      <td>199</td>\n",
              "      <td>420</td>\n",
              "      <td>0</td>\n",
              "      <td>0</td>\n",
              "      <td>0</td>\n",
              "      <td>0</td>\n",
              "      <td>...</td>\n",
              "      <td>255</td>\n",
              "      <td>255</td>\n",
              "      <td>1.00</td>\n",
              "      <td>0.00</td>\n",
              "      <td>0.00</td>\n",
              "      <td>0.00</td>\n",
              "      <td>0.00</td>\n",
              "      <td>0.00</td>\n",
              "      <td>0.00</td>\n",
              "      <td>0.00</td>\n",
              "    </tr>\n",
              "  </tbody>\n",
              "</table>\n",
              "<p>5 rows × 41 columns</p>\n",
              "</div>\n",
              "    <div class=\"colab-df-buttons\">\n",
              "\n",
              "  <div class=\"colab-df-container\">\n",
              "    <button class=\"colab-df-convert\" onclick=\"convertToInteractive('df-dbea0331-b220-40fe-bb27-ea9a6423c5e7')\"\n",
              "            title=\"Convert this dataframe to an interactive table.\"\n",
              "            style=\"display:none;\">\n",
              "\n",
              "  <svg xmlns=\"http://www.w3.org/2000/svg\" height=\"24px\" viewBox=\"0 -960 960 960\">\n",
              "    <path d=\"M120-120v-720h720v720H120Zm60-500h600v-160H180v160Zm220 220h160v-160H400v160Zm0 220h160v-160H400v160ZM180-400h160v-160H180v160Zm440 0h160v-160H620v160ZM180-180h160v-160H180v160Zm440 0h160v-160H620v160Z\"/>\n",
              "  </svg>\n",
              "    </button>\n",
              "\n",
              "  <style>\n",
              "    .colab-df-container {\n",
              "      display:flex;\n",
              "      gap: 12px;\n",
              "    }\n",
              "\n",
              "    .colab-df-convert {\n",
              "      background-color: #E8F0FE;\n",
              "      border: none;\n",
              "      border-radius: 50%;\n",
              "      cursor: pointer;\n",
              "      display: none;\n",
              "      fill: #1967D2;\n",
              "      height: 32px;\n",
              "      padding: 0 0 0 0;\n",
              "      width: 32px;\n",
              "    }\n",
              "\n",
              "    .colab-df-convert:hover {\n",
              "      background-color: #E2EBFA;\n",
              "      box-shadow: 0px 1px 2px rgba(60, 64, 67, 0.3), 0px 1px 3px 1px rgba(60, 64, 67, 0.15);\n",
              "      fill: #174EA6;\n",
              "    }\n",
              "\n",
              "    .colab-df-buttons div {\n",
              "      margin-bottom: 4px;\n",
              "    }\n",
              "\n",
              "    [theme=dark] .colab-df-convert {\n",
              "      background-color: #3B4455;\n",
              "      fill: #D2E3FC;\n",
              "    }\n",
              "\n",
              "    [theme=dark] .colab-df-convert:hover {\n",
              "      background-color: #434B5C;\n",
              "      box-shadow: 0px 1px 3px 1px rgba(0, 0, 0, 0.15);\n",
              "      filter: drop-shadow(0px 1px 2px rgba(0, 0, 0, 0.3));\n",
              "      fill: #FFFFFF;\n",
              "    }\n",
              "  </style>\n",
              "\n",
              "    <script>\n",
              "      const buttonEl =\n",
              "        document.querySelector('#df-dbea0331-b220-40fe-bb27-ea9a6423c5e7 button.colab-df-convert');\n",
              "      buttonEl.style.display =\n",
              "        google.colab.kernel.accessAllowed ? 'block' : 'none';\n",
              "\n",
              "      async function convertToInteractive(key) {\n",
              "        const element = document.querySelector('#df-dbea0331-b220-40fe-bb27-ea9a6423c5e7');\n",
              "        const dataTable =\n",
              "          await google.colab.kernel.invokeFunction('convertToInteractive',\n",
              "                                                    [key], {});\n",
              "        if (!dataTable) return;\n",
              "\n",
              "        const docLinkHtml = 'Like what you see? Visit the ' +\n",
              "          '<a target=\"_blank\" href=https://colab.research.google.com/notebooks/data_table.ipynb>data table notebook</a>'\n",
              "          + ' to learn more about interactive tables.';\n",
              "        element.innerHTML = '';\n",
              "        dataTable['output_type'] = 'display_data';\n",
              "        await google.colab.output.renderOutput(dataTable, element);\n",
              "        const docLink = document.createElement('div');\n",
              "        docLink.innerHTML = docLinkHtml;\n",
              "        element.appendChild(docLink);\n",
              "      }\n",
              "    </script>\n",
              "  </div>\n",
              "\n",
              "\n",
              "<div id=\"df-b9e333f8-6958-4faf-a324-3111890b70bd\">\n",
              "  <button class=\"colab-df-quickchart\" onclick=\"quickchart('df-b9e333f8-6958-4faf-a324-3111890b70bd')\"\n",
              "            title=\"Suggest charts\"\n",
              "            style=\"display:none;\">\n",
              "\n",
              "<svg xmlns=\"http://www.w3.org/2000/svg\" height=\"24px\"viewBox=\"0 0 24 24\"\n",
              "     width=\"24px\">\n",
              "    <g>\n",
              "        <path d=\"M19 3H5c-1.1 0-2 .9-2 2v14c0 1.1.9 2 2 2h14c1.1 0 2-.9 2-2V5c0-1.1-.9-2-2-2zM9 17H7v-7h2v7zm4 0h-2V7h2v10zm4 0h-2v-4h2v4z\"/>\n",
              "    </g>\n",
              "</svg>\n",
              "  </button>\n",
              "\n",
              "<style>\n",
              "  .colab-df-quickchart {\n",
              "      --bg-color: #E8F0FE;\n",
              "      --fill-color: #1967D2;\n",
              "      --hover-bg-color: #E2EBFA;\n",
              "      --hover-fill-color: #174EA6;\n",
              "      --disabled-fill-color: #AAA;\n",
              "      --disabled-bg-color: #DDD;\n",
              "  }\n",
              "\n",
              "  [theme=dark] .colab-df-quickchart {\n",
              "      --bg-color: #3B4455;\n",
              "      --fill-color: #D2E3FC;\n",
              "      --hover-bg-color: #434B5C;\n",
              "      --hover-fill-color: #FFFFFF;\n",
              "      --disabled-bg-color: #3B4455;\n",
              "      --disabled-fill-color: #666;\n",
              "  }\n",
              "\n",
              "  .colab-df-quickchart {\n",
              "    background-color: var(--bg-color);\n",
              "    border: none;\n",
              "    border-radius: 50%;\n",
              "    cursor: pointer;\n",
              "    display: none;\n",
              "    fill: var(--fill-color);\n",
              "    height: 32px;\n",
              "    padding: 0;\n",
              "    width: 32px;\n",
              "  }\n",
              "\n",
              "  .colab-df-quickchart:hover {\n",
              "    background-color: var(--hover-bg-color);\n",
              "    box-shadow: 0 1px 2px rgba(60, 64, 67, 0.3), 0 1px 3px 1px rgba(60, 64, 67, 0.15);\n",
              "    fill: var(--button-hover-fill-color);\n",
              "  }\n",
              "\n",
              "  .colab-df-quickchart-complete:disabled,\n",
              "  .colab-df-quickchart-complete:disabled:hover {\n",
              "    background-color: var(--disabled-bg-color);\n",
              "    fill: var(--disabled-fill-color);\n",
              "    box-shadow: none;\n",
              "  }\n",
              "\n",
              "  .colab-df-spinner {\n",
              "    border: 2px solid var(--fill-color);\n",
              "    border-color: transparent;\n",
              "    border-bottom-color: var(--fill-color);\n",
              "    animation:\n",
              "      spin 1s steps(1) infinite;\n",
              "  }\n",
              "\n",
              "  @keyframes spin {\n",
              "    0% {\n",
              "      border-color: transparent;\n",
              "      border-bottom-color: var(--fill-color);\n",
              "      border-left-color: var(--fill-color);\n",
              "    }\n",
              "    20% {\n",
              "      border-color: transparent;\n",
              "      border-left-color: var(--fill-color);\n",
              "      border-top-color: var(--fill-color);\n",
              "    }\n",
              "    30% {\n",
              "      border-color: transparent;\n",
              "      border-left-color: var(--fill-color);\n",
              "      border-top-color: var(--fill-color);\n",
              "      border-right-color: var(--fill-color);\n",
              "    }\n",
              "    40% {\n",
              "      border-color: transparent;\n",
              "      border-right-color: var(--fill-color);\n",
              "      border-top-color: var(--fill-color);\n",
              "    }\n",
              "    60% {\n",
              "      border-color: transparent;\n",
              "      border-right-color: var(--fill-color);\n",
              "    }\n",
              "    80% {\n",
              "      border-color: transparent;\n",
              "      border-right-color: var(--fill-color);\n",
              "      border-bottom-color: var(--fill-color);\n",
              "    }\n",
              "    90% {\n",
              "      border-color: transparent;\n",
              "      border-bottom-color: var(--fill-color);\n",
              "    }\n",
              "  }\n",
              "</style>\n",
              "\n",
              "  <script>\n",
              "    async function quickchart(key) {\n",
              "      const quickchartButtonEl =\n",
              "        document.querySelector('#' + key + ' button');\n",
              "      quickchartButtonEl.disabled = true;  // To prevent multiple clicks.\n",
              "      quickchartButtonEl.classList.add('colab-df-spinner');\n",
              "      try {\n",
              "        const charts = await google.colab.kernel.invokeFunction(\n",
              "            'suggestCharts', [key], {});\n",
              "      } catch (error) {\n",
              "        console.error('Error during call to suggestCharts:', error);\n",
              "      }\n",
              "      quickchartButtonEl.classList.remove('colab-df-spinner');\n",
              "      quickchartButtonEl.classList.add('colab-df-quickchart-complete');\n",
              "    }\n",
              "    (() => {\n",
              "      let quickchartButtonEl =\n",
              "        document.querySelector('#df-b9e333f8-6958-4faf-a324-3111890b70bd button');\n",
              "      quickchartButtonEl.style.display =\n",
              "        google.colab.kernel.accessAllowed ? 'block' : 'none';\n",
              "    })();\n",
              "  </script>\n",
              "</div>\n",
              "    </div>\n",
              "  </div>\n"
            ]
          },
          "metadata": {},
          "execution_count": 214
        }
      ]
    },
    {
      "cell_type": "code",
      "source": [
        "x.shape"
      ],
      "metadata": {
        "colab": {
          "base_uri": "https://localhost:8080/"
        },
        "id": "7_jrCdzsRnHu",
        "outputId": "697e1077-57cf-4188-cae3-a332df25dfcd"
      },
      "execution_count": 215,
      "outputs": [
        {
          "output_type": "execute_result",
          "data": {
            "text/plain": [
              "(25192, 41)"
            ]
          },
          "metadata": {},
          "execution_count": 215
        }
      ]
    },
    {
      "cell_type": "code",
      "source": [
        "class_counts = y.value_counts()\n",
        "print(class_counts)"
      ],
      "metadata": {
        "colab": {
          "base_uri": "https://localhost:8080/"
        },
        "id": "2XqTKo6dzPdR",
        "outputId": "1c4b769e-6274-4711-8d64-a1b537b0a54d"
      },
      "execution_count": 216,
      "outputs": [
        {
          "output_type": "stream",
          "name": "stdout",
          "text": [
            "1    13449\n",
            "0    11743\n",
            "Name: class, dtype: int64\n"
          ]
        }
      ]
    },
    {
      "cell_type": "code",
      "source": [
        "from sklearn.model_selection import train_test_split"
      ],
      "metadata": {
        "id": "RIX_8JB5QRDG"
      },
      "execution_count": 217,
      "outputs": []
    },
    {
      "cell_type": "code",
      "source": [
        "x_train, x_val, y_train, y_val = train_test_split(x, y, test_size=0.2, random_state=42)\n"
      ],
      "metadata": {
        "id": "MT5JA19QQsPv"
      },
      "execution_count": 218,
      "outputs": []
    },
    {
      "cell_type": "code",
      "source": [
        "x_train.shape"
      ],
      "metadata": {
        "colab": {
          "base_uri": "https://localhost:8080/"
        },
        "id": "zOQxNc2CRdkv",
        "outputId": "cb372605-f3cf-4f04-f556-460dba40c92f"
      },
      "execution_count": 219,
      "outputs": [
        {
          "output_type": "execute_result",
          "data": {
            "text/plain": [
              "(20153, 41)"
            ]
          },
          "metadata": {},
          "execution_count": 219
        }
      ]
    },
    {
      "cell_type": "code",
      "source": [
        "x_val.shape"
      ],
      "metadata": {
        "colab": {
          "base_uri": "https://localhost:8080/"
        },
        "id": "Lc2uBFeXRg2F",
        "outputId": "841e2ff2-834e-47ae-b046-ac6b8b556cdb"
      },
      "execution_count": 220,
      "outputs": [
        {
          "output_type": "execute_result",
          "data": {
            "text/plain": [
              "(5039, 41)"
            ]
          },
          "metadata": {},
          "execution_count": 220
        }
      ]
    },
    {
      "cell_type": "markdown",
      "source": [
        "4.Normalization: Scale the features so that they contribute equally to the model's training process. Techniques like min-max scaling or standardization are commonly used."
      ],
      "metadata": {
        "id": "p7hKElhHW87o"
      }
    },
    {
      "cell_type": "code",
      "source": [
        "from sklearn.preprocessing import StandardScaler"
      ],
      "metadata": {
        "id": "ZFFSs0W7W8wG"
      },
      "execution_count": 221,
      "outputs": []
    },
    {
      "cell_type": "code",
      "source": [
        "# Initialize the scaler\n",
        "scaler = StandardScaler()\n",
        "\n",
        "# Fit the scaler on the training data and transform it\n",
        "x_train_scaled = scaler.fit_transform(x_train)\n",
        "\n",
        "# Transform the test data with the same scaler\n",
        "x_val_scaled = scaler.transform(x_val)"
      ],
      "metadata": {
        "id": "S7FcOd53W9GW"
      },
      "execution_count": 222,
      "outputs": []
    },
    {
      "cell_type": "code",
      "source": [
        "x_train_scaled"
      ],
      "metadata": {
        "colab": {
          "base_uri": "https://localhost:8080/"
        },
        "id": "TH89vSxEXkkp",
        "outputId": "04c7b7fb-5512-44af-83da-2288e3aef455"
      },
      "execution_count": 223,
      "outputs": [
        {
          "output_type": "execute_result",
          "data": {
            "text/plain": [
              "array([[-0.11552397, -2.46174283, -1.03112583, ..., -0.6244522 ,\n",
              "        -0.3863201 , -0.37508109],\n",
              "       [-0.11552397, -0.12993689,  1.08531873, ...,  1.62297174,\n",
              "        -0.3863201 , -0.37508109],\n",
              "       [-0.11552397, -0.12993689,  0.76464531, ..., -0.6244522 ,\n",
              "        -0.3863201 , -0.37508109],\n",
              "       ...,\n",
              "       [-0.11552397, -0.12993689, -0.45391368, ..., -0.6244522 ,\n",
              "         2.87815372,  2.77122865],\n",
              "       [-0.11552397, -0.12993689, -0.45391368, ..., -0.6244522 ,\n",
              "        -0.3863201 , -0.37508109],\n",
              "       [-0.11552397, -0.12993689,  1.08531873, ...,  1.62297174,\n",
              "        -0.3863201 , -0.37508109]])"
            ]
          },
          "metadata": {},
          "execution_count": 223
        }
      ]
    },
    {
      "cell_type": "markdown",
      "source": [
        "##Build and Train DNN"
      ],
      "metadata": {
        "id": "2EkjcI8CZJq6"
      }
    },
    {
      "cell_type": "markdown",
      "source": [
        "1.Design the Network Architecture: Decide on the number of layers and neurons in each layer. For a start, you can use a simple architecture with two or three hidden layers"
      ],
      "metadata": {
        "id": "1NAkmai8ZP8M"
      }
    },
    {
      "cell_type": "code",
      "source": [
        "from tensorflow import keras\n",
        "from tensorflow.keras import layers\n",
        "from tensorflow.keras.callbacks import EarlyStopping, ModelCheckpoint"
      ],
      "metadata": {
        "id": "kYuD7vc7ZJQH"
      },
      "execution_count": 224,
      "outputs": []
    },
    {
      "cell_type": "code",
      "source": [
        "x_train_scaled.shape"
      ],
      "metadata": {
        "colab": {
          "base_uri": "https://localhost:8080/"
        },
        "id": "Rc0YUpW0duy4",
        "outputId": "ca254167-cc36-40a9-bd45-396d53b0cb6e"
      },
      "execution_count": 225,
      "outputs": [
        {
          "output_type": "execute_result",
          "data": {
            "text/plain": [
              "(20153, 41)"
            ]
          },
          "metadata": {},
          "execution_count": 225
        }
      ]
    },
    {
      "cell_type": "code",
      "source": [
        "def make_model():\n",
        "  inputs   = keras.Input(shape=(x_train_scaled.shape[1]), name= \"my_input\")\n",
        "  features = layers.Dense(128, activation='relu',   name='first_layer')(inputs)\n",
        "  features = layers.Dense(64, activation='relu',   name='second_layer')(features)\n",
        "  features = layers.Dense(32, activation='relu',   name='third_layer')(features)\n",
        "  outputs   = layers.Dense(1,  activation='sigmoid',name='output_layer')(features)\n",
        "  model_functional = keras.Model(inputs=inputs, outputs=outputs)\n",
        "  model_functional.compile(optimizer='adam', loss='binary_crossentropy', metrics=['accuracy'])\n",
        "  return model_functional"
      ],
      "metadata": {
        "id": "LzLvI07jYggG"
      },
      "execution_count": 226,
      "outputs": []
    },
    {
      "cell_type": "code",
      "source": [
        "def make_model_dropout():\n",
        "  d_rate = .5 #lets test .2-.5\n",
        "  inputs_d   = keras.Input(shape=(x_train_scaled.shape[1]), name= \"my_input_d\")\n",
        "  features_d = layers.Dense(128, activation='relu', name='first_layer_d')(inputs_d)\n",
        "  features_d = layers.Dropout(d_rate)(features_d)\n",
        "  features_d = layers.Dense(64, activation='relu', name='second_layer_d')(features_d)\n",
        "  features_d = layers.Dropout(d_rate)(features_d)\n",
        "  features_d = layers.Dense(32, activation='relu', name='third_layer_d')(features_d)\n",
        "  features_d = layers.Dropout(d_rate)(features_d)\n",
        "  outputs_d   = layers.Dense(1,  activation='sigmoid', name='output_layer_d')(features_d)\n",
        "  model_functional_d = keras.Model(inputs=inputs_d, outputs=outputs_d)\n",
        "  model_functional_d.compile(optimizer='adam', loss='binary_crossentropy', metrics=['accuracy'])\n",
        "  return model_functional_d"
      ],
      "metadata": {
        "id": "XX8mvI5PZEmf"
      },
      "execution_count": 227,
      "outputs": []
    },
    {
      "cell_type": "code",
      "source": [
        "model = make_model()\n",
        "model_d = make_model_dropout()\n",
        "make_model_dropout().summary()"
      ],
      "metadata": {
        "colab": {
          "base_uri": "https://localhost:8080/"
        },
        "id": "77Fw2bfuZklk",
        "outputId": "809cf478-a9c1-4fe4-850f-4e03ae5af0ab"
      },
      "execution_count": 228,
      "outputs": [
        {
          "output_type": "stream",
          "name": "stdout",
          "text": [
            "Model: \"model_22\"\n",
            "_________________________________________________________________\n",
            " Layer (type)                Output Shape              Param #   \n",
            "=================================================================\n",
            " my_input_d (InputLayer)     [(None, 41)]              0         \n",
            "                                                                 \n",
            " first_layer_d (Dense)       (None, 128)               5376      \n",
            "                                                                 \n",
            " dropout_55 (Dropout)        (None, 128)               0         \n",
            "                                                                 \n",
            " second_layer_d (Dense)      (None, 64)                8256      \n",
            "                                                                 \n",
            " dropout_56 (Dropout)        (None, 64)                0         \n",
            "                                                                 \n",
            " third_layer_d (Dense)       (None, 32)                2080      \n",
            "                                                                 \n",
            " dropout_57 (Dropout)        (None, 32)                0         \n",
            "                                                                 \n",
            " output_layer_d (Dense)      (None, 1)                 33        \n",
            "                                                                 \n",
            "=================================================================\n",
            "Total params: 15745 (61.50 KB)\n",
            "Trainable params: 15745 (61.50 KB)\n",
            "Non-trainable params: 0 (0.00 Byte)\n",
            "_________________________________________________________________\n"
          ]
        }
      ]
    },
    {
      "cell_type": "markdown",
      "source": [
        "2.Select Hyperparameters: Choose the learning rate, batch size, and number of epochs. A lower learning rate with a higher number of epochs can often yield better results"
      ],
      "metadata": {
        "id": "rSdGbt76ZTwD"
      }
    },
    {
      "cell_type": "markdown",
      "source": [
        "3.Training the Model: Use the training data to train the model. Make sure to monitor the performance on the validation set to avoid overfitting."
      ],
      "metadata": {
        "id": "qoTWJYVoZjfF"
      }
    },
    {
      "cell_type": "code",
      "source": [
        "early_stopping   = EarlyStopping(monitor='val_loss', mode='min', verbose=1, patience=10)\n",
        "model_checkpoint = ModelCheckpoint(monitor='val_loss', save_best_only=True, filepath=\"model_checkpoint.h5\") #model_checkpoint.keras#model_checkpoint.h5\n",
        "callback_list    = [early_stopping,model_checkpoint]\n",
        "history = model.fit(x_train_scaled,y_train, validation_data=(x_val_scaled, y_val), epochs=50, batch_size=64,\n",
        "          callbacks=callback_list)"
      ],
      "metadata": {
        "colab": {
          "base_uri": "https://localhost:8080/"
        },
        "id": "Pzmmh2nLzPIX",
        "outputId": "6c341dbf-8577-4668-a098-30617c27eaf4"
      },
      "execution_count": 229,
      "outputs": [
        {
          "output_type": "stream",
          "name": "stdout",
          "text": [
            "Epoch 1/50\n",
            "315/315 [==============================] - 3s 6ms/step - loss: 0.1077 - accuracy: 0.9636 - val_loss: 0.0548 - val_accuracy: 0.9790\n",
            "Epoch 2/50\n",
            " 33/315 [==>...........................] - ETA: 1s - loss: 0.0494 - accuracy: 0.9796"
          ]
        },
        {
          "output_type": "stream",
          "name": "stderr",
          "text": [
            "/usr/local/lib/python3.10/dist-packages/keras/src/engine/training.py:3079: UserWarning: You are saving your model as an HDF5 file via `model.save()`. This file format is considered legacy. We recommend using instead the native Keras format, e.g. `model.save('my_model.keras')`.\n",
            "  saving_api.save_model(\n"
          ]
        },
        {
          "output_type": "stream",
          "name": "stdout",
          "text": [
            "315/315 [==============================] - 2s 6ms/step - loss: 0.0438 - accuracy: 0.9839 - val_loss: 0.0359 - val_accuracy: 0.9877\n",
            "Epoch 3/50\n",
            "315/315 [==============================] - 1s 5ms/step - loss: 0.0315 - accuracy: 0.9893 - val_loss: 0.0314 - val_accuracy: 0.9893\n",
            "Epoch 4/50\n",
            "315/315 [==============================] - 1s 4ms/step - loss: 0.0275 - accuracy: 0.9905 - val_loss: 0.0319 - val_accuracy: 0.9881\n",
            "Epoch 5/50\n",
            "315/315 [==============================] - 1s 4ms/step - loss: 0.0238 - accuracy: 0.9923 - val_loss: 0.0327 - val_accuracy: 0.9873\n",
            "Epoch 6/50\n",
            "315/315 [==============================] - 1s 5ms/step - loss: 0.0212 - accuracy: 0.9923 - val_loss: 0.0287 - val_accuracy: 0.9925\n",
            "Epoch 7/50\n",
            "315/315 [==============================] - 1s 5ms/step - loss: 0.0189 - accuracy: 0.9934 - val_loss: 0.0241 - val_accuracy: 0.9907\n",
            "Epoch 8/50\n",
            "315/315 [==============================] - 1s 4ms/step - loss: 0.0187 - accuracy: 0.9933 - val_loss: 0.0266 - val_accuracy: 0.9933\n",
            "Epoch 9/50\n",
            "315/315 [==============================] - 1s 5ms/step - loss: 0.0174 - accuracy: 0.9934 - val_loss: 0.0267 - val_accuracy: 0.9921\n",
            "Epoch 10/50\n",
            "315/315 [==============================] - 2s 6ms/step - loss: 0.0177 - accuracy: 0.9935 - val_loss: 0.0273 - val_accuracy: 0.9931\n",
            "Epoch 11/50\n",
            "315/315 [==============================] - 2s 6ms/step - loss: 0.0164 - accuracy: 0.9941 - val_loss: 0.0264 - val_accuracy: 0.9931\n",
            "Epoch 12/50\n",
            "315/315 [==============================] - 2s 5ms/step - loss: 0.0192 - accuracy: 0.9936 - val_loss: 0.0270 - val_accuracy: 0.9925\n",
            "Epoch 13/50\n",
            "315/315 [==============================] - 1s 5ms/step - loss: 0.0141 - accuracy: 0.9951 - val_loss: 0.0251 - val_accuracy: 0.9923\n",
            "Epoch 14/50\n",
            "315/315 [==============================] - 1s 5ms/step - loss: 0.0139 - accuracy: 0.9942 - val_loss: 0.0271 - val_accuracy: 0.9942\n",
            "Epoch 15/50\n",
            "315/315 [==============================] - 1s 4ms/step - loss: 0.0124 - accuracy: 0.9953 - val_loss: 0.0301 - val_accuracy: 0.9935\n",
            "Epoch 16/50\n",
            "315/315 [==============================] - 1s 5ms/step - loss: 0.0145 - accuracy: 0.9948 - val_loss: 0.0295 - val_accuracy: 0.9931\n",
            "Epoch 17/50\n",
            "315/315 [==============================] - 1s 5ms/step - loss: 0.0121 - accuracy: 0.9954 - val_loss: 0.0261 - val_accuracy: 0.9935\n",
            "Epoch 17: early stopping\n"
          ]
        }
      ]
    },
    {
      "cell_type": "code",
      "source": [
        "early_stopping_d   = EarlyStopping(monitor='val_loss', mode='min', verbose=1, patience=10)\n",
        "model_checkpoint_d = ModelCheckpoint(monitor='val_loss', save_best_only=True, filepath=\"model_checkpoint_d.h5\") #model_checkpoint.keras#model_checkpoint.h5\n",
        "callback_list_d    = [early_stopping_d,model_checkpoint_d]\n",
        "history_d = model_d.fit(x_train_scaled,y_train, validation_data=(x_val_scaled, y_val), epochs=50, batch_size=64,\n",
        "          callbacks=callback_list_d)"
      ],
      "metadata": {
        "colab": {
          "base_uri": "https://localhost:8080/"
        },
        "id": "f7YFHPfuZpA2",
        "outputId": "e9a252c9-0cb7-4639-95fd-aa43c178446a"
      },
      "execution_count": 230,
      "outputs": [
        {
          "output_type": "stream",
          "name": "stdout",
          "text": [
            "Epoch 1/50\n",
            "315/315 [==============================] - 4s 7ms/step - loss: 0.2315 - accuracy: 0.9145 - val_loss: 0.0833 - val_accuracy: 0.9698\n",
            "Epoch 2/50\n",
            "315/315 [==============================] - 2s 6ms/step - loss: 0.1134 - accuracy: 0.9622 - val_loss: 0.0562 - val_accuracy: 0.9750\n",
            "Epoch 3/50\n",
            "315/315 [==============================] - 1s 5ms/step - loss: 0.0893 - accuracy: 0.9687 - val_loss: 0.0432 - val_accuracy: 0.9790\n",
            "Epoch 4/50\n",
            "315/315 [==============================] - 1s 5ms/step - loss: 0.0666 - accuracy: 0.9757 - val_loss: 0.0386 - val_accuracy: 0.9853\n",
            "Epoch 5/50\n",
            "315/315 [==============================] - 1s 5ms/step - loss: 0.0642 - accuracy: 0.9790 - val_loss: 0.0360 - val_accuracy: 0.9857\n",
            "Epoch 6/50\n",
            "315/315 [==============================] - 1s 5ms/step - loss: 0.0580 - accuracy: 0.9827 - val_loss: 0.0349 - val_accuracy: 0.9877\n",
            "Epoch 7/50\n",
            "315/315 [==============================] - 2s 5ms/step - loss: 0.0528 - accuracy: 0.9833 - val_loss: 0.0306 - val_accuracy: 0.9875\n",
            "Epoch 8/50\n",
            "315/315 [==============================] - 2s 7ms/step - loss: 0.0465 - accuracy: 0.9851 - val_loss: 0.0284 - val_accuracy: 0.9895\n",
            "Epoch 9/50\n",
            "315/315 [==============================] - 3s 8ms/step - loss: 0.0441 - accuracy: 0.9857 - val_loss: 0.0285 - val_accuracy: 0.9879\n",
            "Epoch 10/50\n",
            "315/315 [==============================] - 2s 7ms/step - loss: 0.0429 - accuracy: 0.9847 - val_loss: 0.0270 - val_accuracy: 0.9889\n",
            "Epoch 11/50\n",
            "315/315 [==============================] - 1s 5ms/step - loss: 0.0435 - accuracy: 0.9864 - val_loss: 0.0260 - val_accuracy: 0.9893\n",
            "Epoch 12/50\n",
            "315/315 [==============================] - 2s 5ms/step - loss: 0.0388 - accuracy: 0.9868 - val_loss: 0.0259 - val_accuracy: 0.9889\n",
            "Epoch 13/50\n",
            "315/315 [==============================] - 2s 5ms/step - loss: 0.0399 - accuracy: 0.9864 - val_loss: 0.0239 - val_accuracy: 0.9903\n",
            "Epoch 14/50\n",
            "315/315 [==============================] - 1s 5ms/step - loss: 0.0358 - accuracy: 0.9872 - val_loss: 0.0238 - val_accuracy: 0.9903\n",
            "Epoch 15/50\n",
            "315/315 [==============================] - 2s 5ms/step - loss: 0.0362 - accuracy: 0.9877 - val_loss: 0.0215 - val_accuracy: 0.9905\n",
            "Epoch 16/50\n",
            "315/315 [==============================] - 1s 4ms/step - loss: 0.0342 - accuracy: 0.9881 - val_loss: 0.0220 - val_accuracy: 0.9907\n",
            "Epoch 17/50\n",
            "315/315 [==============================] - 2s 5ms/step - loss: 0.0342 - accuracy: 0.9881 - val_loss: 0.0220 - val_accuracy: 0.9911\n",
            "Epoch 18/50\n",
            "315/315 [==============================] - 2s 6ms/step - loss: 0.0338 - accuracy: 0.9874 - val_loss: 0.0235 - val_accuracy: 0.9903\n",
            "Epoch 19/50\n",
            "315/315 [==============================] - 2s 5ms/step - loss: 0.0317 - accuracy: 0.9878 - val_loss: 0.0234 - val_accuracy: 0.9905\n",
            "Epoch 20/50\n",
            "315/315 [==============================] - 1s 4ms/step - loss: 0.0328 - accuracy: 0.9882 - val_loss: 0.0226 - val_accuracy: 0.9907\n",
            "Epoch 21/50\n",
            "315/315 [==============================] - 2s 5ms/step - loss: 0.0322 - accuracy: 0.9876 - val_loss: 0.0217 - val_accuracy: 0.9919\n",
            "Epoch 22/50\n",
            "315/315 [==============================] - 1s 4ms/step - loss: 0.0318 - accuracy: 0.9889 - val_loss: 0.0244 - val_accuracy: 0.9901\n",
            "Epoch 23/50\n",
            "315/315 [==============================] - 1s 4ms/step - loss: 0.0303 - accuracy: 0.9883 - val_loss: 0.0198 - val_accuracy: 0.9915\n",
            "Epoch 24/50\n",
            "315/315 [==============================] - 1s 4ms/step - loss: 0.0306 - accuracy: 0.9892 - val_loss: 0.0202 - val_accuracy: 0.9917\n",
            "Epoch 25/50\n",
            "315/315 [==============================] - 2s 5ms/step - loss: 0.0284 - accuracy: 0.9902 - val_loss: 0.0204 - val_accuracy: 0.9913\n",
            "Epoch 26/50\n",
            "315/315 [==============================] - 2s 6ms/step - loss: 0.0284 - accuracy: 0.9899 - val_loss: 0.0242 - val_accuracy: 0.9903\n",
            "Epoch 27/50\n",
            "315/315 [==============================] - 2s 6ms/step - loss: 0.0293 - accuracy: 0.9892 - val_loss: 0.0219 - val_accuracy: 0.9911\n",
            "Epoch 28/50\n",
            "315/315 [==============================] - 2s 5ms/step - loss: 0.0287 - accuracy: 0.9892 - val_loss: 0.0227 - val_accuracy: 0.9915\n",
            "Epoch 29/50\n",
            "315/315 [==============================] - 2s 5ms/step - loss: 0.0268 - accuracy: 0.9899 - val_loss: 0.0248 - val_accuracy: 0.9911\n",
            "Epoch 30/50\n",
            "315/315 [==============================] - 2s 5ms/step - loss: 0.0303 - accuracy: 0.9903 - val_loss: 0.0232 - val_accuracy: 0.9929\n",
            "Epoch 31/50\n",
            "315/315 [==============================] - 2s 5ms/step - loss: 0.0261 - accuracy: 0.9910 - val_loss: 0.0211 - val_accuracy: 0.9931\n",
            "Epoch 32/50\n",
            "315/315 [==============================] - 1s 4ms/step - loss: 0.0268 - accuracy: 0.9908 - val_loss: 0.0231 - val_accuracy: 0.9921\n",
            "Epoch 33/50\n",
            "315/315 [==============================] - 1s 5ms/step - loss: 0.0259 - accuracy: 0.9903 - val_loss: 0.0259 - val_accuracy: 0.9929\n",
            "Epoch 33: early stopping\n"
          ]
        }
      ]
    },
    {
      "cell_type": "markdown",
      "source": [
        "##Evaluate the Model and Make Improvements"
      ],
      "metadata": {
        "id": "gksyro_1ZpXm"
      }
    },
    {
      "cell_type": "markdown",
      "source": [
        "1. Model Evaluation: After training, evaluate the model on the test set. Focus on metrics like accuracy, precision, recall, F1 score, and ROC-AUC score."
      ],
      "metadata": {
        "id": "f9zLTG5OZw2f"
      }
    },
    {
      "cell_type": "code",
      "source": [
        "import matplotlib.pyplot as plt"
      ],
      "metadata": {
        "id": "0o7VvDkMraPd"
      },
      "execution_count": 231,
      "outputs": []
    },
    {
      "cell_type": "code",
      "source": [
        "plt.plot(history.history['accuracy'])\n",
        "plt.plot(history.history['val_accuracy'])\n",
        "plt.title('Model accuracy')\n",
        "plt.ylabel('Accuracy')\n",
        "plt.xlabel('Epoch')\n",
        "plt.legend(['Train', 'Val'], loc='upper left')\n",
        "plt.show()"
      ],
      "metadata": {
        "colab": {
          "base_uri": "https://localhost:8080/",
          "height": 472
        },
        "id": "u5O3OBlKaEz4",
        "outputId": "862a6aff-1c18-48f8-c1c4-993f37d56bb6"
      },
      "execution_count": 232,
      "outputs": [
        {
          "output_type": "display_data",
          "data": {
            "text/plain": [
              "<Figure size 640x480 with 1 Axes>"
            ],
            "image/png": "[encoded data removed]"
          },
          "metadata": {}
        }
      ]
    },
    {
      "cell_type": "code",
      "source": [
        "plt.plot(history_d.history['accuracy'])\n",
        "plt.plot(history_d.history['val_accuracy'])\n",
        "plt.title('Model accuracy')\n",
        "plt.ylabel('Accuracy')\n",
        "plt.xlabel('Epoch')\n",
        "plt.legend(['Train', 'Val'], loc='upper left')\n",
        "plt.show()"
      ],
      "metadata": {
        "colab": {
          "base_uri": "https://localhost:8080/",
          "height": 472
        },
        "id": "Z_cD5Y1Grelh",
        "outputId": "486e2b46-b84b-4cd5-ac7c-58086442ee2a"
      },
      "execution_count": 233,
      "outputs": [
        {
          "output_type": "display_data",
          "data": {
            "text/plain": [
              "<Figure size 640x480 with 1 Axes>"
            ],
            "image/png": "[encoded data removed]"
          },
          "metadata": {}
        }
      ]
    },
    {
      "cell_type": "code",
      "source": [
        "from tensorflow.keras.models import load_model\n",
        "from sklearn.metrics import precision_score, recall_score, classification_report\n"
      ],
      "metadata": {
        "id": "o8P8v_-2P1t8"
      },
      "execution_count": 234,
      "outputs": []
    },
    {
      "cell_type": "code",
      "source": [
        "val_predictions_probs = model.predict(x_val_scaled)"
      ],
      "metadata": {
        "colab": {
          "base_uri": "https://localhost:8080/"
        },
        "id": "Wj1M5RmwPO9p",
        "outputId": "c262db70-9c87-49e1-af29-c1eeb890eadd"
      },
      "execution_count": 235,
      "outputs": [
        {
          "output_type": "stream",
          "name": "stdout",
          "text": [
            "158/158 [==============================] - 0s 2ms/step\n"
          ]
        }
      ]
    },
    {
      "cell_type": "code",
      "source": [
        "val_predictions = (val_predictions_probs > 0.5).astype(int)"
      ],
      "metadata": {
        "id": "juXUNCjwPcow"
      },
      "execution_count": 236,
      "outputs": []
    },
    {
      "cell_type": "code",
      "source": [
        "print(classification_report(y_val, val_predictions, target_names=['Normal', 'Anomaly']))"
      ],
      "metadata": {
        "colab": {
          "base_uri": "https://localhost:8080/"
        },
        "id": "PiYN6WZjPXNz",
        "outputId": "c0c8d1d4-50c7-4f40-fbde-c430675a2c8c"
      },
      "execution_count": 237,
      "outputs": [
        {
          "output_type": "stream",
          "name": "stdout",
          "text": [
            "              precision    recall  f1-score   support\n",
            "\n",
            "      Normal       0.99      0.99      0.99      2365\n",
            "     Anomaly       1.00      0.99      0.99      2674\n",
            "\n",
            "    accuracy                           0.99      5039\n",
            "   macro avg       0.99      0.99      0.99      5039\n",
            "weighted avg       0.99      0.99      0.99      5039\n",
            "\n"
          ]
        }
      ]
    },
    {
      "cell_type": "code",
      "source": [
        "from sklearn.metrics import confusion_matrix\n",
        "import seaborn as sns"
      ],
      "metadata": {
        "id": "w0wlr8f2RDc5"
      },
      "execution_count": 238,
      "outputs": []
    },
    {
      "cell_type": "code",
      "source": [
        "# Generate the confusion matrix\n",
        "cm = confusion_matrix(y_val, val_predictions)\n",
        "\n",
        "# Extracting TP, TN, FP, FN\n",
        "tn, fp, fn, tp = cm.ravel()"
      ],
      "metadata": {
        "id": "02wT8hX2RMgR"
      },
      "execution_count": 239,
      "outputs": []
    },
    {
      "cell_type": "code",
      "source": [
        "plt.figure(figsize=(8, 6))\n",
        "sns.heatmap(cm, annot=True, fmt='d', cmap='Blues', xticklabels=['Predicted Normal', 'Predicted Anomaly'], yticklabels=['Actual Normal', 'Actual Anomaly'])\n",
        "plt.ylabel('Actual')\n",
        "plt.xlabel('Predicted')\n",
        "plt.title('Confusion Matrix')\n",
        "plt.show()"
      ],
      "metadata": {
        "colab": {
          "base_uri": "https://localhost:8080/",
          "height": 564
        },
        "id": "459HRjpbREW8",
        "outputId": "e6a0aacc-c9ea-4e62-b3cb-1f94769b1dfe"
      },
      "execution_count": 240,
      "outputs": [
        {
          "output_type": "display_data",
          "data": {
            "text/plain": [
              "<Figure size 800x600 with 2 Axes>"
            ],
            "image/png": "[encoded data removed]"
          },
          "metadata": {}
        }
      ]
    },
    {
      "cell_type": "code",
      "source": [
        "val_predictions_probs_d = model_d.predict(x_val_scaled)"
      ],
      "metadata": {
        "colab": {
          "base_uri": "https://localhost:8080/"
        },
        "id": "_L1HqFjvaRSb",
        "outputId": "f87c3db8-9f22-47b2-b076-cd97940bac87"
      },
      "execution_count": 241,
      "outputs": [
        {
          "output_type": "stream",
          "name": "stdout",
          "text": [
            "158/158 [==============================] - 1s 3ms/step\n"
          ]
        }
      ]
    },
    {
      "cell_type": "code",
      "source": [
        "val_predictions_d = (val_predictions_probs_d > 0.5).astype(int)"
      ],
      "metadata": {
        "id": "KiO5r035ak4m"
      },
      "execution_count": 242,
      "outputs": []
    },
    {
      "cell_type": "code",
      "source": [
        "print(classification_report(y_val, val_predictions_d, target_names=['Normal', 'Anomaly']))"
      ],
      "metadata": {
        "colab": {
          "base_uri": "https://localhost:8080/"
        },
        "id": "x-akLEyLaug-",
        "outputId": "89bf9f84-b355-44eb-b8ae-824cf782497d"
      },
      "execution_count": 243,
      "outputs": [
        {
          "output_type": "stream",
          "name": "stdout",
          "text": [
            "              precision    recall  f1-score   support\n",
            "\n",
            "      Normal       1.00      0.99      0.99      2365\n",
            "     Anomaly       0.99      1.00      0.99      2674\n",
            "\n",
            "    accuracy                           0.99      5039\n",
            "   macro avg       0.99      0.99      0.99      5039\n",
            "weighted avg       0.99      0.99      0.99      5039\n",
            "\n"
          ]
        }
      ]
    },
    {
      "cell_type": "code",
      "source": [
        "cm_d = confusion_matrix(y_val, val_predictions_d)\n",
        "tn, fp, fn, tp = cm_d.ravel()"
      ],
      "metadata": {
        "id": "EF5FJQGobOb0"
      },
      "execution_count": 244,
      "outputs": []
    },
    {
      "cell_type": "code",
      "source": [
        "plt.figure(figsize=(8, 6))\n",
        "sns.heatmap(cm_d, annot=True, fmt='d', cmap='Blues', xticklabels=['Predicted Normal', 'Predicted Anomaly'], yticklabels=['Actual Normal', 'Actual Anomaly'])\n",
        "plt.ylabel('Actual')\n",
        "plt.xlabel('Predicted')\n",
        "plt.title('Confusion Matrix Dropout')\n",
        "plt.show()"
      ],
      "metadata": {
        "colab": {
          "base_uri": "https://localhost:8080/",
          "height": 564
        },
        "id": "3OpiDHvxbfLA",
        "outputId": "10150706-af4f-4cd5-b62b-b4b4f6d476ba"
      },
      "execution_count": 245,
      "outputs": [
        {
          "output_type": "display_data",
          "data": {
            "text/plain": [
              "<Figure size 800x600 with 2 Axes>"
            ],
            "image/png": "[encoded data removed]"
          },
          "metadata": {}
        }
      ]
    },
    {
      "cell_type": "markdown",
      "source": [
        "Our model without dropout has high accuracy of 99.4. We want to lower false negative (actual anomaly but guessed normal) outcomes, because 37 possbile breaches is still terrible. With dropout we hadd 99.1 percent accuracy with only 22 false negatives. We are going to try to change the dropout percent to see if we can find the sweet spot."
      ],
      "metadata": {
        "id": "-eK9jF0KSCGa"
      }
    },
    {
      "cell_type": "markdown",
      "source": [
        "2.Fine-Tuning and Adjustments: Based on the results, you might need to adjust the architecture or hyperparameters. Techniques like dropout, regularization, or using a different optimizer can be explored"
      ],
      "metadata": {
        "id": "zj2pE500Z1lJ"
      }
    },
    {
      "cell_type": "code",
      "source": [
        "def make_model_dropout_2():\n",
        "  d_rate = .4 #lets test .2-.5\n",
        "  inputs_d   = keras.Input(shape=(x_train_scaled.shape[1]), name= \"my_input_d\")\n",
        "  features_d = layers.Dense(128, activation='relu', name='first_layer_d')(inputs_d)\n",
        "  features_d = layers.Dropout(d_rate)(features_d)\n",
        "  features_d = layers.Dense(64, activation='relu', name='second_layer_d')(features_d)\n",
        "  features_d = layers.Dropout(d_rate)(features_d)\n",
        "  features_d = layers.Dense(32, activation='relu', name='third_layer_d')(features_d)\n",
        "  features_d = layers.Dropout(d_rate)(features_d)\n",
        "  outputs_d   = layers.Dense(1,  activation='sigmoid', name='output_layer_d')(features_d)\n",
        "  model_functional_d2 = keras.Model(inputs=inputs_d, outputs=outputs_d)\n",
        "  model_functional_d2.compile(optimizer='adam', loss='binary_crossentropy', metrics=['accuracy'])\n",
        "  return model_functional_d2"
      ],
      "metadata": {
        "id": "q0C0_kdQcAGV"
      },
      "execution_count": 246,
      "outputs": []
    },
    {
      "cell_type": "code",
      "source": [
        "model_d2 = make_model_dropout_2()\n",
        "make_model_dropout_2().summary()"
      ],
      "metadata": {
        "colab": {
          "base_uri": "https://localhost:8080/"
        },
        "id": "qv33wZjUcHks",
        "outputId": "4b6a3ecd-01fe-455d-d92e-aaa2a676674a"
      },
      "execution_count": 247,
      "outputs": [
        {
          "output_type": "stream",
          "name": "stdout",
          "text": [
            "Model: \"model_24\"\n",
            "_________________________________________________________________\n",
            " Layer (type)                Output Shape              Param #   \n",
            "=================================================================\n",
            " my_input_d (InputLayer)     [(None, 41)]              0         \n",
            "                                                                 \n",
            " first_layer_d (Dense)       (None, 128)               5376      \n",
            "                                                                 \n",
            " dropout_61 (Dropout)        (None, 128)               0         \n",
            "                                                                 \n",
            " second_layer_d (Dense)      (None, 64)                8256      \n",
            "                                                                 \n",
            " dropout_62 (Dropout)        (None, 64)                0         \n",
            "                                                                 \n",
            " third_layer_d (Dense)       (None, 32)                2080      \n",
            "                                                                 \n",
            " dropout_63 (Dropout)        (None, 32)                0         \n",
            "                                                                 \n",
            " output_layer_d (Dense)      (None, 1)                 33        \n",
            "                                                                 \n",
            "=================================================================\n",
            "Total params: 15745 (61.50 KB)\n",
            "Trainable params: 15745 (61.50 KB)\n",
            "Non-trainable params: 0 (0.00 Byte)\n",
            "_________________________________________________________________\n"
          ]
        }
      ]
    },
    {
      "cell_type": "code",
      "source": [
        "early_stopping_d2   = EarlyStopping(monitor='val_loss', mode='min', verbose=1, patience=10)\n",
        "model_checkpoint_d2 = ModelCheckpoint(monitor='val_loss', save_best_only=True, filepath=\"model_checkpoint_d2.h5\") #model_checkpoint.keras#model_checkpoint.h5\n",
        "callback_list_d2    = [early_stopping_d2,model_checkpoint_d2]\n",
        "history_d2 = model_d2.fit(x_train_scaled,y_train, validation_data=(x_val_scaled, y_val), epochs=50, batch_size=64,\n",
        "          callbacks=callback_list_d2)"
      ],
      "metadata": {
        "colab": {
          "base_uri": "https://localhost:8080/"
        },
        "id": "G4SxlU3tb5LC",
        "outputId": "fc18220f-cb4b-4edf-d580-8def6829e827"
      },
      "execution_count": 248,
      "outputs": [
        {
          "output_type": "stream",
          "name": "stdout",
          "text": [
            "Epoch 1/50\n",
            "315/315 [==============================] - 4s 6ms/step - loss: 0.1920 - accuracy: 0.9335 - val_loss: 0.0709 - val_accuracy: 0.9722\n",
            "Epoch 2/50\n",
            " 42/315 [===>..........................] - ETA: 1s - loss: 0.0978 - accuracy: 0.9706"
          ]
        },
        {
          "output_type": "stream",
          "name": "stderr",
          "text": [
            "/usr/local/lib/python3.10/dist-packages/keras/src/engine/training.py:3079: UserWarning: You are saving your model as an HDF5 file via `model.save()`. This file format is considered legacy. We recommend using instead the native Keras format, e.g. `model.save('my_model.keras')`.\n",
            "  saving_api.save_model(\n"
          ]
        },
        {
          "output_type": "stream",
          "name": "stdout",
          "text": [
            "315/315 [==============================] - 2s 5ms/step - loss: 0.0915 - accuracy: 0.9699 - val_loss: 0.0486 - val_accuracy: 0.9806\n",
            "Epoch 3/50\n",
            "315/315 [==============================] - 2s 7ms/step - loss: 0.0656 - accuracy: 0.9760 - val_loss: 0.0407 - val_accuracy: 0.9855\n",
            "Epoch 4/50\n",
            "315/315 [==============================] - 1s 5ms/step - loss: 0.0577 - accuracy: 0.9815 - val_loss: 0.0376 - val_accuracy: 0.9871\n",
            "Epoch 5/50\n",
            "315/315 [==============================] - 1s 5ms/step - loss: 0.0484 - accuracy: 0.9830 - val_loss: 0.0322 - val_accuracy: 0.9885\n",
            "Epoch 6/50\n",
            "315/315 [==============================] - 2s 5ms/step - loss: 0.0440 - accuracy: 0.9838 - val_loss: 0.0305 - val_accuracy: 0.9881\n",
            "Epoch 7/50\n",
            "315/315 [==============================] - 2s 6ms/step - loss: 0.0459 - accuracy: 0.9858 - val_loss: 0.0276 - val_accuracy: 0.9891\n",
            "Epoch 8/50\n",
            "315/315 [==============================] - 2s 6ms/step - loss: 0.0371 - accuracy: 0.9872 - val_loss: 0.0320 - val_accuracy: 0.9885\n",
            "Epoch 9/50\n",
            "315/315 [==============================] - 1s 5ms/step - loss: 0.0356 - accuracy: 0.9880 - val_loss: 0.0272 - val_accuracy: 0.9891\n",
            "Epoch 10/50\n",
            "315/315 [==============================] - 1s 4ms/step - loss: 0.0367 - accuracy: 0.9877 - val_loss: 0.0243 - val_accuracy: 0.9897\n",
            "Epoch 11/50\n",
            "315/315 [==============================] - 1s 5ms/step - loss: 0.0334 - accuracy: 0.9874 - val_loss: 0.0226 - val_accuracy: 0.9911\n",
            "Epoch 12/50\n",
            "315/315 [==============================] - 1s 4ms/step - loss: 0.0336 - accuracy: 0.9885 - val_loss: 0.0209 - val_accuracy: 0.9907\n",
            "Epoch 13/50\n",
            "315/315 [==============================] - 1s 5ms/step - loss: 0.0326 - accuracy: 0.9885 - val_loss: 0.0229 - val_accuracy: 0.9905\n",
            "Epoch 14/50\n",
            "315/315 [==============================] - 1s 4ms/step - loss: 0.0295 - accuracy: 0.9884 - val_loss: 0.0223 - val_accuracy: 0.9903\n",
            "Epoch 15/50\n",
            "315/315 [==============================] - 1s 4ms/step - loss: 0.0283 - accuracy: 0.9894 - val_loss: 0.0207 - val_accuracy: 0.9905\n",
            "Epoch 16/50\n",
            "315/315 [==============================] - 2s 6ms/step - loss: 0.0296 - accuracy: 0.9888 - val_loss: 0.0224 - val_accuracy: 0.9911\n",
            "Epoch 17/50\n",
            "315/315 [==============================] - 2s 6ms/step - loss: 0.0274 - accuracy: 0.9896 - val_loss: 0.0232 - val_accuracy: 0.9905\n",
            "Epoch 18/50\n",
            "315/315 [==============================] - 1s 4ms/step - loss: 0.0271 - accuracy: 0.9895 - val_loss: 0.0245 - val_accuracy: 0.9897\n",
            "Epoch 19/50\n",
            "315/315 [==============================] - 1s 4ms/step - loss: 0.0258 - accuracy: 0.9903 - val_loss: 0.0254 - val_accuracy: 0.9903\n",
            "Epoch 20/50\n",
            "315/315 [==============================] - 2s 5ms/step - loss: 0.0250 - accuracy: 0.9902 - val_loss: 0.0213 - val_accuracy: 0.9903\n",
            "Epoch 21/50\n",
            "315/315 [==============================] - 1s 4ms/step - loss: 0.0266 - accuracy: 0.9901 - val_loss: 0.0230 - val_accuracy: 0.9905\n",
            "Epoch 22/50\n",
            "315/315 [==============================] - 1s 5ms/step - loss: 0.0255 - accuracy: 0.9903 - val_loss: 0.0317 - val_accuracy: 0.9901\n",
            "Epoch 23/50\n",
            "315/315 [==============================] - 1s 4ms/step - loss: 0.0244 - accuracy: 0.9902 - val_loss: 0.0268 - val_accuracy: 0.9909\n",
            "Epoch 24/50\n",
            "315/315 [==============================] - 2s 5ms/step - loss: 0.0235 - accuracy: 0.9912 - val_loss: 0.0268 - val_accuracy: 0.9911\n",
            "Epoch 25/50\n",
            "315/315 [==============================] - 2s 6ms/step - loss: 0.0239 - accuracy: 0.9916 - val_loss: 0.0235 - val_accuracy: 0.9915\n",
            "Epoch 25: early stopping\n"
          ]
        }
      ]
    },
    {
      "cell_type": "code",
      "source": [
        "plt.plot(history_d2.history['accuracy'])\n",
        "plt.plot(history_d2.history['val_accuracy'])\n",
        "plt.title('Model accuracy')\n",
        "plt.ylabel('Accuracy')\n",
        "plt.xlabel('Epoch')\n",
        "plt.legend(['Train', 'Val'], loc='upper left')\n",
        "plt.show()"
      ],
      "metadata": {
        "colab": {
          "base_uri": "https://localhost:8080/",
          "height": 472
        },
        "id": "shWKrYataEN0",
        "outputId": "00f1e716-af5e-4517-aea9-b0639f9ddc84"
      },
      "execution_count": 249,
      "outputs": [
        {
          "output_type": "display_data",
          "data": {
            "text/plain": [
              "<Figure size 640x480 with 1 Axes>"
            ],
            "image/png": "[encoded data removed]"
          },
          "metadata": {}
        }
      ]
    },
    {
      "cell_type": "code",
      "source": [
        "val_predictions_probs_d2 = model_d2.predict(x_val_scaled)"
      ],
      "metadata": {
        "colab": {
          "base_uri": "https://localhost:8080/"
        },
        "id": "6l7hyGdNPqQu",
        "outputId": "b7f7b9dc-0a44-44ca-bf05-4de4a81b117f"
      },
      "execution_count": 250,
      "outputs": [
        {
          "output_type": "stream",
          "name": "stdout",
          "text": [
            "158/158 [==============================] - 0s 2ms/step\n"
          ]
        }
      ]
    },
    {
      "cell_type": "code",
      "source": [
        "val_predictions_d2 = (val_predictions_probs_d2 > 0.5).astype(int)"
      ],
      "metadata": {
        "id": "59mt7-1lduXV"
      },
      "execution_count": 251,
      "outputs": []
    },
    {
      "cell_type": "code",
      "source": [
        "print(classification_report(y_val, val_predictions_d2, target_names=['Normal', 'Anomaly']))"
      ],
      "metadata": {
        "colab": {
          "base_uri": "https://localhost:8080/"
        },
        "id": "mKn_FAEUeFZs",
        "outputId": "6ada5933-1286-4894-d1bb-b0abd66a27b3"
      },
      "execution_count": 252,
      "outputs": [
        {
          "output_type": "stream",
          "name": "stdout",
          "text": [
            "              precision    recall  f1-score   support\n",
            "\n",
            "      Normal       0.99      0.99      0.99      2365\n",
            "     Anomaly       0.99      0.99      0.99      2674\n",
            "\n",
            "    accuracy                           0.99      5039\n",
            "   macro avg       0.99      0.99      0.99      5039\n",
            "weighted avg       0.99      0.99      0.99      5039\n",
            "\n"
          ]
        }
      ]
    },
    {
      "cell_type": "code",
      "source": [
        "cm_d2 = confusion_matrix(y_val, val_predictions_d2)\n",
        "tn, fp, fn, tp = cm_d2.ravel()"
      ],
      "metadata": {
        "id": "3z_Q1N4ceIyy"
      },
      "execution_count": 253,
      "outputs": []
    },
    {
      "cell_type": "code",
      "source": [
        "plt.figure(figsize=(8, 6))\n",
        "sns.heatmap(cm_d2, annot=True, fmt='d', cmap='Blues', xticklabels=['Predicted Normal', 'Predicted Anomaly'], yticklabels=['Actual Normal', 'Actual Anomaly'])\n",
        "plt.ylabel('Actual')\n",
        "plt.xlabel('Predicted')\n",
        "plt.title('Confusion Matrix Dropout')\n",
        "plt.show()"
      ],
      "metadata": {
        "colab": {
          "base_uri": "https://localhost:8080/",
          "height": 564
        },
        "id": "8Fzn0_Jqef2y",
        "outputId": "0edac12f-a800-4b78-f97c-d6da2a67b831"
      },
      "execution_count": 254,
      "outputs": [
        {
          "output_type": "display_data",
          "data": {
            "text/plain": [
              "<Figure size 800x600 with 2 Axes>"
            ],
            "image/png": "[encoded data removed]"
          },
          "metadata": {}
        }
      ]
    },
    {
      "cell_type": "markdown",
      "source": [
        "Changing the dropout rate reduced the incorrectly classified cases generally after rerunning. There is still a chance the false positives do not reduce by much or the false negatives reduce by several cases or increase by a few. The dropout rate that did the best for false negatives was a dropout rate of .4 The graph of accuracies between validation and training sets are super close and overlap at times. There could be some overfitting."
      ],
      "metadata": {
        "id": "k4cX60D8gN_X"
      }
    },
    {
      "cell_type": "markdown",
      "source": [
        "I will alter the sturcture of the dropout."
      ],
      "metadata": {
        "id": "5n-XJ-2BgiAE"
      }
    },
    {
      "cell_type": "code",
      "source": [
        "def make_model_dropout_3():\n",
        "  d_rate = .5 #lets test .2-.5\n",
        "  inputs_d   = keras.Input(shape=(x_train_scaled.shape[1]), name= \"my_input_d\")\n",
        "  features_d = layers.Dense(256, activation='relu', name='first_layer_d')(inputs_d)\n",
        "  features_d = layers.Dropout(d_rate)(features_d)\n",
        "  features_d = layers.Dense(128, activation='relu', name='second_layer_d')(features_d)\n",
        "  features_d = layers.Dropout(d_rate)(features_d)\n",
        "  features_d = layers.Dense(64, activation='relu', name='third_layer_d')(features_d)\n",
        "  features_d = layers.Dropout(d_rate)(features_d)\n",
        "  features_d = layers.Dense(32, activation='relu', name='fourth_layer_d')(features_d)\n",
        "  features_d = layers.Dropout(d_rate)(features_d)\n",
        "  outputs_d   = layers.Dense(1,  activation='sigmoid', name='output_layer_d')(features_d)\n",
        "  model_functional_d3 = keras.Model(inputs=inputs_d, outputs=outputs_d)\n",
        "  model_functional_d3.compile(optimizer='adam', loss='binary_crossentropy', metrics=['accuracy'])\n",
        "  return model_functional_d3"
      ],
      "metadata": {
        "id": "QZfhiSkAhElQ"
      },
      "execution_count": 255,
      "outputs": []
    },
    {
      "cell_type": "code",
      "source": [
        "model_d3 = make_model_dropout_3()\n",
        "make_model_dropout_3().summary()"
      ],
      "metadata": {
        "colab": {
          "base_uri": "https://localhost:8080/"
        },
        "id": "vJIxzgxbhItw",
        "outputId": "c09cbd1c-ce85-442e-d948-74b6bc7e82c2"
      },
      "execution_count": 256,
      "outputs": [
        {
          "output_type": "stream",
          "name": "stdout",
          "text": [
            "Model: \"model_26\"\n",
            "_________________________________________________________________\n",
            " Layer (type)                Output Shape              Param #   \n",
            "=================================================================\n",
            " my_input_d (InputLayer)     [(None, 41)]              0         \n",
            "                                                                 \n",
            " first_layer_d (Dense)       (None, 256)               10752     \n",
            "                                                                 \n",
            " dropout_68 (Dropout)        (None, 256)               0         \n",
            "                                                                 \n",
            " second_layer_d (Dense)      (None, 128)               32896     \n",
            "                                                                 \n",
            " dropout_69 (Dropout)        (None, 128)               0         \n",
            "                                                                 \n",
            " third_layer_d (Dense)       (None, 64)                8256      \n",
            "                                                                 \n",
            " dropout_70 (Dropout)        (None, 64)                0         \n",
            "                                                                 \n",
            " fourth_layer_d (Dense)      (None, 32)                2080      \n",
            "                                                                 \n",
            " dropout_71 (Dropout)        (None, 32)                0         \n",
            "                                                                 \n",
            " output_layer_d (Dense)      (None, 1)                 33        \n",
            "                                                                 \n",
            "=================================================================\n",
            "Total params: 54017 (211.00 KB)\n",
            "Trainable params: 54017 (211.00 KB)\n",
            "Non-trainable params: 0 (0.00 Byte)\n",
            "_________________________________________________________________\n"
          ]
        }
      ]
    },
    {
      "cell_type": "code",
      "source": [
        "early_stopping_d3   = EarlyStopping(monitor='val_loss', mode='min', verbose=1, patience=10)\n",
        "model_checkpoint_d3 = ModelCheckpoint(monitor='val_loss', save_best_only=True, filepath=\"model_checkpoint_d3.h5\") #model_checkpoint.keras#model_checkpoint.h5\n",
        "callback_list_d3    = [early_stopping_d3,model_checkpoint_d3]\n",
        "history_d3 = model_d3.fit(x_train_scaled,y_train, validation_data=(x_val_scaled, y_val), epochs=50, batch_size=64,\n",
        "          callbacks=callback_list_d3)"
      ],
      "metadata": {
        "colab": {
          "base_uri": "https://localhost:8080/"
        },
        "id": "OgsdVTlehMPX",
        "outputId": "437c5c5a-0dbe-467c-9b65-90aeac5acc27"
      },
      "execution_count": 257,
      "outputs": [
        {
          "output_type": "stream",
          "name": "stdout",
          "text": [
            "Epoch 1/50\n",
            "315/315 [==============================] - 3s 6ms/step - loss: 0.2376 - accuracy: 0.9151 - val_loss: 0.0702 - val_accuracy: 0.9754\n",
            "Epoch 2/50\n",
            " 36/315 [==>...........................] - ETA: 1s - loss: 0.1108 - accuracy: 0.9661"
          ]
        },
        {
          "output_type": "stream",
          "name": "stderr",
          "text": [
            "/usr/local/lib/python3.10/dist-packages/keras/src/engine/training.py:3079: UserWarning: You are saving your model as an HDF5 file via `model.save()`. This file format is considered legacy. We recommend using instead the native Keras format, e.g. `model.save('my_model.keras')`.\n",
            "  saving_api.save_model(\n"
          ]
        },
        {
          "output_type": "stream",
          "name": "stdout",
          "text": [
            "315/315 [==============================] - 2s 5ms/step - loss: 0.0964 - accuracy: 0.9703 - val_loss: 0.0436 - val_accuracy: 0.9837\n",
            "Epoch 3/50\n",
            "315/315 [==============================] - 2s 5ms/step - loss: 0.0687 - accuracy: 0.9772 - val_loss: 0.0374 - val_accuracy: 0.9843\n",
            "Epoch 4/50\n",
            "315/315 [==============================] - 2s 5ms/step - loss: 0.0612 - accuracy: 0.9810 - val_loss: 0.0321 - val_accuracy: 0.9873\n",
            "Epoch 5/50\n",
            "315/315 [==============================] - 2s 6ms/step - loss: 0.0482 - accuracy: 0.9838 - val_loss: 0.0298 - val_accuracy: 0.9863\n",
            "Epoch 6/50\n",
            "315/315 [==============================] - 2s 7ms/step - loss: 0.0475 - accuracy: 0.9839 - val_loss: 0.0291 - val_accuracy: 0.9865\n",
            "Epoch 7/50\n",
            "315/315 [==============================] - 2s 6ms/step - loss: 0.0454 - accuracy: 0.9846 - val_loss: 0.0267 - val_accuracy: 0.9891\n",
            "Epoch 8/50\n",
            "315/315 [==============================] - 2s 5ms/step - loss: 0.0418 - accuracy: 0.9854 - val_loss: 0.0277 - val_accuracy: 0.9891\n",
            "Epoch 9/50\n",
            "315/315 [==============================] - 2s 5ms/step - loss: 0.0400 - accuracy: 0.9879 - val_loss: 0.0250 - val_accuracy: 0.9899\n",
            "Epoch 10/50\n",
            "315/315 [==============================] - 2s 5ms/step - loss: 0.0384 - accuracy: 0.9865 - val_loss: 0.0275 - val_accuracy: 0.9883\n",
            "Epoch 11/50\n",
            "315/315 [==============================] - 2s 5ms/step - loss: 0.0362 - accuracy: 0.9872 - val_loss: 0.0245 - val_accuracy: 0.9905\n",
            "Epoch 12/50\n",
            "315/315 [==============================] - 2s 5ms/step - loss: 0.0328 - accuracy: 0.9882 - val_loss: 0.0256 - val_accuracy: 0.9893\n",
            "Epoch 13/50\n",
            "315/315 [==============================] - 2s 5ms/step - loss: 0.0355 - accuracy: 0.9866 - val_loss: 0.0282 - val_accuracy: 0.9899\n",
            "Epoch 14/50\n",
            "315/315 [==============================] - 2s 7ms/step - loss: 0.0348 - accuracy: 0.9874 - val_loss: 0.0248 - val_accuracy: 0.9907\n",
            "Epoch 15/50\n",
            "315/315 [==============================] - 2s 6ms/step - loss: 0.0309 - accuracy: 0.9890 - val_loss: 0.0286 - val_accuracy: 0.9901\n",
            "Epoch 16/50\n",
            "315/315 [==============================] - 2s 5ms/step - loss: 0.0322 - accuracy: 0.9883 - val_loss: 0.0251 - val_accuracy: 0.9905\n",
            "Epoch 17/50\n",
            "315/315 [==============================] - 2s 5ms/step - loss: 0.0320 - accuracy: 0.9885 - val_loss: 0.0237 - val_accuracy: 0.9915\n",
            "Epoch 18/50\n",
            "315/315 [==============================] - 2s 5ms/step - loss: 0.0324 - accuracy: 0.9890 - val_loss: 0.0299 - val_accuracy: 0.9913\n",
            "Epoch 19/50\n",
            "315/315 [==============================] - 2s 5ms/step - loss: 0.0289 - accuracy: 0.9884 - val_loss: 0.0249 - val_accuracy: 0.9901\n",
            "Epoch 20/50\n",
            "315/315 [==============================] - 2s 5ms/step - loss: 0.0303 - accuracy: 0.9893 - val_loss: 0.0229 - val_accuracy: 0.9911\n",
            "Epoch 21/50\n",
            "315/315 [==============================] - 2s 6ms/step - loss: 0.0329 - accuracy: 0.9882 - val_loss: 0.0317 - val_accuracy: 0.9919\n",
            "Epoch 22/50\n",
            "315/315 [==============================] - 2s 7ms/step - loss: 0.0277 - accuracy: 0.9890 - val_loss: 0.0317 - val_accuracy: 0.9911\n",
            "Epoch 23/50\n",
            "315/315 [==============================] - 2s 6ms/step - loss: 0.0284 - accuracy: 0.9893 - val_loss: 0.0250 - val_accuracy: 0.9897\n",
            "Epoch 24/50\n",
            "315/315 [==============================] - 1s 5ms/step - loss: 0.0301 - accuracy: 0.9881 - val_loss: 0.0270 - val_accuracy: 0.9917\n",
            "Epoch 25/50\n",
            "315/315 [==============================] - 2s 5ms/step - loss: 0.0267 - accuracy: 0.9897 - val_loss: 0.0315 - val_accuracy: 0.9909\n",
            "Epoch 26/50\n",
            "315/315 [==============================] - 2s 5ms/step - loss: 0.0280 - accuracy: 0.9895 - val_loss: 0.0271 - val_accuracy: 0.9911\n",
            "Epoch 27/50\n",
            "315/315 [==============================] - 2s 5ms/step - loss: 0.0270 - accuracy: 0.9903 - val_loss: 0.0317 - val_accuracy: 0.9913\n",
            "Epoch 28/50\n",
            "315/315 [==============================] - 2s 5ms/step - loss: 0.0262 - accuracy: 0.9903 - val_loss: 0.0296 - val_accuracy: 0.9917\n",
            "Epoch 29/50\n",
            "315/315 [==============================] - 2s 5ms/step - loss: 0.0261 - accuracy: 0.9900 - val_loss: 0.0302 - val_accuracy: 0.9901\n",
            "Epoch 30/50\n",
            "315/315 [==============================] - 2s 7ms/step - loss: 0.0252 - accuracy: 0.9906 - val_loss: 0.0267 - val_accuracy: 0.9927\n",
            "Epoch 30: early stopping\n"
          ]
        }
      ]
    },
    {
      "cell_type": "code",
      "source": [
        "plt.plot(history_d3.history['accuracy'])\n",
        "plt.plot(history_d3.history['val_accuracy'])\n",
        "plt.title('Model accuracy')\n",
        "plt.ylabel('Accuracy')\n",
        "plt.xlabel('Epoch')\n",
        "plt.legend(['Train', 'Val'], loc='upper left')\n",
        "plt.show()"
      ],
      "metadata": {
        "colab": {
          "base_uri": "https://localhost:8080/",
          "height": 472
        },
        "id": "KAapLXvgiK-E",
        "outputId": "1e309f9b-67e3-44c2-8a2d-701f093d9945"
      },
      "execution_count": 258,
      "outputs": [
        {
          "output_type": "display_data",
          "data": {
            "text/plain": [
              "<Figure size 640x480 with 1 Axes>"
            ],
            "image/png": "[encoded data removed]"
          },
          "metadata": {}
        }
      ]
    },
    {
      "cell_type": "code",
      "source": [
        "val_predictions_probs_d3 = model_d3.predict(x_val_scaled)"
      ],
      "metadata": {
        "colab": {
          "base_uri": "https://localhost:8080/"
        },
        "id": "jd4VEJC0icMa",
        "outputId": "9b4f18b6-103e-435a-d4d4-bd1494b015f9"
      },
      "execution_count": 259,
      "outputs": [
        {
          "output_type": "stream",
          "name": "stdout",
          "text": [
            "158/158 [==============================] - 0s 2ms/step\n"
          ]
        }
      ]
    },
    {
      "cell_type": "code",
      "source": [
        "val_predictions_d3 = (val_predictions_probs_d3 > 0.5).astype(int)"
      ],
      "metadata": {
        "id": "cAg9ZmJPmCcx"
      },
      "execution_count": 260,
      "outputs": []
    },
    {
      "cell_type": "code",
      "source": [
        "print(classification_report(y_val, val_predictions_d3, target_names=['Normal', 'Anomaly']))"
      ],
      "metadata": {
        "colab": {
          "base_uri": "https://localhost:8080/"
        },
        "id": "SA8U9KNhmTsx",
        "outputId": "31aa18b7-339c-43af-e11f-073f0a7cd33f"
      },
      "execution_count": 261,
      "outputs": [
        {
          "output_type": "stream",
          "name": "stdout",
          "text": [
            "              precision    recall  f1-score   support\n",
            "\n",
            "      Normal       1.00      0.99      0.99      2365\n",
            "     Anomaly       0.99      1.00      0.99      2674\n",
            "\n",
            "    accuracy                           0.99      5039\n",
            "   macro avg       0.99      0.99      0.99      5039\n",
            "weighted avg       0.99      0.99      0.99      5039\n",
            "\n"
          ]
        }
      ]
    },
    {
      "cell_type": "code",
      "source": [
        "cm_d3 = confusion_matrix(y_val, val_predictions_d3)\n",
        "tn, fp, fn, tp = cm_d3.ravel()"
      ],
      "metadata": {
        "id": "NRq1VqrtnAwt"
      },
      "execution_count": 262,
      "outputs": []
    },
    {
      "cell_type": "code",
      "source": [
        "plt.figure(figsize=(8, 6))\n",
        "sns.heatmap(cm_d3, annot=True, fmt='d', cmap='Blues', xticklabels=['Predicted Normal', 'Predicted Anomaly'], yticklabels=['Actual Normal', 'Actual Anomaly'])\n",
        "plt.ylabel('Actual')\n",
        "plt.xlabel('Predicted')\n",
        "plt.title('Confusion Matrix Dropout')\n",
        "plt.show()"
      ],
      "metadata": {
        "colab": {
          "base_uri": "https://localhost:8080/",
          "height": 564
        },
        "id": "cCq6pr6UnF6p",
        "outputId": "f83e61e1-bb89-48d0-e1df-db40c6fa9f9e"
      },
      "execution_count": 263,
      "outputs": [
        {
          "output_type": "display_data",
          "data": {
            "text/plain": [
              "<Figure size 800x600 with 2 Axes>"
            ],
            "image/png": "[encoded data removed]"
          },
          "metadata": {}
        }
      ]
    },
    {
      "cell_type": "markdown",
      "source": [
        "3.Error Analysis: Analyze the types of errors your model is making. Understanding where the model fails can provide insights for improvements."
      ],
      "metadata": {
        "id": "NIm4D2QgaFRT"
      }
    },
    {
      "cell_type": "markdown",
      "source": [
        "As I have gone through using different dropout values and structures, I have discovered that the origional dropout model of 3 nodes had the most consistent results. The 3rd dropout model was the best with 4 node layers and a dropout rate of .5. I tested solely dropout rates on the 3 node layers and between .4 and .5 on the 4 layer model. The 4 layer model did not have consistent results, so I am not sure if it will get better results over my first dropout model. I tried to test a 5 layer model, but there was more noise in the model. I can also check using different regularization techniques. I could also try restructuring the DNN as an RNN if it is dependent on sequential use. As far as I can tell, I don't beleive it is sequential.I can also change the batch size as well.  There are many things I can continue to try to find the best model. It was also suggested by ChatGPT that I could try and implement the model to favor lowering false negatives too. I would like to get more models before I test on the test set."
      ],
      "metadata": {
        "id": "VNfE8EpMtniP"
      }
    },
    {
      "cell_type": "code",
      "source": [
        "from sklearn.metrics import accuracy_score, precision_score, recall_score, f1_score, confusion_matrix\n",
        "from tensorflow.keras.models import load_model"
      ],
      "metadata": {
        "id": "l7SWjvKqaLDN"
      },
      "execution_count": 263,
      "outputs": []
    },
    {
      "cell_type": "code",
      "source": [
        "# #test once you find the best model/more models\n",
        "#for col in categorical_columns:  # Replace 'categorical_columns' with your list of categorical column names\n",
        "  #test[col] = le.fit_transform(test[col])\n",
        "# x_r = test.drop('class', axis=1)\n",
        "# y_r= test['class']\n",
        "\n",
        "# # Transform the test data with the same scaler\n",
        "# x_test_scaled = scaler.transform(x_test)\n",
        "\n",
        "# # Predict the probabilities on the test set\n",
        "# test_predictions_probs_best = model.predict(x_test_scaled)\n",
        "\n",
        "# # Apply the threshold to get the class predictions\n",
        "# test_predictions_best = (test_predictions_probs_best > 0.5).astype(int)\n",
        "\n",
        "# # Calculate metrics\n",
        "# accuracy = accuracy_score(y_test, test_predictions_best)\n",
        "# precision = precision_score(y_test, test_predictions_best)\n",
        "# recall = recall_score(y_test, test_predictions_best)\n",
        "# f1 = f1_score(y_test, test_predictions_best)\n",
        "\n",
        "# # Generate confusion matrix\n",
        "# cm_best = confusion_matrix(y_test, test_predictions_best)"
      ],
      "metadata": {
        "id": "WsqEwPHM5f07"
      },
      "execution_count": null,
      "outputs": []
    }
  ]
}
