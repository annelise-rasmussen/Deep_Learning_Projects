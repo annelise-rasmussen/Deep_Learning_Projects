{
  "nbformat": 4,
  "nbformat_minor": 0,
  "metadata": {
    "colab": {
      "provenance": [],
      "gpuType": "T4"
    },
    "kernelspec": {
      "name": "python3",
      "display_name": "Python 3"
    },
    "language_info": {
      "name": "python"
    },
    "accelerator": "GPU"
  },
  "cells": [
    {
      "cell_type": "markdown",
      "source": [
        "#Question 1: Preprocessing the Dataset (15 points)"
      ],
      "metadata": {
        "id": "hGSv2mkyPZlr"
      }
    },
    {
      "cell_type": "markdown",
      "source": [
        "1.Load the Spam Ham Detection dataset using Pandas. You can use the pd.read_csv() function to load the data from the CSV file. The v2 column contains the text of each message, and the v1 column contains the label (spam or ham) for each message. You need to use the following encoding to import the csv file correctly: data = pd.read_csv('spam.csv', encoding='latin-1')  (5 points)"
      ],
      "metadata": {
        "id": "EFvWedAZPhrH"
      }
    },
    {
      "cell_type": "code",
      "execution_count": 4,
      "metadata": {
        "id": "sHm3oasfPOTV",
        "colab": {
          "base_uri": "https://localhost:8080/",
          "height": 36
        },
        "outputId": "b19ffc28-8b37-4a02-ccf3-d6152bdd9458"
      },
      "outputs": [
        {
          "output_type": "execute_result",
          "data": {
            "text/plain": [
              "'2.14.0'"
            ],
            "application/vnd.google.colaboratory.intrinsic+json": {
              "type": "string"
            }
          },
          "metadata": {},
          "execution_count": 4
        }
      ],
      "source": [
        "import pandas as pd\n",
        "import tensorflow\n",
        "tensorflow.__version__"
      ]
    },
    {
      "cell_type": "code",
      "source": [
        "df = pd.read_csv('spam.csv', encoding='latin-1')"
      ],
      "metadata": {
        "id": "Uchs1rUcZtxj"
      },
      "execution_count": 5,
      "outputs": []
    },
    {
      "cell_type": "markdown",
      "source": [
        "2.Convert the label data to binary encoding using the map() function in Pandas. Map the value ham to 0 and the value spam to 1. save the labels in a new object called \"labels\". (5 points)"
      ],
      "metadata": {
        "id": "mGP6g-P8PtAr"
      }
    },
    {
      "cell_type": "code",
      "source": [
        "mapping = {'ham': 0, 'spam': 1}\n",
        "df['labels'] = df['v1'].map(mapping)"
      ],
      "metadata": {
        "id": "AD046bprPyNG"
      },
      "execution_count": 6,
      "outputs": []
    },
    {
      "cell_type": "code",
      "source": [
        "df.head()"
      ],
      "metadata": {
        "colab": {
          "base_uri": "https://localhost:8080/",
          "height": 206
        },
        "id": "N_gP_4i3cqcz",
        "outputId": "a54abe7c-e3a1-4773-9a6c-024162e2e67d"
      },
      "execution_count": 7,
      "outputs": [
        {
          "output_type": "execute_result",
          "data": {
            "text/plain": [
              "     v1                                                 v2  labels\n",
              "0   ham  Go until jurong point, crazy.. Available only ...       0\n",
              "1   ham                      Ok lar... Joking wif u oni...       0\n",
              "2  spam  Free entry in 2 a wkly comp to win FA Cup fina...       1\n",
              "3   ham  U dun say so early hor... U c already then say...       0\n",
              "4   ham  Nah I don't think he goes to usf, he lives aro...       0"
            ],
            "text/html": [
              "\n",
              "  <div id=\"df-230ca685-bf77-4970-a217-3b9b0b55ff40\" class=\"colab-df-container\">\n",
              "    <div>\n",
              "<style scoped>\n",
              "    .dataframe tbody tr th:only-of-type {\n",
              "        vertical-align: middle;\n",
              "    }\n",
              "\n",
              "    .dataframe tbody tr th {\n",
              "        vertical-align: top;\n",
              "    }\n",
              "\n",
              "    .dataframe thead th {\n",
              "        text-align: right;\n",
              "    }\n",
              "</style>\n",
              "<table border=\"1\" class=\"dataframe\">\n",
              "  <thead>\n",
              "    <tr style=\"text-align: right;\">\n",
              "      <th></th>\n",
              "      <th>v1</th>\n",
              "      <th>v2</th>\n",
              "      <th>labels</th>\n",
              "    </tr>\n",
              "  </thead>\n",
              "  <tbody>\n",
              "    <tr>\n",
              "      <th>0</th>\n",
              "      <td>ham</td>\n",
              "      <td>Go until jurong point, crazy.. Available only ...</td>\n",
              "      <td>0</td>\n",
              "    </tr>\n",
              "    <tr>\n",
              "      <th>1</th>\n",
              "      <td>ham</td>\n",
              "      <td>Ok lar... Joking wif u oni...</td>\n",
              "      <td>0</td>\n",
              "    </tr>\n",
              "    <tr>\n",
              "      <th>2</th>\n",
              "      <td>spam</td>\n",
              "      <td>Free entry in 2 a wkly comp to win FA Cup fina...</td>\n",
              "      <td>1</td>\n",
              "    </tr>\n",
              "    <tr>\n",
              "      <th>3</th>\n",
              "      <td>ham</td>\n",
              "      <td>U dun say so early hor... U c already then say...</td>\n",
              "      <td>0</td>\n",
              "    </tr>\n",
              "    <tr>\n",
              "      <th>4</th>\n",
              "      <td>ham</td>\n",
              "      <td>Nah I don't think he goes to usf, he lives aro...</td>\n",
              "      <td>0</td>\n",
              "    </tr>\n",
              "  </tbody>\n",
              "</table>\n",
              "</div>\n",
              "    <div class=\"colab-df-buttons\">\n",
              "\n",
              "  <div class=\"colab-df-container\">\n",
              "    <button class=\"colab-df-convert\" onclick=\"convertToInteractive('df-230ca685-bf77-4970-a217-3b9b0b55ff40')\"\n",
              "            title=\"Convert this dataframe to an interactive table.\"\n",
              "            style=\"display:none;\">\n",
              "\n",
              "  <svg xmlns=\"http://www.w3.org/2000/svg\" height=\"24px\" viewBox=\"0 -960 960 960\">\n",
              "    <path d=\"M120-120v-720h720v720H120Zm60-500h600v-160H180v160Zm220 220h160v-160H400v160Zm0 220h160v-160H400v160ZM180-400h160v-160H180v160Zm440 0h160v-160H620v160ZM180-180h160v-160H180v160Zm440 0h160v-160H620v160Z\"/>\n",
              "  </svg>\n",
              "    </button>\n",
              "\n",
              "  <style>\n",
              "    .colab-df-container {\n",
              "      display:flex;\n",
              "      gap: 12px;\n",
              "    }\n",
              "\n",
              "    .colab-df-convert {\n",
              "      background-color: #E8F0FE;\n",
              "      border: none;\n",
              "      border-radius: 50%;\n",
              "      cursor: pointer;\n",
              "      display: none;\n",
              "      fill: #1967D2;\n",
              "      height: 32px;\n",
              "      padding: 0 0 0 0;\n",
              "      width: 32px;\n",
              "    }\n",
              "\n",
              "    .colab-df-convert:hover {\n",
              "      background-color: #E2EBFA;\n",
              "      box-shadow: 0px 1px 2px rgba(60, 64, 67, 0.3), 0px 1px 3px 1px rgba(60, 64, 67, 0.15);\n",
              "      fill: #174EA6;\n",
              "    }\n",
              "\n",
              "    .colab-df-buttons div {\n",
              "      margin-bottom: 4px;\n",
              "    }\n",
              "\n",
              "    [theme=dark] .colab-df-convert {\n",
              "      background-color: #3B4455;\n",
              "      fill: #D2E3FC;\n",
              "    }\n",
              "\n",
              "    [theme=dark] .colab-df-convert:hover {\n",
              "      background-color: #434B5C;\n",
              "      box-shadow: 0px 1px 3px 1px rgba(0, 0, 0, 0.15);\n",
              "      filter: drop-shadow(0px 1px 2px rgba(0, 0, 0, 0.3));\n",
              "      fill: #FFFFFF;\n",
              "    }\n",
              "  </style>\n",
              "\n",
              "    <script>\n",
              "      const buttonEl =\n",
              "        document.querySelector('#df-230ca685-bf77-4970-a217-3b9b0b55ff40 button.colab-df-convert');\n",
              "      buttonEl.style.display =\n",
              "        google.colab.kernel.accessAllowed ? 'block' : 'none';\n",
              "\n",
              "      async function convertToInteractive(key) {\n",
              "        const element = document.querySelector('#df-230ca685-bf77-4970-a217-3b9b0b55ff40');\n",
              "        const dataTable =\n",
              "          await google.colab.kernel.invokeFunction('convertToInteractive',\n",
              "                                                    [key], {});\n",
              "        if (!dataTable) return;\n",
              "\n",
              "        const docLinkHtml = 'Like what you see? Visit the ' +\n",
              "          '<a target=\"_blank\" href=https://colab.research.google.com/notebooks/data_table.ipynb>data table notebook</a>'\n",
              "          + ' to learn more about interactive tables.';\n",
              "        element.innerHTML = '';\n",
              "        dataTable['output_type'] = 'display_data';\n",
              "        await google.colab.output.renderOutput(dataTable, element);\n",
              "        const docLink = document.createElement('div');\n",
              "        docLink.innerHTML = docLinkHtml;\n",
              "        element.appendChild(docLink);\n",
              "      }\n",
              "    </script>\n",
              "  </div>\n",
              "\n",
              "\n",
              "<div id=\"df-4601a1ee-2690-4667-b926-30322a2d8ddb\">\n",
              "  <button class=\"colab-df-quickchart\" onclick=\"quickchart('df-4601a1ee-2690-4667-b926-30322a2d8ddb')\"\n",
              "            title=\"Suggest charts\"\n",
              "            style=\"display:none;\">\n",
              "\n",
              "<svg xmlns=\"http://www.w3.org/2000/svg\" height=\"24px\"viewBox=\"0 0 24 24\"\n",
              "     width=\"24px\">\n",
              "    <g>\n",
              "        <path d=\"M19 3H5c-1.1 0-2 .9-2 2v14c0 1.1.9 2 2 2h14c1.1 0 2-.9 2-2V5c0-1.1-.9-2-2-2zM9 17H7v-7h2v7zm4 0h-2V7h2v10zm4 0h-2v-4h2v4z\"/>\n",
              "    </g>\n",
              "</svg>\n",
              "  </button>\n",
              "\n",
              "<style>\n",
              "  .colab-df-quickchart {\n",
              "      --bg-color: #E8F0FE;\n",
              "      --fill-color: #1967D2;\n",
              "      --hover-bg-color: #E2EBFA;\n",
              "      --hover-fill-color: #174EA6;\n",
              "      --disabled-fill-color: #AAA;\n",
              "      --disabled-bg-color: #DDD;\n",
              "  }\n",
              "\n",
              "  [theme=dark] .colab-df-quickchart {\n",
              "      --bg-color: #3B4455;\n",
              "      --fill-color: #D2E3FC;\n",
              "      --hover-bg-color: #434B5C;\n",
              "      --hover-fill-color: #FFFFFF;\n",
              "      --disabled-bg-color: #3B4455;\n",
              "      --disabled-fill-color: #666;\n",
              "  }\n",
              "\n",
              "  .colab-df-quickchart {\n",
              "    background-color: var(--bg-color);\n",
              "    border: none;\n",
              "    border-radius: 50%;\n",
              "    cursor: pointer;\n",
              "    display: none;\n",
              "    fill: var(--fill-color);\n",
              "    height: 32px;\n",
              "    padding: 0;\n",
              "    width: 32px;\n",
              "  }\n",
              "\n",
              "  .colab-df-quickchart:hover {\n",
              "    background-color: var(--hover-bg-color);\n",
              "    box-shadow: 0 1px 2px rgba(60, 64, 67, 0.3), 0 1px 3px 1px rgba(60, 64, 67, 0.15);\n",
              "    fill: var(--button-hover-fill-color);\n",
              "  }\n",
              "\n",
              "  .colab-df-quickchart-complete:disabled,\n",
              "  .colab-df-quickchart-complete:disabled:hover {\n",
              "    background-color: var(--disabled-bg-color);\n",
              "    fill: var(--disabled-fill-color);\n",
              "    box-shadow: none;\n",
              "  }\n",
              "\n",
              "  .colab-df-spinner {\n",
              "    border: 2px solid var(--fill-color);\n",
              "    border-color: transparent;\n",
              "    border-bottom-color: var(--fill-color);\n",
              "    animation:\n",
              "      spin 1s steps(1) infinite;\n",
              "  }\n",
              "\n",
              "  @keyframes spin {\n",
              "    0% {\n",
              "      border-color: transparent;\n",
              "      border-bottom-color: var(--fill-color);\n",
              "      border-left-color: var(--fill-color);\n",
              "    }\n",
              "    20% {\n",
              "      border-color: transparent;\n",
              "      border-left-color: var(--fill-color);\n",
              "      border-top-color: var(--fill-color);\n",
              "    }\n",
              "    30% {\n",
              "      border-color: transparent;\n",
              "      border-left-color: var(--fill-color);\n",
              "      border-top-color: var(--fill-color);\n",
              "      border-right-color: var(--fill-color);\n",
              "    }\n",
              "    40% {\n",
              "      border-color: transparent;\n",
              "      border-right-color: var(--fill-color);\n",
              "      border-top-color: var(--fill-color);\n",
              "    }\n",
              "    60% {\n",
              "      border-color: transparent;\n",
              "      border-right-color: var(--fill-color);\n",
              "    }\n",
              "    80% {\n",
              "      border-color: transparent;\n",
              "      border-right-color: var(--fill-color);\n",
              "      border-bottom-color: var(--fill-color);\n",
              "    }\n",
              "    90% {\n",
              "      border-color: transparent;\n",
              "      border-bottom-color: var(--fill-color);\n",
              "    }\n",
              "  }\n",
              "</style>\n",
              "\n",
              "  <script>\n",
              "    async function quickchart(key) {\n",
              "      const quickchartButtonEl =\n",
              "        document.querySelector('#' + key + ' button');\n",
              "      quickchartButtonEl.disabled = true;  // To prevent multiple clicks.\n",
              "      quickchartButtonEl.classList.add('colab-df-spinner');\n",
              "      try {\n",
              "        const charts = await google.colab.kernel.invokeFunction(\n",
              "            'suggestCharts', [key], {});\n",
              "      } catch (error) {\n",
              "        console.error('Error during call to suggestCharts:', error);\n",
              "      }\n",
              "      quickchartButtonEl.classList.remove('colab-df-spinner');\n",
              "      quickchartButtonEl.classList.add('colab-df-quickchart-complete');\n",
              "    }\n",
              "    (() => {\n",
              "      let quickchartButtonEl =\n",
              "        document.querySelector('#df-4601a1ee-2690-4667-b926-30322a2d8ddb button');\n",
              "      quickchartButtonEl.style.display =\n",
              "        google.colab.kernel.accessAllowed ? 'block' : 'none';\n",
              "    })();\n",
              "  </script>\n",
              "</div>\n",
              "    </div>\n",
              "  </div>\n"
            ]
          },
          "metadata": {},
          "execution_count": 7
        }
      ]
    },
    {
      "cell_type": "code",
      "source": [
        "df= df.drop(columns= 'v1')\n",
        "df.head()"
      ],
      "metadata": {
        "colab": {
          "base_uri": "https://localhost:8080/",
          "height": 206
        },
        "id": "GL5b5NzedrSK",
        "outputId": "6122a2af-8846-4d10-caf8-923b6f095a7a"
      },
      "execution_count": 8,
      "outputs": [
        {
          "output_type": "execute_result",
          "data": {
            "text/plain": [
              "                                                  v2  labels\n",
              "0  Go until jurong point, crazy.. Available only ...       0\n",
              "1                      Ok lar... Joking wif u oni...       0\n",
              "2  Free entry in 2 a wkly comp to win FA Cup fina...       1\n",
              "3  U dun say so early hor... U c already then say...       0\n",
              "4  Nah I don't think he goes to usf, he lives aro...       0"
            ],
            "text/html": [
              "\n",
              "  <div id=\"df-e2fa8058-f481-4191-8d64-20ea9063f974\" class=\"colab-df-container\">\n",
              "    <div>\n",
              "<style scoped>\n",
              "    .dataframe tbody tr th:only-of-type {\n",
              "        vertical-align: middle;\n",
              "    }\n",
              "\n",
              "    .dataframe tbody tr th {\n",
              "        vertical-align: top;\n",
              "    }\n",
              "\n",
              "    .dataframe thead th {\n",
              "        text-align: right;\n",
              "    }\n",
              "</style>\n",
              "<table border=\"1\" class=\"dataframe\">\n",
              "  <thead>\n",
              "    <tr style=\"text-align: right;\">\n",
              "      <th></th>\n",
              "      <th>v2</th>\n",
              "      <th>labels</th>\n",
              "    </tr>\n",
              "  </thead>\n",
              "  <tbody>\n",
              "    <tr>\n",
              "      <th>0</th>\n",
              "      <td>Go until jurong point, crazy.. Available only ...</td>\n",
              "      <td>0</td>\n",
              "    </tr>\n",
              "    <tr>\n",
              "      <th>1</th>\n",
              "      <td>Ok lar... Joking wif u oni...</td>\n",
              "      <td>0</td>\n",
              "    </tr>\n",
              "    <tr>\n",
              "      <th>2</th>\n",
              "      <td>Free entry in 2 a wkly comp to win FA Cup fina...</td>\n",
              "      <td>1</td>\n",
              "    </tr>\n",
              "    <tr>\n",
              "      <th>3</th>\n",
              "      <td>U dun say so early hor... U c already then say...</td>\n",
              "      <td>0</td>\n",
              "    </tr>\n",
              "    <tr>\n",
              "      <th>4</th>\n",
              "      <td>Nah I don't think he goes to usf, he lives aro...</td>\n",
              "      <td>0</td>\n",
              "    </tr>\n",
              "  </tbody>\n",
              "</table>\n",
              "</div>\n",
              "    <div class=\"colab-df-buttons\">\n",
              "\n",
              "  <div class=\"colab-df-container\">\n",
              "    <button class=\"colab-df-convert\" onclick=\"convertToInteractive('df-e2fa8058-f481-4191-8d64-20ea9063f974')\"\n",
              "            title=\"Convert this dataframe to an interactive table.\"\n",
              "            style=\"display:none;\">\n",
              "\n",
              "  <svg xmlns=\"http://www.w3.org/2000/svg\" height=\"24px\" viewBox=\"0 -960 960 960\">\n",
              "    <path d=\"M120-120v-720h720v720H120Zm60-500h600v-160H180v160Zm220 220h160v-160H400v160Zm0 220h160v-160H400v160ZM180-400h160v-160H180v160Zm440 0h160v-160H620v160ZM180-180h160v-160H180v160Zm440 0h160v-160H620v160Z\"/>\n",
              "  </svg>\n",
              "    </button>\n",
              "\n",
              "  <style>\n",
              "    .colab-df-container {\n",
              "      display:flex;\n",
              "      gap: 12px;\n",
              "    }\n",
              "\n",
              "    .colab-df-convert {\n",
              "      background-color: #E8F0FE;\n",
              "      border: none;\n",
              "      border-radius: 50%;\n",
              "      cursor: pointer;\n",
              "      display: none;\n",
              "      fill: #1967D2;\n",
              "      height: 32px;\n",
              "      padding: 0 0 0 0;\n",
              "      width: 32px;\n",
              "    }\n",
              "\n",
              "    .colab-df-convert:hover {\n",
              "      background-color: #E2EBFA;\n",
              "      box-shadow: 0px 1px 2px rgba(60, 64, 67, 0.3), 0px 1px 3px 1px rgba(60, 64, 67, 0.15);\n",
              "      fill: #174EA6;\n",
              "    }\n",
              "\n",
              "    .colab-df-buttons div {\n",
              "      margin-bottom: 4px;\n",
              "    }\n",
              "\n",
              "    [theme=dark] .colab-df-convert {\n",
              "      background-color: #3B4455;\n",
              "      fill: #D2E3FC;\n",
              "    }\n",
              "\n",
              "    [theme=dark] .colab-df-convert:hover {\n",
              "      background-color: #434B5C;\n",
              "      box-shadow: 0px 1px 3px 1px rgba(0, 0, 0, 0.15);\n",
              "      filter: drop-shadow(0px 1px 2px rgba(0, 0, 0, 0.3));\n",
              "      fill: #FFFFFF;\n",
              "    }\n",
              "  </style>\n",
              "\n",
              "    <script>\n",
              "      const buttonEl =\n",
              "        document.querySelector('#df-e2fa8058-f481-4191-8d64-20ea9063f974 button.colab-df-convert');\n",
              "      buttonEl.style.display =\n",
              "        google.colab.kernel.accessAllowed ? 'block' : 'none';\n",
              "\n",
              "      async function convertToInteractive(key) {\n",
              "        const element = document.querySelector('#df-e2fa8058-f481-4191-8d64-20ea9063f974');\n",
              "        const dataTable =\n",
              "          await google.colab.kernel.invokeFunction('convertToInteractive',\n",
              "                                                    [key], {});\n",
              "        if (!dataTable) return;\n",
              "\n",
              "        const docLinkHtml = 'Like what you see? Visit the ' +\n",
              "          '<a target=\"_blank\" href=https://colab.research.google.com/notebooks/data_table.ipynb>data table notebook</a>'\n",
              "          + ' to learn more about interactive tables.';\n",
              "        element.innerHTML = '';\n",
              "        dataTable['output_type'] = 'display_data';\n",
              "        await google.colab.output.renderOutput(dataTable, element);\n",
              "        const docLink = document.createElement('div');\n",
              "        docLink.innerHTML = docLinkHtml;\n",
              "        element.appendChild(docLink);\n",
              "      }\n",
              "    </script>\n",
              "  </div>\n",
              "\n",
              "\n",
              "<div id=\"df-c1cde94f-f9b4-4bb3-852f-edd12d9345bb\">\n",
              "  <button class=\"colab-df-quickchart\" onclick=\"quickchart('df-c1cde94f-f9b4-4bb3-852f-edd12d9345bb')\"\n",
              "            title=\"Suggest charts\"\n",
              "            style=\"display:none;\">\n",
              "\n",
              "<svg xmlns=\"http://www.w3.org/2000/svg\" height=\"24px\"viewBox=\"0 0 24 24\"\n",
              "     width=\"24px\">\n",
              "    <g>\n",
              "        <path d=\"M19 3H5c-1.1 0-2 .9-2 2v14c0 1.1.9 2 2 2h14c1.1 0 2-.9 2-2V5c0-1.1-.9-2-2-2zM9 17H7v-7h2v7zm4 0h-2V7h2v10zm4 0h-2v-4h2v4z\"/>\n",
              "    </g>\n",
              "</svg>\n",
              "  </button>\n",
              "\n",
              "<style>\n",
              "  .colab-df-quickchart {\n",
              "      --bg-color: #E8F0FE;\n",
              "      --fill-color: #1967D2;\n",
              "      --hover-bg-color: #E2EBFA;\n",
              "      --hover-fill-color: #174EA6;\n",
              "      --disabled-fill-color: #AAA;\n",
              "      --disabled-bg-color: #DDD;\n",
              "  }\n",
              "\n",
              "  [theme=dark] .colab-df-quickchart {\n",
              "      --bg-color: #3B4455;\n",
              "      --fill-color: #D2E3FC;\n",
              "      --hover-bg-color: #434B5C;\n",
              "      --hover-fill-color: #FFFFFF;\n",
              "      --disabled-bg-color: #3B4455;\n",
              "      --disabled-fill-color: #666;\n",
              "  }\n",
              "\n",
              "  .colab-df-quickchart {\n",
              "    background-color: var(--bg-color);\n",
              "    border: none;\n",
              "    border-radius: 50%;\n",
              "    cursor: pointer;\n",
              "    display: none;\n",
              "    fill: var(--fill-color);\n",
              "    height: 32px;\n",
              "    padding: 0;\n",
              "    width: 32px;\n",
              "  }\n",
              "\n",
              "  .colab-df-quickchart:hover {\n",
              "    background-color: var(--hover-bg-color);\n",
              "    box-shadow: 0 1px 2px rgba(60, 64, 67, 0.3), 0 1px 3px 1px rgba(60, 64, 67, 0.15);\n",
              "    fill: var(--button-hover-fill-color);\n",
              "  }\n",
              "\n",
              "  .colab-df-quickchart-complete:disabled,\n",
              "  .colab-df-quickchart-complete:disabled:hover {\n",
              "    background-color: var(--disabled-bg-color);\n",
              "    fill: var(--disabled-fill-color);\n",
              "    box-shadow: none;\n",
              "  }\n",
              "\n",
              "  .colab-df-spinner {\n",
              "    border: 2px solid var(--fill-color);\n",
              "    border-color: transparent;\n",
              "    border-bottom-color: var(--fill-color);\n",
              "    animation:\n",
              "      spin 1s steps(1) infinite;\n",
              "  }\n",
              "\n",
              "  @keyframes spin {\n",
              "    0% {\n",
              "      border-color: transparent;\n",
              "      border-bottom-color: var(--fill-color);\n",
              "      border-left-color: var(--fill-color);\n",
              "    }\n",
              "    20% {\n",
              "      border-color: transparent;\n",
              "      border-left-color: var(--fill-color);\n",
              "      border-top-color: var(--fill-color);\n",
              "    }\n",
              "    30% {\n",
              "      border-color: transparent;\n",
              "      border-left-color: var(--fill-color);\n",
              "      border-top-color: var(--fill-color);\n",
              "      border-right-color: var(--fill-color);\n",
              "    }\n",
              "    40% {\n",
              "      border-color: transparent;\n",
              "      border-right-color: var(--fill-color);\n",
              "      border-top-color: var(--fill-color);\n",
              "    }\n",
              "    60% {\n",
              "      border-color: transparent;\n",
              "      border-right-color: var(--fill-color);\n",
              "    }\n",
              "    80% {\n",
              "      border-color: transparent;\n",
              "      border-right-color: var(--fill-color);\n",
              "      border-bottom-color: var(--fill-color);\n",
              "    }\n",
              "    90% {\n",
              "      border-color: transparent;\n",
              "      border-bottom-color: var(--fill-color);\n",
              "    }\n",
              "  }\n",
              "</style>\n",
              "\n",
              "  <script>\n",
              "    async function quickchart(key) {\n",
              "      const quickchartButtonEl =\n",
              "        document.querySelector('#' + key + ' button');\n",
              "      quickchartButtonEl.disabled = true;  // To prevent multiple clicks.\n",
              "      quickchartButtonEl.classList.add('colab-df-spinner');\n",
              "      try {\n",
              "        const charts = await google.colab.kernel.invokeFunction(\n",
              "            'suggestCharts', [key], {});\n",
              "      } catch (error) {\n",
              "        console.error('Error during call to suggestCharts:', error);\n",
              "      }\n",
              "      quickchartButtonEl.classList.remove('colab-df-spinner');\n",
              "      quickchartButtonEl.classList.add('colab-df-quickchart-complete');\n",
              "    }\n",
              "    (() => {\n",
              "      let quickchartButtonEl =\n",
              "        document.querySelector('#df-c1cde94f-f9b4-4bb3-852f-edd12d9345bb button');\n",
              "      quickchartButtonEl.style.display =\n",
              "        google.colab.kernel.accessAllowed ? 'block' : 'none';\n",
              "    })();\n",
              "  </script>\n",
              "</div>\n",
              "    </div>\n",
              "  </div>\n"
            ]
          },
          "metadata": {},
          "execution_count": 8
        }
      ]
    },
    {
      "cell_type": "markdown",
      "source": [
        "3.Split the dataset into training and validation sets. Use a 70/30 split for the training/validation data. You can use sklearn for this: from sklearn.model_selection import train_test_split (5 points)"
      ],
      "metadata": {
        "id": "IZlPTFrAPyku"
      }
    },
    {
      "cell_type": "code",
      "source": [
        "from sklearn.model_selection import train_test_split"
      ],
      "metadata": {
        "id": "LFNsPbEvP4HS"
      },
      "execution_count": 9,
      "outputs": []
    },
    {
      "cell_type": "code",
      "source": [
        "x = df.drop(columns='labels')  # split into train and test\n",
        "y = df['labels']"
      ],
      "metadata": {
        "id": "dm3EXKyyeOOW"
      },
      "execution_count": 10,
      "outputs": []
    },
    {
      "cell_type": "code",
      "source": [
        "x_train, x_val, y_train, y_val = train_test_split(x, y, test_size=0.3)"
      ],
      "metadata": {
        "id": "G-G2uNI0fsnh"
      },
      "execution_count": 11,
      "outputs": []
    },
    {
      "cell_type": "code",
      "source": [
        "x_train"
      ],
      "metadata": {
        "colab": {
          "base_uri": "https://localhost:8080/",
          "height": 423
        },
        "id": "8v1av6OWf8v0",
        "outputId": "89a4e9b1-aa63-4aef-e4fb-5b9777940c61"
      },
      "execution_count": 12,
      "outputs": [
        {
          "output_type": "execute_result",
          "data": {
            "text/plain": [
              "                                                     v2\n",
              "2537          That's y we haf to combine n c how lor...\n",
              "1432             Thanks for ve lovely wisheds. You rock\n",
              "5161  Lol no. I just need to cash in my nitros. Hurr...\n",
              "3318                   Kay... Since we are out already \n",
              "709   4mths half price Orange line rental & latest c...\n",
              "...                                                 ...\n",
              "1336  Sweet, we may or may not go to 4U to meet carl...\n",
              "2760         I dont thnk its a wrong calling between us\n",
              "4577  Urgent! call 09066350750 from your landline. Y...\n",
              "1262  Hungry gay guys feeling hungry and up 4 it, no...\n",
              "2368        If you r @ home then come down within 5 min\n",
              "\n",
              "[3900 rows x 1 columns]"
            ],
            "text/html": [
              "\n",
              "  <div id=\"df-b88b5199-6d16-40cf-8164-959a04601092\" class=\"colab-df-container\">\n",
              "    <div>\n",
              "<style scoped>\n",
              "    .dataframe tbody tr th:only-of-type {\n",
              "        vertical-align: middle;\n",
              "    }\n",
              "\n",
              "    .dataframe tbody tr th {\n",
              "        vertical-align: top;\n",
              "    }\n",
              "\n",
              "    .dataframe thead th {\n",
              "        text-align: right;\n",
              "    }\n",
              "</style>\n",
              "<table border=\"1\" class=\"dataframe\">\n",
              "  <thead>\n",
              "    <tr style=\"text-align: right;\">\n",
              "      <th></th>\n",
              "      <th>v2</th>\n",
              "    </tr>\n",
              "  </thead>\n",
              "  <tbody>\n",
              "    <tr>\n",
              "      <th>2537</th>\n",
              "      <td>That's y we haf to combine n c how lor...</td>\n",
              "    </tr>\n",
              "    <tr>\n",
              "      <th>1432</th>\n",
              "      <td>Thanks for ve lovely wisheds. You rock</td>\n",
              "    </tr>\n",
              "    <tr>\n",
              "      <th>5161</th>\n",
              "      <td>Lol no. I just need to cash in my nitros. Hurr...</td>\n",
              "    </tr>\n",
              "    <tr>\n",
              "      <th>3318</th>\n",
              "      <td>Kay... Since we are out already</td>\n",
              "    </tr>\n",
              "    <tr>\n",
              "      <th>709</th>\n",
              "      <td>4mths half price Orange line rental &amp; latest c...</td>\n",
              "    </tr>\n",
              "    <tr>\n",
              "      <th>...</th>\n",
              "      <td>...</td>\n",
              "    </tr>\n",
              "    <tr>\n",
              "      <th>1336</th>\n",
              "      <td>Sweet, we may or may not go to 4U to meet carl...</td>\n",
              "    </tr>\n",
              "    <tr>\n",
              "      <th>2760</th>\n",
              "      <td>I dont thnk its a wrong calling between us</td>\n",
              "    </tr>\n",
              "    <tr>\n",
              "      <th>4577</th>\n",
              "      <td>Urgent! call 09066350750 from your landline. Y...</td>\n",
              "    </tr>\n",
              "    <tr>\n",
              "      <th>1262</th>\n",
              "      <td>Hungry gay guys feeling hungry and up 4 it, no...</td>\n",
              "    </tr>\n",
              "    <tr>\n",
              "      <th>2368</th>\n",
              "      <td>If you r @ home then come down within 5 min</td>\n",
              "    </tr>\n",
              "  </tbody>\n",
              "</table>\n",
              "<p>3900 rows × 1 columns</p>\n",
              "</div>\n",
              "    <div class=\"colab-df-buttons\">\n",
              "\n",
              "  <div class=\"colab-df-container\">\n",
              "    <button class=\"colab-df-convert\" onclick=\"convertToInteractive('df-b88b5199-6d16-40cf-8164-959a04601092')\"\n",
              "            title=\"Convert this dataframe to an interactive table.\"\n",
              "            style=\"display:none;\">\n",
              "\n",
              "  <svg xmlns=\"http://www.w3.org/2000/svg\" height=\"24px\" viewBox=\"0 -960 960 960\">\n",
              "    <path d=\"M120-120v-720h720v720H120Zm60-500h600v-160H180v160Zm220 220h160v-160H400v160Zm0 220h160v-160H400v160ZM180-400h160v-160H180v160Zm440 0h160v-160H620v160ZM180-180h160v-160H180v160Zm440 0h160v-160H620v160Z\"/>\n",
              "  </svg>\n",
              "    </button>\n",
              "\n",
              "  <style>\n",
              "    .colab-df-container {\n",
              "      display:flex;\n",
              "      gap: 12px;\n",
              "    }\n",
              "\n",
              "    .colab-df-convert {\n",
              "      background-color: #E8F0FE;\n",
              "      border: none;\n",
              "      border-radius: 50%;\n",
              "      cursor: pointer;\n",
              "      display: none;\n",
              "      fill: #1967D2;\n",
              "      height: 32px;\n",
              "      padding: 0 0 0 0;\n",
              "      width: 32px;\n",
              "    }\n",
              "\n",
              "    .colab-df-convert:hover {\n",
              "      background-color: #E2EBFA;\n",
              "      box-shadow: 0px 1px 2px rgba(60, 64, 67, 0.3), 0px 1px 3px 1px rgba(60, 64, 67, 0.15);\n",
              "      fill: #174EA6;\n",
              "    }\n",
              "\n",
              "    .colab-df-buttons div {\n",
              "      margin-bottom: 4px;\n",
              "    }\n",
              "\n",
              "    [theme=dark] .colab-df-convert {\n",
              "      background-color: #3B4455;\n",
              "      fill: #D2E3FC;\n",
              "    }\n",
              "\n",
              "    [theme=dark] .colab-df-convert:hover {\n",
              "      background-color: #434B5C;\n",
              "      box-shadow: 0px 1px 3px 1px rgba(0, 0, 0, 0.15);\n",
              "      filter: drop-shadow(0px 1px 2px rgba(0, 0, 0, 0.3));\n",
              "      fill: #FFFFFF;\n",
              "    }\n",
              "  </style>\n",
              "\n",
              "    <script>\n",
              "      const buttonEl =\n",
              "        document.querySelector('#df-b88b5199-6d16-40cf-8164-959a04601092 button.colab-df-convert');\n",
              "      buttonEl.style.display =\n",
              "        google.colab.kernel.accessAllowed ? 'block' : 'none';\n",
              "\n",
              "      async function convertToInteractive(key) {\n",
              "        const element = document.querySelector('#df-b88b5199-6d16-40cf-8164-959a04601092');\n",
              "        const dataTable =\n",
              "          await google.colab.kernel.invokeFunction('convertToInteractive',\n",
              "                                                    [key], {});\n",
              "        if (!dataTable) return;\n",
              "\n",
              "        const docLinkHtml = 'Like what you see? Visit the ' +\n",
              "          '<a target=\"_blank\" href=https://colab.research.google.com/notebooks/data_table.ipynb>data table notebook</a>'\n",
              "          + ' to learn more about interactive tables.';\n",
              "        element.innerHTML = '';\n",
              "        dataTable['output_type'] = 'display_data';\n",
              "        await google.colab.output.renderOutput(dataTable, element);\n",
              "        const docLink = document.createElement('div');\n",
              "        docLink.innerHTML = docLinkHtml;\n",
              "        element.appendChild(docLink);\n",
              "      }\n",
              "    </script>\n",
              "  </div>\n",
              "\n",
              "\n",
              "<div id=\"df-dae39bbf-aa94-4e9c-a90f-430c196f9250\">\n",
              "  <button class=\"colab-df-quickchart\" onclick=\"quickchart('df-dae39bbf-aa94-4e9c-a90f-430c196f9250')\"\n",
              "            title=\"Suggest charts\"\n",
              "            style=\"display:none;\">\n",
              "\n",
              "<svg xmlns=\"http://www.w3.org/2000/svg\" height=\"24px\"viewBox=\"0 0 24 24\"\n",
              "     width=\"24px\">\n",
              "    <g>\n",
              "        <path d=\"M19 3H5c-1.1 0-2 .9-2 2v14c0 1.1.9 2 2 2h14c1.1 0 2-.9 2-2V5c0-1.1-.9-2-2-2zM9 17H7v-7h2v7zm4 0h-2V7h2v10zm4 0h-2v-4h2v4z\"/>\n",
              "    </g>\n",
              "</svg>\n",
              "  </button>\n",
              "\n",
              "<style>\n",
              "  .colab-df-quickchart {\n",
              "      --bg-color: #E8F0FE;\n",
              "      --fill-color: #1967D2;\n",
              "      --hover-bg-color: #E2EBFA;\n",
              "      --hover-fill-color: #174EA6;\n",
              "      --disabled-fill-color: #AAA;\n",
              "      --disabled-bg-color: #DDD;\n",
              "  }\n",
              "\n",
              "  [theme=dark] .colab-df-quickchart {\n",
              "      --bg-color: #3B4455;\n",
              "      --fill-color: #D2E3FC;\n",
              "      --hover-bg-color: #434B5C;\n",
              "      --hover-fill-color: #FFFFFF;\n",
              "      --disabled-bg-color: #3B4455;\n",
              "      --disabled-fill-color: #666;\n",
              "  }\n",
              "\n",
              "  .colab-df-quickchart {\n",
              "    background-color: var(--bg-color);\n",
              "    border: none;\n",
              "    border-radius: 50%;\n",
              "    cursor: pointer;\n",
              "    display: none;\n",
              "    fill: var(--fill-color);\n",
              "    height: 32px;\n",
              "    padding: 0;\n",
              "    width: 32px;\n",
              "  }\n",
              "\n",
              "  .colab-df-quickchart:hover {\n",
              "    background-color: var(--hover-bg-color);\n",
              "    box-shadow: 0 1px 2px rgba(60, 64, 67, 0.3), 0 1px 3px 1px rgba(60, 64, 67, 0.15);\n",
              "    fill: var(--button-hover-fill-color);\n",
              "  }\n",
              "\n",
              "  .colab-df-quickchart-complete:disabled,\n",
              "  .colab-df-quickchart-complete:disabled:hover {\n",
              "    background-color: var(--disabled-bg-color);\n",
              "    fill: var(--disabled-fill-color);\n",
              "    box-shadow: none;\n",
              "  }\n",
              "\n",
              "  .colab-df-spinner {\n",
              "    border: 2px solid var(--fill-color);\n",
              "    border-color: transparent;\n",
              "    border-bottom-color: var(--fill-color);\n",
              "    animation:\n",
              "      spin 1s steps(1) infinite;\n",
              "  }\n",
              "\n",
              "  @keyframes spin {\n",
              "    0% {\n",
              "      border-color: transparent;\n",
              "      border-bottom-color: var(--fill-color);\n",
              "      border-left-color: var(--fill-color);\n",
              "    }\n",
              "    20% {\n",
              "      border-color: transparent;\n",
              "      border-left-color: var(--fill-color);\n",
              "      border-top-color: var(--fill-color);\n",
              "    }\n",
              "    30% {\n",
              "      border-color: transparent;\n",
              "      border-left-color: var(--fill-color);\n",
              "      border-top-color: var(--fill-color);\n",
              "      border-right-color: var(--fill-color);\n",
              "    }\n",
              "    40% {\n",
              "      border-color: transparent;\n",
              "      border-right-color: var(--fill-color);\n",
              "      border-top-color: var(--fill-color);\n",
              "    }\n",
              "    60% {\n",
              "      border-color: transparent;\n",
              "      border-right-color: var(--fill-color);\n",
              "    }\n",
              "    80% {\n",
              "      border-color: transparent;\n",
              "      border-right-color: var(--fill-color);\n",
              "      border-bottom-color: var(--fill-color);\n",
              "    }\n",
              "    90% {\n",
              "      border-color: transparent;\n",
              "      border-bottom-color: var(--fill-color);\n",
              "    }\n",
              "  }\n",
              "</style>\n",
              "\n",
              "  <script>\n",
              "    async function quickchart(key) {\n",
              "      const quickchartButtonEl =\n",
              "        document.querySelector('#' + key + ' button');\n",
              "      quickchartButtonEl.disabled = true;  // To prevent multiple clicks.\n",
              "      quickchartButtonEl.classList.add('colab-df-spinner');\n",
              "      try {\n",
              "        const charts = await google.colab.kernel.invokeFunction(\n",
              "            'suggestCharts', [key], {});\n",
              "      } catch (error) {\n",
              "        console.error('Error during call to suggestCharts:', error);\n",
              "      }\n",
              "      quickchartButtonEl.classList.remove('colab-df-spinner');\n",
              "      quickchartButtonEl.classList.add('colab-df-quickchart-complete');\n",
              "    }\n",
              "    (() => {\n",
              "      let quickchartButtonEl =\n",
              "        document.querySelector('#df-dae39bbf-aa94-4e9c-a90f-430c196f9250 button');\n",
              "      quickchartButtonEl.style.display =\n",
              "        google.colab.kernel.accessAllowed ? 'block' : 'none';\n",
              "    })();\n",
              "  </script>\n",
              "</div>\n",
              "    </div>\n",
              "  </div>\n"
            ]
          },
          "metadata": {},
          "execution_count": 12
        }
      ]
    },
    {
      "cell_type": "markdown",
      "source": [
        "# Question 2:  Bag of Words approach: (bigrams tokenizer and multi-hot encoding) (45 points)"
      ],
      "metadata": {
        "id": "xaUFU66PRfQk"
      }
    },
    {
      "cell_type": "markdown",
      "source": [
        "1.Use the TextVectorization layer in Keras to preprocess the text data. Set the max_tokens parameter to 10,000.  text_vectorization = TextVectorization( ....) (5 points)"
      ],
      "metadata": {
        "id": "T6xghKC2QDp-"
      }
    },
    {
      "cell_type": "code",
      "source": [
        "from keras.layers import TextVectorization"
      ],
      "metadata": {
        "id": "2sMYBlZhQM3V"
      },
      "execution_count": 13,
      "outputs": []
    },
    {
      "cell_type": "code",
      "source": [
        "text_vectorization = TextVectorization(max_tokens=10000,output_mode=\"multi_hot\",ngrams=2)"
      ],
      "metadata": {
        "id": "6iz9gcJPrDD8"
      },
      "execution_count": 14,
      "outputs": []
    },
    {
      "cell_type": "markdown",
      "source": [
        "2.Fit the vectorization layer to the text data in the train set using adapt(). text_vectorization.adapt(....) (5 points)"
      ],
      "metadata": {
        "id": "xczF7LdDQNIN"
      }
    },
    {
      "cell_type": "code",
      "source": [
        "import numpy as np\n"
      ],
      "metadata": {
        "id": "ecJyFJL2tjXq"
      },
      "execution_count": 15,
      "outputs": []
    },
    {
      "cell_type": "code",
      "source": [
        "text_vectorization.adapt(x_train)"
      ],
      "metadata": {
        "id": "bIhzT0fPQTcv"
      },
      "execution_count": 16,
      "outputs": []
    },
    {
      "cell_type": "markdown",
      "source": [
        "3.Vectorize the X_train and X_val with the text_vectorization you fit in the previous step. You can call them X_train_vectorized and X_val_vectorized. We need to pass this data along with the labels (y_train, y_val) to fit the model. (5 points)"
      ],
      "metadata": {
        "id": "cdY3n1nlQT4h"
      }
    },
    {
      "cell_type": "code",
      "source": [
        "x_train_vectorized = text_vectorization(x_train)\n",
        "x_val_vectorized = text_vectorization(x_val)"
      ],
      "metadata": {
        "id": "-wIHDmqjQawj"
      },
      "execution_count": 17,
      "outputs": []
    },
    {
      "cell_type": "code",
      "source": [
        "print(x_train_vectorized.shape)\n",
        "print(x_val_vectorized.shape)"
      ],
      "metadata": {
        "colab": {
          "base_uri": "https://localhost:8080/"
        },
        "id": "QAFeCtVEE_r7",
        "outputId": "3149bb68-464a-4eca-96ce-01004cd65a2d"
      },
      "execution_count": 18,
      "outputs": [
        {
          "output_type": "stream",
          "name": "stdout",
          "text": [
            "(3900, 10000)\n",
            "(1672, 10000)\n"
          ]
        }
      ]
    },
    {
      "cell_type": "code",
      "source": [
        "x_train_vectorized"
      ],
      "metadata": {
        "colab": {
          "base_uri": "https://localhost:8080/"
        },
        "id": "zkuI_ONV-XB3",
        "outputId": "240aded7-09b1-430b-b2b0-6dd4206ee9b8"
      },
      "execution_count": 19,
      "outputs": [
        {
          "output_type": "execute_result",
          "data": {
            "text/plain": [
              "<tf.Tensor: shape=(3900, 10000), dtype=float32, numpy=\n",
              "array([[1., 0., 1., ..., 0., 0., 0.],\n",
              "       [1., 0., 0., ..., 0., 0., 0.],\n",
              "       [1., 1., 1., ..., 0., 0., 0.],\n",
              "       ...,\n",
              "       [1., 0., 0., ..., 0., 0., 0.],\n",
              "       [1., 0., 1., ..., 0., 0., 0.],\n",
              "       [1., 0., 0., ..., 0., 0., 0.]], dtype=float32)>"
            ]
          },
          "metadata": {},
          "execution_count": 19
        }
      ]
    },
    {
      "cell_type": "markdown",
      "source": [
        "4.Construct your Bag of Words model as follows: (10 points)\n",
        "One hidden layer with 32 nodes.  \n",
        "Drop out layer with ratio = 0.3  \n",
        "use an appropriate activation functions for the dense layer and the output layer\n",
        "use the correct loss function\n",
        "keep track of the accuracy metric"
      ],
      "metadata": {
        "id": "7BN5j1FMQbFY"
      }
    },
    {
      "cell_type": "code",
      "source": [
        "from tensorflow.keras.models import Model\n",
        "from tensorflow.keras.layers import Input, Dense, Dropout\n",
        "from tensorflow.keras.optimizers import Adam\n",
        "from tensorflow.keras.callbacks import ModelCheckpoint\n"
      ],
      "metadata": {
        "id": "a6tcx98IQnFB"
      },
      "execution_count": 20,
      "outputs": []
    },
    {
      "cell_type": "code",
      "source": [
        "model_checkpoint = ModelCheckpoint(monitor='val_loss', save_best_only=True, filepath=\"bag_of_words_best.h5\")\n",
        "callback_list    = [model_checkpoint]"
      ],
      "metadata": {
        "id": "BED7_gvFAXtR"
      },
      "execution_count": 21,
      "outputs": []
    },
    {
      "cell_type": "code",
      "source": [
        "x_train_vectorized"
      ],
      "metadata": {
        "colab": {
          "base_uri": "https://localhost:8080/"
        },
        "id": "N74d2XOYCI4N",
        "outputId": "69323c1d-35c5-4515-ff83-18fe4cbf12dd"
      },
      "execution_count": 22,
      "outputs": [
        {
          "output_type": "execute_result",
          "data": {
            "text/plain": [
              "<tf.Tensor: shape=(3900, 10000), dtype=float32, numpy=\n",
              "array([[1., 0., 1., ..., 0., 0., 0.],\n",
              "       [1., 0., 0., ..., 0., 0., 0.],\n",
              "       [1., 1., 1., ..., 0., 0., 0.],\n",
              "       ...,\n",
              "       [1., 0., 0., ..., 0., 0., 0.],\n",
              "       [1., 0., 1., ..., 0., 0., 0.],\n",
              "       [1., 0., 0., ..., 0., 0., 0.]], dtype=float32)>"
            ]
          },
          "metadata": {},
          "execution_count": 22
        }
      ]
    },
    {
      "cell_type": "code",
      "source": [
        "input_shape = x_train_vectorized.shape[1]\n"
      ],
      "metadata": {
        "id": "OubCgWUECAEi"
      },
      "execution_count": 23,
      "outputs": []
    },
    {
      "cell_type": "code",
      "source": [
        "input_shape"
      ],
      "metadata": {
        "colab": {
          "base_uri": "https://localhost:8080/"
        },
        "id": "98gmPk3iCEXx",
        "outputId": "16f8f634-5943-4ad8-96d9-f5329130dea9"
      },
      "execution_count": 24,
      "outputs": [
        {
          "output_type": "execute_result",
          "data": {
            "text/plain": [
              "10000"
            ]
          },
          "metadata": {},
          "execution_count": 24
        }
      ]
    },
    {
      "cell_type": "code",
      "source": [
        "def build_bow_model(input_shape):\n",
        "    # Define the model architecture\n",
        "    inputs = Input(shape=(input_shape,), name='input_layer')\n",
        "    x = Dense(32, activation='relu', name='hidden_layer')(inputs)\n",
        "    x = Dropout(0.3, name='dropout_layer')(x)\n",
        "    outputs = Dense(1, activation='sigmoid', name='output_layer')(x)\n",
        "\n",
        "    # Create and compile the model\n",
        "    model = Model(inputs=inputs, outputs=outputs, name='bag_of_words_model')\n",
        "    model.compile(optimizer=Adam(), loss='binary_crossentropy', metrics=['accuracy'])\n",
        "\n",
        "    return model"
      ],
      "metadata": {
        "id": "jlQiuIt2AXGK"
      },
      "execution_count": 25,
      "outputs": []
    },
    {
      "cell_type": "code",
      "source": [
        "bow_model = build_bow_model(input_shape)\n"
      ],
      "metadata": {
        "id": "5fIvFnSVBMCq"
      },
      "execution_count": 26,
      "outputs": []
    },
    {
      "cell_type": "markdown",
      "source": [
        "5.Report the model.summary(). How many parameters does your model have? (5 points)"
      ],
      "metadata": {
        "id": "_-gvstUaQnq3"
      }
    },
    {
      "cell_type": "code",
      "source": [
        "bow_model.summary()"
      ],
      "metadata": {
        "colab": {
          "base_uri": "https://localhost:8080/"
        },
        "id": "Otd2wnTLQstl",
        "outputId": "41e2147f-058e-4c3b-d61c-5f09e4233b69"
      },
      "execution_count": 27,
      "outputs": [
        {
          "output_type": "stream",
          "name": "stdout",
          "text": [
            "Model: \"bag_of_words_model\"\n",
            "_________________________________________________________________\n",
            " Layer (type)                Output Shape              Param #   \n",
            "=================================================================\n",
            " input_layer (InputLayer)    [(None, 10000)]           0         \n",
            "                                                                 \n",
            " hidden_layer (Dense)        (None, 32)                320032    \n",
            "                                                                 \n",
            " dropout_layer (Dropout)     (None, 32)                0         \n",
            "                                                                 \n",
            " output_layer (Dense)        (None, 1)                 33        \n",
            "                                                                 \n",
            "=================================================================\n",
            "Total params: 320065 (1.22 MB)\n",
            "Trainable params: 320065 (1.22 MB)\n",
            "Non-trainable params: 0 (0.00 Byte)\n",
            "_________________________________________________________________\n"
          ]
        }
      ]
    },
    {
      "cell_type": "markdown",
      "source": [
        "There are 320,065 parameters."
      ],
      "metadata": {
        "id": "OIPAwHnQUJeC"
      }
    },
    {
      "cell_type": "markdown",
      "source": [
        "6.Fit the model with 50 epochs.  (5 points) (hint:\n",
        "history = model.fit(X_train_vectorized, y_train,\n",
        "          validation_data= (X_val_vectorized, y_val),\n",
        "          epochs=50, (this should be quite fast! 2 minutes for the entire 50 epochs)\n",
        "          callbacks=callbacks)"
      ],
      "metadata": {
        "id": "XmgM8IoYQwcy"
      }
    },
    {
      "cell_type": "code",
      "source": [
        "print(x_train_vectorized.shape)\n",
        "print(x_val_vectorized.shape)"
      ],
      "metadata": {
        "colab": {
          "base_uri": "https://localhost:8080/"
        },
        "id": "cScb-fOJEmFn",
        "outputId": "18df29aa-20a1-4af8-e07a-2c26428be02f"
      },
      "execution_count": 28,
      "outputs": [
        {
          "output_type": "stream",
          "name": "stdout",
          "text": [
            "(3900, 10000)\n",
            "(1672, 10000)\n"
          ]
        }
      ]
    },
    {
      "cell_type": "code",
      "source": [
        "history = bow_model.fit(x_train_vectorized, y_train,\n",
        "                        validation_data=(x_val_vectorized, y_val),\n",
        "                        epochs=50,\n",
        "                        callbacks=callback_list)"
      ],
      "metadata": {
        "colab": {
          "base_uri": "https://localhost:8080/"
        },
        "id": "ovskyrRpQzvo",
        "outputId": "363cff69-e58f-4b43-ff9f-a909bd7101e2"
      },
      "execution_count": 29,
      "outputs": [
        {
          "output_type": "stream",
          "name": "stdout",
          "text": [
            "Epoch 1/50\n",
            "122/122 [==============================] - 7s 10ms/step - loss: 0.3360 - accuracy: 0.9187 - val_loss: 0.1426 - val_accuracy: 0.9755\n",
            "Epoch 2/50\n",
            " 20/122 [===>..........................] - ETA: 0s - loss: 0.1066 - accuracy: 0.9844"
          ]
        },
        {
          "output_type": "stream",
          "name": "stderr",
          "text": [
            "/usr/local/lib/python3.10/dist-packages/keras/src/engine/training.py:3079: UserWarning: You are saving your model as an HDF5 file via `model.save()`. This file format is considered legacy. We recommend using instead the native Keras format, e.g. `model.save('my_model.keras')`.\n",
            "  saving_api.save_model(\n"
          ]
        },
        {
          "output_type": "stream",
          "name": "stdout",
          "text": [
            "122/122 [==============================] - 1s 8ms/step - loss: 0.0930 - accuracy: 0.9828 - val_loss: 0.0798 - val_accuracy: 0.9833\n",
            "Epoch 3/50\n",
            "122/122 [==============================] - 1s 6ms/step - loss: 0.0451 - accuracy: 0.9910 - val_loss: 0.0660 - val_accuracy: 0.9856\n",
            "Epoch 4/50\n",
            "122/122 [==============================] - 1s 5ms/step - loss: 0.0267 - accuracy: 0.9951 - val_loss: 0.0631 - val_accuracy: 0.9856\n",
            "Epoch 5/50\n",
            "122/122 [==============================] - 1s 5ms/step - loss: 0.0189 - accuracy: 0.9967 - val_loss: 0.0633 - val_accuracy: 0.9862\n",
            "Epoch 6/50\n",
            "122/122 [==============================] - 1s 5ms/step - loss: 0.0131 - accuracy: 0.9972 - val_loss: 0.0652 - val_accuracy: 0.9856\n",
            "Epoch 7/50\n",
            "122/122 [==============================] - 1s 5ms/step - loss: 0.0101 - accuracy: 0.9987 - val_loss: 0.0640 - val_accuracy: 0.9850\n",
            "Epoch 8/50\n",
            "122/122 [==============================] - 1s 5ms/step - loss: 0.0087 - accuracy: 0.9987 - val_loss: 0.0659 - val_accuracy: 0.9850\n",
            "Epoch 9/50\n",
            "122/122 [==============================] - 1s 5ms/step - loss: 0.0078 - accuracy: 0.9987 - val_loss: 0.0672 - val_accuracy: 0.9850\n",
            "Epoch 10/50\n",
            "122/122 [==============================] - 1s 5ms/step - loss: 0.0071 - accuracy: 0.9990 - val_loss: 0.0688 - val_accuracy: 0.9850\n",
            "Epoch 11/50\n",
            "122/122 [==============================] - 1s 5ms/step - loss: 0.0066 - accuracy: 0.9990 - val_loss: 0.0709 - val_accuracy: 0.9850\n",
            "Epoch 12/50\n",
            "122/122 [==============================] - 1s 5ms/step - loss: 0.0052 - accuracy: 0.9992 - val_loss: 0.0728 - val_accuracy: 0.9850\n",
            "Epoch 13/50\n",
            "122/122 [==============================] - 1s 5ms/step - loss: 0.0054 - accuracy: 0.9992 - val_loss: 0.0716 - val_accuracy: 0.9856\n",
            "Epoch 14/50\n",
            "122/122 [==============================] - 1s 5ms/step - loss: 0.0050 - accuracy: 0.9990 - val_loss: 0.0744 - val_accuracy: 0.9856\n",
            "Epoch 15/50\n",
            "122/122 [==============================] - 1s 5ms/step - loss: 0.0046 - accuracy: 0.9992 - val_loss: 0.0777 - val_accuracy: 0.9850\n",
            "Epoch 16/50\n",
            "122/122 [==============================] - 1s 5ms/step - loss: 0.0042 - accuracy: 0.9992 - val_loss: 0.0789 - val_accuracy: 0.9850\n",
            "Epoch 17/50\n",
            "122/122 [==============================] - 1s 5ms/step - loss: 0.0038 - accuracy: 0.9990 - val_loss: 0.0781 - val_accuracy: 0.9850\n",
            "Epoch 18/50\n",
            "122/122 [==============================] - 1s 5ms/step - loss: 0.0038 - accuracy: 0.9992 - val_loss: 0.0792 - val_accuracy: 0.9868\n",
            "Epoch 19/50\n",
            "122/122 [==============================] - 1s 5ms/step - loss: 0.0041 - accuracy: 0.9990 - val_loss: 0.0816 - val_accuracy: 0.9862\n",
            "Epoch 20/50\n",
            "122/122 [==============================] - 1s 8ms/step - loss: 0.0034 - accuracy: 0.9992 - val_loss: 0.0861 - val_accuracy: 0.9856\n",
            "Epoch 21/50\n",
            "122/122 [==============================] - 1s 8ms/step - loss: 0.0032 - accuracy: 0.9995 - val_loss: 0.0872 - val_accuracy: 0.9850\n",
            "Epoch 22/50\n",
            "122/122 [==============================] - 1s 6ms/step - loss: 0.0030 - accuracy: 0.9995 - val_loss: 0.0901 - val_accuracy: 0.9850\n",
            "Epoch 23/50\n",
            "122/122 [==============================] - 1s 6ms/step - loss: 0.0029 - accuracy: 0.9995 - val_loss: 0.0861 - val_accuracy: 0.9850\n",
            "Epoch 24/50\n",
            "122/122 [==============================] - 1s 5ms/step - loss: 0.0029 - accuracy: 0.9992 - val_loss: 0.0903 - val_accuracy: 0.9850\n",
            "Epoch 25/50\n",
            "122/122 [==============================] - 1s 5ms/step - loss: 0.0031 - accuracy: 0.9992 - val_loss: 0.0923 - val_accuracy: 0.9850\n",
            "Epoch 26/50\n",
            "122/122 [==============================] - 1s 5ms/step - loss: 0.0025 - accuracy: 0.9995 - val_loss: 0.0930 - val_accuracy: 0.9850\n",
            "Epoch 27/50\n",
            "122/122 [==============================] - 1s 5ms/step - loss: 0.0027 - accuracy: 0.9995 - val_loss: 0.0930 - val_accuracy: 0.9856\n",
            "Epoch 28/50\n",
            "122/122 [==============================] - 1s 5ms/step - loss: 0.0028 - accuracy: 0.9995 - val_loss: 0.0952 - val_accuracy: 0.9856\n",
            "Epoch 29/50\n",
            "122/122 [==============================] - 1s 5ms/step - loss: 0.0027 - accuracy: 0.9992 - val_loss: 0.0982 - val_accuracy: 0.9856\n",
            "Epoch 30/50\n",
            "122/122 [==============================] - 1s 5ms/step - loss: 0.0023 - accuracy: 0.9995 - val_loss: 0.1001 - val_accuracy: 0.9856\n",
            "Epoch 31/50\n",
            "122/122 [==============================] - 1s 5ms/step - loss: 0.0022 - accuracy: 0.9995 - val_loss: 0.1017 - val_accuracy: 0.9856\n",
            "Epoch 32/50\n",
            "122/122 [==============================] - 1s 7ms/step - loss: 0.0021 - accuracy: 0.9992 - val_loss: 0.1043 - val_accuracy: 0.9856\n",
            "Epoch 33/50\n",
            "122/122 [==============================] - 1s 8ms/step - loss: 0.0026 - accuracy: 0.9992 - val_loss: 0.1064 - val_accuracy: 0.9856\n",
            "Epoch 34/50\n",
            "122/122 [==============================] - 1s 7ms/step - loss: 0.0023 - accuracy: 0.9995 - val_loss: 0.1070 - val_accuracy: 0.9856\n",
            "Epoch 35/50\n",
            "122/122 [==============================] - 1s 5ms/step - loss: 0.0020 - accuracy: 0.9995 - val_loss: 0.1080 - val_accuracy: 0.9850\n",
            "Epoch 36/50\n",
            "122/122 [==============================] - 1s 5ms/step - loss: 0.0023 - accuracy: 0.9995 - val_loss: 0.1074 - val_accuracy: 0.9844\n",
            "Epoch 37/50\n",
            "122/122 [==============================] - 1s 5ms/step - loss: 0.0019 - accuracy: 0.9995 - val_loss: 0.1097 - val_accuracy: 0.9844\n",
            "Epoch 38/50\n",
            "122/122 [==============================] - 1s 5ms/step - loss: 0.0024 - accuracy: 0.9995 - val_loss: 0.1123 - val_accuracy: 0.9850\n",
            "Epoch 39/50\n",
            "122/122 [==============================] - 1s 6ms/step - loss: 0.0023 - accuracy: 0.9995 - val_loss: 0.1131 - val_accuracy: 0.9850\n",
            "Epoch 40/50\n",
            "122/122 [==============================] - 1s 7ms/step - loss: 0.0024 - accuracy: 0.9992 - val_loss: 0.1130 - val_accuracy: 0.9850\n",
            "Epoch 41/50\n",
            "122/122 [==============================] - 1s 8ms/step - loss: 0.0020 - accuracy: 0.9992 - val_loss: 0.1146 - val_accuracy: 0.9850\n",
            "Epoch 42/50\n",
            "122/122 [==============================] - 1s 7ms/step - loss: 0.0024 - accuracy: 0.9995 - val_loss: 0.1156 - val_accuracy: 0.9850\n",
            "Epoch 43/50\n",
            "122/122 [==============================] - 1s 6ms/step - loss: 0.0023 - accuracy: 0.9995 - val_loss: 0.1207 - val_accuracy: 0.9839\n",
            "Epoch 44/50\n",
            "122/122 [==============================] - 1s 5ms/step - loss: 0.0017 - accuracy: 0.9995 - val_loss: 0.1143 - val_accuracy: 0.9844\n",
            "Epoch 45/50\n",
            "122/122 [==============================] - 1s 5ms/step - loss: 0.0019 - accuracy: 0.9995 - val_loss: 0.1199 - val_accuracy: 0.9833\n",
            "Epoch 46/50\n",
            "122/122 [==============================] - 1s 5ms/step - loss: 0.0022 - accuracy: 0.9995 - val_loss: 0.1207 - val_accuracy: 0.9833\n",
            "Epoch 47/50\n",
            "122/122 [==============================] - 1s 5ms/step - loss: 0.0020 - accuracy: 0.9995 - val_loss: 0.1228 - val_accuracy: 0.9839\n",
            "Epoch 48/50\n",
            "122/122 [==============================] - 1s 5ms/step - loss: 0.0017 - accuracy: 0.9995 - val_loss: 0.1217 - val_accuracy: 0.9850\n",
            "Epoch 49/50\n",
            "122/122 [==============================] - 1s 5ms/step - loss: 0.0022 - accuracy: 0.9995 - val_loss: 0.1267 - val_accuracy: 0.9833\n",
            "Epoch 50/50\n",
            "122/122 [==============================] - 1s 5ms/step - loss: 0.0017 - accuracy: 0.9995 - val_loss: 0.1323 - val_accuracy: 0.9827\n"
          ]
        }
      ]
    },
    {
      "cell_type": "markdown",
      "source": [
        "7.Plot the epoch-Loss graph and comment on that (for example, where does the model starts overfitting and etc) (5 points)"
      ],
      "metadata": {
        "id": "fgH1E62OQzO2"
      }
    },
    {
      "cell_type": "code",
      "source": [
        "import matplotlib.pyplot as plt\n",
        "\n",
        "# Plot training & validation loss values\n",
        "plt.plot(history.history['loss'], label='Train Loss')\n",
        "plt.plot(history.history['val_loss'], label='Validation Loss')\n",
        "plt.title('Model Loss Over Epochs')\n",
        "plt.ylabel('Loss')\n",
        "plt.xlabel('Epoch')\n",
        "plt.legend(loc='upper right')\n",
        "plt.show()"
      ],
      "metadata": {
        "colab": {
          "base_uri": "https://localhost:8080/",
          "height": 472
        },
        "id": "9uqhehidQ5H9",
        "outputId": "f03b11a4-112e-4bcd-c522-e5d4ecd65dc0"
      },
      "execution_count": 30,
      "outputs": [
        {
          "output_type": "display_data",
          "data": {
            "text/plain": [
              "<Figure size 640x480 with 1 Axes>"
            ],
            "image/png": "[encoded data removed]"
          },
          "metadata": {}
        }
      ]
    },
    {
      "cell_type": "markdown",
      "source": [
        "It looks like our model starts to overfit at about 3 epochs."
      ],
      "metadata": {
        "id": "1opUbAc_LbTZ"
      }
    },
    {
      "cell_type": "markdown",
      "source": [
        "8.Report the accuracy in the validation set for the best model. (you need to load the best model from ModelCheckpoint callback)  (5 points)"
      ],
      "metadata": {
        "id": "96CvUnWoQ5aA"
      }
    },
    {
      "cell_type": "code",
      "source": [
        "from tensorflow.keras.models import load_model\n",
        "\n",
        "# Load the saved model\n",
        "best_model = load_model(\"bag_of_words_best.h5\")\n",
        "\n",
        "# Evaluate the model on the validation set\n",
        "val_loss, val_accuracy = best_model.evaluate(x_val_vectorized, y_val)\n",
        "\n",
        "print(f\"Validation Accuracy of the Best Model: {val_accuracy:.2f}\")"
      ],
      "metadata": {
        "colab": {
          "base_uri": "https://localhost:8080/"
        },
        "id": "-tIA4qq1RDhI",
        "outputId": "0d242abd-da01-4ae5-bb58-9407d6d0a062"
      },
      "execution_count": 31,
      "outputs": [
        {
          "output_type": "stream",
          "name": "stdout",
          "text": [
            "53/53 [==============================] - 0s 3ms/step - loss: 0.0631 - accuracy: 0.9856\n",
            "Validation Accuracy of the Best Model: 0.99\n"
          ]
        }
      ]
    },
    {
      "cell_type": "markdown",
      "source": [
        "Our best model had an accuracy of 98.56% and a los of 6.31%."
      ],
      "metadata": {
        "id": "OXiBFHweL44d"
      }
    },
    {
      "cell_type": "markdown",
      "source": [
        "#Question 3:  Sequence modeling approach:  (word embedding with masking) (45 points)"
      ],
      "metadata": {
        "id": "0sbP6eDBRSTh"
      }
    },
    {
      "cell_type": "markdown",
      "source": [
        "1.Use the TextVectorization layer in Keras to preprocess the text data. Set the max_tokens parameter to 10,000. Set the output_sequence_length parameter to 1,000.  text_vectorization = TextVectorization( ....) (5 points)"
      ],
      "metadata": {
        "id": "3NPi0N8RRFoA"
      }
    },
    {
      "cell_type": "code",
      "source": [
        "text_vectorization_2 = TextVectorization(max_tokens=10000, output_sequence_length=1000)\n"
      ],
      "metadata": {
        "id": "NJrCUKY8R7zb"
      },
      "execution_count": 32,
      "outputs": []
    },
    {
      "cell_type": "markdown",
      "source": [
        "2.Fit the vectorization layer to the text data in the train set using adapt(). text_vectorization.adapt(....) (5 points)"
      ],
      "metadata": {
        "id": "JF1_9sDqR8Hw"
      }
    },
    {
      "cell_type": "code",
      "source": [
        "text_vectorization_2.adapt(x_train)"
      ],
      "metadata": {
        "id": "unxgLuC2SBPr"
      },
      "execution_count": 33,
      "outputs": []
    },
    {
      "cell_type": "markdown",
      "source": [
        "3.vectorize the X_train and X_val with the text_vectorization you fit in the previous step. You can call them X_train_vectorized and X_val_vectorized. We need to pass this data along with the labels (y_train, y_val) to fit the model.  (5 points)"
      ],
      "metadata": {
        "id": "Rfvzf6uXSBnV"
      }
    },
    {
      "cell_type": "code",
      "source": [
        "x_train_vectorized_2 = text_vectorization_2(x_train)\n",
        "x_val_vectorized_2 = text_vectorization_2(x_val)"
      ],
      "metadata": {
        "id": "2j4ESvboSHNk"
      },
      "execution_count": 37,
      "outputs": []
    },
    {
      "cell_type": "code",
      "source": [
        "print(x_train_vectorized_2.shape)\n",
        "print(x_val_vectorized_2.shape)"
      ],
      "metadata": {
        "colab": {
          "base_uri": "https://localhost:8080/"
        },
        "id": "1p_APHiGPKTU",
        "outputId": "2f427f57-2000-4393-8c3b-14cede5fd53d"
      },
      "execution_count": 38,
      "outputs": [
        {
          "output_type": "stream",
          "name": "stdout",
          "text": [
            "(3900, 1000)\n",
            "(1672, 1000)\n"
          ]
        }
      ]
    },
    {
      "cell_type": "markdown",
      "source": [
        "4.Construct your sequence model as follows: (10 points)\n",
        "Embedding layer with output_dim=128 and mask_zero=True.\n",
        "Bidrectional SimpleRNN with 16 nodes\n",
        "Drop out layer with ratio = 0.3  \n",
        "use an appropriate activation functions for the output layer\n",
        "use the correct loss function\n",
        "keep track of the accuracy metric"
      ],
      "metadata": {
        "id": "Hj4_ZFSiSHsi"
      }
    },
    {
      "cell_type": "code",
      "source": [
        "from tensorflow.keras.models import Sequential\n",
        "from tensorflow.keras.layers import Embedding, Bidirectional, SimpleRNN, Dropout, Dense"
      ],
      "metadata": {
        "id": "l78l29G-QosL"
      },
      "execution_count": 39,
      "outputs": []
    },
    {
      "cell_type": "code",
      "source": [
        "model_checkpoint_2 = ModelCheckpoint(monitor='val_loss', save_best_only=True, filepath=\"seq_best.h5\")\n",
        "callback_list_2    = [model_checkpoint_2]"
      ],
      "metadata": {
        "id": "o7pzWoC_Qvyu"
      },
      "execution_count": 42,
      "outputs": []
    },
    {
      "cell_type": "code",
      "source": [
        "max_tokens = 10000\n",
        "sequence_length = 1000"
      ],
      "metadata": {
        "id": "Fjs-XXfITczR"
      },
      "execution_count": 43,
      "outputs": []
    },
    {
      "cell_type": "code",
      "source": [
        "def build_seq_model(max_tokens, sequence_length):\n",
        "    model = Sequential([\n",
        "        # Embedding layer with output_dim=128 and mask_zero=True\n",
        "        Embedding(input_dim=max_tokens, output_dim=128, mask_zero=True, input_length=sequence_length),\n",
        "\n",
        "        # Bidirectional SimpleRNN with 16 nodes\n",
        "        Bidirectional(SimpleRNN(16)),\n",
        "\n",
        "        # Dropout layer with ratio = 0.3\n",
        "        Dropout(0.3),\n",
        "\n",
        "        # Output layer with appropriate activation function (e.g., sigmoid for binary classification)\n",
        "        Dense(1, activation='sigmoid')\n",
        "    ])\n",
        "\n",
        "    # Compile the model with binary cross-entropy loss and accuracy metric\n",
        "    model.compile(optimizer='adam', loss='binary_crossentropy', metrics=['accuracy'])\n",
        "\n",
        "    return model"
      ],
      "metadata": {
        "id": "rDp5Mtp8SMDD"
      },
      "execution_count": 46,
      "outputs": []
    },
    {
      "cell_type": "code",
      "source": [
        "seq_model = build_seq_model(max_tokens,sequence_length)"
      ],
      "metadata": {
        "id": "p12HOFLIQWY9"
      },
      "execution_count": 47,
      "outputs": []
    },
    {
      "cell_type": "markdown",
      "source": [
        "5.Report the model.summary(). How many parameters does your model have? (5 points)"
      ],
      "metadata": {
        "id": "Xd2RM1UFSMyJ"
      }
    },
    {
      "cell_type": "code",
      "source": [
        "seq_model.summary()"
      ],
      "metadata": {
        "colab": {
          "base_uri": "https://localhost:8080/"
        },
        "id": "h3VMjXsVSR7y",
        "outputId": "7ac22550-6844-4ea0-cf52-333a6e37a8e7"
      },
      "execution_count": 48,
      "outputs": [
        {
          "output_type": "stream",
          "name": "stdout",
          "text": [
            "Model: \"sequential\"\n",
            "_________________________________________________________________\n",
            " Layer (type)                Output Shape              Param #   \n",
            "=================================================================\n",
            " embedding (Embedding)       (None, 1000, 128)         1280000   \n",
            "                                                                 \n",
            " bidirectional (Bidirection  (None, 32)                4640      \n",
            " al)                                                             \n",
            "                                                                 \n",
            " dropout (Dropout)           (None, 32)                0         \n",
            "                                                                 \n",
            " dense (Dense)               (None, 1)                 33        \n",
            "                                                                 \n",
            "=================================================================\n",
            "Total params: 1284673 (4.90 MB)\n",
            "Trainable params: 1284673 (4.90 MB)\n",
            "Non-trainable params: 0 (0.00 Byte)\n",
            "_________________________________________________________________\n"
          ]
        }
      ]
    },
    {
      "cell_type": "markdown",
      "source": [
        "There are 1,284,773 parameters."
      ],
      "metadata": {
        "id": "gyPAPnhMT4VC"
      }
    },
    {
      "cell_type": "markdown",
      "source": [
        "6.Fit the model with 5 epochs. (5 points) (hint:\n",
        "history = model.fit(X_train_vectorized, y_train,\n",
        "          validation_data= (X_val_vectorized, y_val),\n",
        "          epochs=5, (this is going to take a while, so let's just run it for 5 epochs)\n",
        "          callbacks=callbacks)"
      ],
      "metadata": {
        "id": "c1ldWQMNSSTf"
      }
    },
    {
      "cell_type": "code",
      "source": [
        "history_2 = seq_model.fit(x_train_vectorized_2, y_train,\n",
        "                        validation_data=(x_val_vectorized_2, y_val),\n",
        "                        epochs=5,\n",
        "                        callbacks=callback_list_2)"
      ],
      "metadata": {
        "colab": {
          "base_uri": "https://localhost:8080/"
        },
        "id": "fiYBi6AgScVv",
        "outputId": "6efe9987-fe5b-4181-fcf8-4f9b1c71c767"
      },
      "execution_count": 49,
      "outputs": [
        {
          "output_type": "stream",
          "name": "stdout",
          "text": [
            "Epoch 1/5\n",
            "122/122 [==============================] - 411s 3s/step - loss: 0.2391 - accuracy: 0.9321 - val_loss: 0.0947 - val_accuracy: 0.9743\n",
            "Epoch 2/5\n"
          ]
        },
        {
          "output_type": "stream",
          "name": "stderr",
          "text": [
            "/usr/local/lib/python3.10/dist-packages/keras/src/engine/training.py:3079: UserWarning: You are saving your model as an HDF5 file via `model.save()`. This file format is considered legacy. We recommend using instead the native Keras format, e.g. `model.save('my_model.keras')`.\n",
            "  saving_api.save_model(\n"
          ]
        },
        {
          "output_type": "stream",
          "name": "stdout",
          "text": [
            "122/122 [==============================] - 369s 3s/step - loss: 0.0504 - accuracy: 0.9892 - val_loss: 0.0735 - val_accuracy: 0.9773\n",
            "Epoch 3/5\n",
            "122/122 [==============================] - 364s 3s/step - loss: 0.0193 - accuracy: 0.9967 - val_loss: 0.0729 - val_accuracy: 0.9803\n",
            "Epoch 4/5\n",
            "122/122 [==============================] - 361s 3s/step - loss: 0.0151 - accuracy: 0.9977 - val_loss: 0.0622 - val_accuracy: 0.9839\n",
            "Epoch 5/5\n",
            "122/122 [==============================] - 355s 3s/step - loss: 0.0074 - accuracy: 0.9992 - val_loss: 0.0775 - val_accuracy: 0.9791\n"
          ]
        }
      ]
    },
    {
      "cell_type": "markdown",
      "source": [
        "7.Plot the epoch-Loss graph and comment on that (for example, where does the model starts overfitting and etc) (5 points)"
      ],
      "metadata": {
        "id": "4yJ84O80Scsc"
      }
    },
    {
      "cell_type": "code",
      "source": [
        "plt.plot(history_2.history['loss'], label='Train Loss')\n",
        "plt.plot(history_2.history['val_loss'], label='Validation Loss')\n",
        "plt.title('Seq Model Loss Over Epochs')\n",
        "plt.ylabel('Loss')\n",
        "plt.xlabel('Epoch')\n",
        "plt.legend(loc='upper right')\n",
        "plt.show()"
      ],
      "metadata": {
        "colab": {
          "base_uri": "https://localhost:8080/",
          "height": 472
        },
        "id": "KJVE7flbSe0j",
        "outputId": "0101d72b-0cf5-480a-8153-49e107a931a2"
      },
      "execution_count": 50,
      "outputs": [
        {
          "output_type": "display_data",
          "data": {
            "text/plain": [
              "<Figure size 640x480 with 1 Axes>"
            ],
            "image/png": "[encoded data removed]"
          },
          "metadata": {}
        }
      ]
    },
    {
      "cell_type": "markdown",
      "source": [
        "It starts to overfit a little past 1 epoch."
      ],
      "metadata": {
        "id": "aE4u0-VzUpZ1"
      }
    },
    {
      "cell_type": "markdown",
      "source": [
        "8.Report the accuracy in the validation set for the best model. (you need to load the best model from ModelCheckpoint callback) (5 points)"
      ],
      "metadata": {
        "id": "Ae6BRArsSgob"
      }
    },
    {
      "cell_type": "code",
      "source": [
        "# Load the saved model\n",
        "best_model_2 = load_model(\"seq_best.h5\")\n",
        "\n",
        "# Evaluate the model on the validation set\n",
        "val_loss, val_accuracy = best_model_2.evaluate(x_val_vectorized_2, y_val)\n",
        "\n",
        "print(f\"Validation Accuracy of the Best Seq Model: {val_accuracy:.2f}\")"
      ],
      "metadata": {
        "colab": {
          "base_uri": "https://localhost:8080/"
        },
        "id": "SAPMxYplSmb6",
        "outputId": "8a39a153-4439-4f35-98bc-491b2c4eee23"
      },
      "execution_count": 52,
      "outputs": [
        {
          "output_type": "stream",
          "name": "stdout",
          "text": [
            "53/53 [==============================] - 12s 215ms/step - loss: 0.0622 - accuracy: 0.9839\n",
            "Validation Accuracy of the Best Seq Model: 0.98\n"
          ]
        }
      ]
    },
    {
      "cell_type": "markdown",
      "source": [
        "The accuracy was 98.39%"
      ],
      "metadata": {
        "id": "SNJrBb19dctx"
      }
    },
    {
      "cell_type": "markdown",
      "source": [
        "#Question 4: Put Your Model to the Test: Predicting Spam and Ham in Fake Messages (15 points)"
      ],
      "metadata": {
        "id": "SE9vshyHSyxg"
      }
    },
    {
      "cell_type": "markdown",
      "source": [
        "Time for some fun! Apply your bag-of-words model to predict whether the following messages are spam or ham.\n",
        "\n",
        "1. \"Congratulations! You have been randomly selected to win a lifetime supply of jokes! Reply 'LOL' to claim your prize.\"\n",
        "2. \"Hey, I just wanted to let you know that I finally figured out how to make the perfect grilled cheese sandwich. It only took me 20 years and 50 failed attempts, but I did it!\"\n",
        "Report the probabilities of being spam for each message."
      ],
      "metadata": {
        "id": "bt-3jc6UTAdI"
      }
    },
    {
      "cell_type": "code",
      "source": [
        "test_messages = [\n",
        "    \"Congratulations! You have been randomly selected to win a lifetime supply of jokes! Reply 'LOL' to claim your prize.\",\n",
        "    \"Hey, I just wanted to let you know that I finally figured out how to make the perfect grilled cheese sandwich. It only took me 20 years and 50 failed attempts, but I did it!\"\n",
        "]"
      ],
      "metadata": {
        "id": "MU9sTjhvTNRY"
      },
      "execution_count": 53,
      "outputs": []
    },
    {
      "cell_type": "code",
      "source": [
        "test_messages_vectorized = text_vectorization(test_messages)"
      ],
      "metadata": {
        "id": "X9_WWkIXVEgZ"
      },
      "execution_count": 54,
      "outputs": []
    },
    {
      "cell_type": "code",
      "source": [
        "predictions = bow_model.predict(test_messages_vectorized)"
      ],
      "metadata": {
        "colab": {
          "base_uri": "https://localhost:8080/"
        },
        "id": "uLetWyzzVamQ",
        "outputId": "c43355c2-41f2-48a2-a675-46c001fdd3d6"
      },
      "execution_count": 55,
      "outputs": [
        {
          "output_type": "stream",
          "name": "stdout",
          "text": [
            "1/1 [==============================] - 0s 67ms/step\n"
          ]
        }
      ]
    },
    {
      "cell_type": "code",
      "source": [
        "for i, message in enumerate(test_messages):\n",
        "    print(f\"Message: '{message}'\")\n",
        "    print(f\"Probability of being spam: {predictions[i][0]:.4f}\\n\")"
      ],
      "metadata": {
        "colab": {
          "base_uri": "https://localhost:8080/"
        },
        "id": "B4zJh5imd6yA",
        "outputId": "760a85d6-a287-4f37-fca4-17b683fba5ad"
      },
      "execution_count": 57,
      "outputs": [
        {
          "output_type": "stream",
          "name": "stdout",
          "text": [
            "Message: 'Congratulations! You have been randomly selected to win a lifetime supply of jokes! Reply 'LOL' to claim your prize.'\n",
            "Probability of being spam: 1.0000\n",
            "\n",
            "Message: 'Hey, I just wanted to let you know that I finally figured out how to make the perfect grilled cheese sandwich. It only took me 20 years and 50 failed attempts, but I did it!'\n",
            "Probability of being spam: 0.0000\n",
            "\n"
          ]
        }
      ]
    },
    {
      "cell_type": "code",
      "source": [
        "text_vectorization"
      ],
      "metadata": {
        "colab": {
          "base_uri": "https://localhost:8080/"
        },
        "id": "VgkzJAQfessp",
        "outputId": "e72550c6-0f8b-44f0-b2b0-0f452276baa2"
      },
      "execution_count": 58,
      "outputs": [
        {
          "output_type": "execute_result",
          "data": {
            "text/plain": [
              "<keras.src.layers.preprocessing.text_vectorization.TextVectorization at 0x7b3053f14f70>"
            ]
          },
          "metadata": {},
          "execution_count": 58
        }
      ]
    },
    {
      "cell_type": "code",
      "source": [
        "text_vectorization_2"
      ],
      "metadata": {
        "colab": {
          "base_uri": "https://localhost:8080/"
        },
        "id": "vdQfM0iwgMhg",
        "outputId": "01bc909b-0931-4941-8b06-b043cb2e5628"
      },
      "execution_count": 59,
      "outputs": [
        {
          "output_type": "execute_result",
          "data": {
            "text/plain": [
              "<keras.src.layers.preprocessing.text_vectorization.TextVectorization at 0x7b3043ff40d0>"
            ]
          },
          "metadata": {},
          "execution_count": 59
        }
      ]
    }
  ]
}
