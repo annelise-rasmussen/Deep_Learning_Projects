{
  "nbformat": 4,
  "nbformat_minor": 0,
  "metadata": {
    "colab": {
      "provenance": [],
      "gpuType": "T4"
    },
    "kernelspec": {
      "name": "python3",
      "display_name": "Python 3"
    },
    "language_info": {
      "name": "python"
    },
    "accelerator": "GPU"
  },
  "cells": [
    {
      "cell_type": "code",
      "source": [
        "import tensorflow\n",
        "tensorflow.__version__"
      ],
      "metadata": {
        "colab": {
          "base_uri": "https://localhost:8080/",
          "height": 36
        },
        "id": "9VIfe4dIne1i",
        "outputId": "fde16842-225e-4613-90e0-862acb1581c2"
      },
      "execution_count": 4,
      "outputs": [
        {
          "output_type": "execute_result",
          "data": {
            "text/plain": [
              "'2.14.0'"
            ],
            "application/vnd.google.colaboratory.intrinsic+json": {
              "type": "string"
            }
          },
          "metadata": {},
          "execution_count": 4
        }
      ]
    },
    {
      "cell_type": "code",
      "source": [
        "\n",
        "import pandas as pd\n",
        "import numpy as np\n",
        "import matplotlib.pyplot as plt"
      ],
      "metadata": {
        "id": "mf0JQvyfnh_e"
      },
      "execution_count": 5,
      "outputs": []
    },
    {
      "cell_type": "code",
      "execution_count": 6,
      "metadata": {
        "id": "cM-PIPVPmv8t"
      },
      "outputs": [],
      "source": [
        "import ssl\n",
        "ssl._create_default_https_context = ssl._create_unverified_context"
      ]
    },
    {
      "cell_type": "code",
      "source": [
        "from tensorflow.keras.datasets import cifar10\n",
        "(x_train, y_train), (x_test, y_test) = cifar10.load_data()"
      ],
      "metadata": {
        "id": "zPUrnpkpm-_U"
      },
      "execution_count": 7,
      "outputs": []
    },
    {
      "cell_type": "markdown",
      "source": [
        "Check out the shape of the train and test set and make necessary changes if required. (Hint: Your X_train and X_test should have a shape like (None, 32,32,3) and you y_test and y_train must have a shape like (None, ). Note that \"None\" can be any integer for your data set) (5 points)\n",
        "\n",
        "\n"
      ],
      "metadata": {
        "id": "YeDdIm2dnE-8"
      }
    },
    {
      "cell_type": "code",
      "source": [
        "x_train.shape"
      ],
      "metadata": {
        "colab": {
          "base_uri": "https://localhost:8080/"
        },
        "id": "lTGHowRUnU5J",
        "outputId": "4f327c7f-1d53-4687-9b60-adf833fffa07"
      },
      "execution_count": 8,
      "outputs": [
        {
          "output_type": "execute_result",
          "data": {
            "text/plain": [
              "(50000, 32, 32, 3)"
            ]
          },
          "metadata": {},
          "execution_count": 8
        }
      ]
    },
    {
      "cell_type": "code",
      "source": [
        "y_train.shape"
      ],
      "metadata": {
        "colab": {
          "base_uri": "https://localhost:8080/"
        },
        "id": "fh7AFcfLpxti",
        "outputId": "b2b37490-8dd8-4920-d094-eb5c6d3addfa"
      },
      "execution_count": 9,
      "outputs": [
        {
          "output_type": "execute_result",
          "data": {
            "text/plain": [
              "(50000, 1)"
            ]
          },
          "metadata": {},
          "execution_count": 9
        }
      ]
    },
    {
      "cell_type": "code",
      "source": [
        "x_test.shape"
      ],
      "metadata": {
        "colab": {
          "base_uri": "https://localhost:8080/"
        },
        "id": "TqHXNZ_Yp5vi",
        "outputId": "73fbbf09-3103-404d-f31e-96a43e3fec82"
      },
      "execution_count": 10,
      "outputs": [
        {
          "output_type": "execute_result",
          "data": {
            "text/plain": [
              "(10000, 32, 32, 3)"
            ]
          },
          "metadata": {},
          "execution_count": 10
        }
      ]
    },
    {
      "cell_type": "code",
      "source": [
        "y_test.shape"
      ],
      "metadata": {
        "colab": {
          "base_uri": "https://localhost:8080/"
        },
        "id": "dcvWjCiEp8Gw",
        "outputId": "6feff09e-9277-4e3b-83cb-85d292343710"
      },
      "execution_count": 11,
      "outputs": [
        {
          "output_type": "execute_result",
          "data": {
            "text/plain": [
              "(10000, 1)"
            ]
          },
          "metadata": {},
          "execution_count": 11
        }
      ]
    },
    {
      "cell_type": "markdown",
      "source": [
        "Plot the first image from the train set. What is the label for that image? (5 points)"
      ],
      "metadata": {
        "id": "zTA8XjCknF5f"
      }
    },
    {
      "cell_type": "code",
      "source": [
        "x_train[0]"
      ],
      "metadata": {
        "colab": {
          "base_uri": "https://localhost:8080/"
        },
        "id": "i4fyfle1nVLo",
        "outputId": "eba06e54-60cb-4db5-b01e-1709ff136ee6"
      },
      "execution_count": 12,
      "outputs": [
        {
          "output_type": "execute_result",
          "data": {
            "text/plain": [
              "array([[[ 59,  62,  63],\n",
              "        [ 43,  46,  45],\n",
              "        [ 50,  48,  43],\n",
              "        ...,\n",
              "        [158, 132, 108],\n",
              "        [152, 125, 102],\n",
              "        [148, 124, 103]],\n",
              "\n",
              "       [[ 16,  20,  20],\n",
              "        [  0,   0,   0],\n",
              "        [ 18,   8,   0],\n",
              "        ...,\n",
              "        [123,  88,  55],\n",
              "        [119,  83,  50],\n",
              "        [122,  87,  57]],\n",
              "\n",
              "       [[ 25,  24,  21],\n",
              "        [ 16,   7,   0],\n",
              "        [ 49,  27,   8],\n",
              "        ...,\n",
              "        [118,  84,  50],\n",
              "        [120,  84,  50],\n",
              "        [109,  73,  42]],\n",
              "\n",
              "       ...,\n",
              "\n",
              "       [[208, 170,  96],\n",
              "        [201, 153,  34],\n",
              "        [198, 161,  26],\n",
              "        ...,\n",
              "        [160, 133,  70],\n",
              "        [ 56,  31,   7],\n",
              "        [ 53,  34,  20]],\n",
              "\n",
              "       [[180, 139,  96],\n",
              "        [173, 123,  42],\n",
              "        [186, 144,  30],\n",
              "        ...,\n",
              "        [184, 148,  94],\n",
              "        [ 97,  62,  34],\n",
              "        [ 83,  53,  34]],\n",
              "\n",
              "       [[177, 144, 116],\n",
              "        [168, 129,  94],\n",
              "        [179, 142,  87],\n",
              "        ...,\n",
              "        [216, 184, 140],\n",
              "        [151, 118,  84],\n",
              "        [123,  92,  72]]], dtype=uint8)"
            ]
          },
          "metadata": {},
          "execution_count": 12
        }
      ]
    },
    {
      "cell_type": "code",
      "source": [
        "plt.imshow(x_train[0])\n",
        "plt.title(f\"Label: {y_train[0][0]}\")\n",
        "plt.show()"
      ],
      "metadata": {
        "colab": {
          "base_uri": "https://localhost:8080/",
          "height": 452
        },
        "id": "vfPF3OfV7a1s",
        "outputId": "33224c7e-e5a0-4767-826f-f284470111ac"
      },
      "execution_count": 13,
      "outputs": [
        {
          "output_type": "display_data",
          "data": {
            "text/plain": [
              "<Figure size 640x480 with 1 Axes>"
            ],
            "image/png": "[encoded data removed]"
          },
          "metadata": {}
        }
      ]
    },
    {
      "cell_type": "markdown",
      "source": [
        "Make sure that the pixel values for X_train and X_set are normalized between 0 and 1. (5 points)"
      ],
      "metadata": {
        "id": "F68hMz72nGZD"
      }
    },
    {
      "cell_type": "code",
      "source": [
        "x_train = x_train / 255.0\n",
        "x_test = x_test/ 255.0\n"
      ],
      "metadata": {
        "id": "cUP7bjPinViS"
      },
      "execution_count": 14,
      "outputs": []
    },
    {
      "cell_type": "code",
      "source": [
        "x_train\n"
      ],
      "metadata": {
        "colab": {
          "base_uri": "https://localhost:8080/"
        },
        "id": "ZbRoFpoOFKxK",
        "outputId": "a20800c9-5ead-4a4e-b0c5-80ec4833b270"
      },
      "execution_count": 15,
      "outputs": [
        {
          "output_type": "execute_result",
          "data": {
            "text/plain": [
              "array([[[[0.23137255, 0.24313725, 0.24705882],\n",
              "         [0.16862745, 0.18039216, 0.17647059],\n",
              "         [0.19607843, 0.18823529, 0.16862745],\n",
              "         ...,\n",
              "         [0.61960784, 0.51764706, 0.42352941],\n",
              "         [0.59607843, 0.49019608, 0.4       ],\n",
              "         [0.58039216, 0.48627451, 0.40392157]],\n",
              "\n",
              "        [[0.0627451 , 0.07843137, 0.07843137],\n",
              "         [0.        , 0.        , 0.        ],\n",
              "         [0.07058824, 0.03137255, 0.        ],\n",
              "         ...,\n",
              "         [0.48235294, 0.34509804, 0.21568627],\n",
              "         [0.46666667, 0.3254902 , 0.19607843],\n",
              "         [0.47843137, 0.34117647, 0.22352941]],\n",
              "\n",
              "        [[0.09803922, 0.09411765, 0.08235294],\n",
              "         [0.0627451 , 0.02745098, 0.        ],\n",
              "         [0.19215686, 0.10588235, 0.03137255],\n",
              "         ...,\n",
              "         [0.4627451 , 0.32941176, 0.19607843],\n",
              "         [0.47058824, 0.32941176, 0.19607843],\n",
              "         [0.42745098, 0.28627451, 0.16470588]],\n",
              "\n",
              "        ...,\n",
              "\n",
              "        [[0.81568627, 0.66666667, 0.37647059],\n",
              "         [0.78823529, 0.6       , 0.13333333],\n",
              "         [0.77647059, 0.63137255, 0.10196078],\n",
              "         ...,\n",
              "         [0.62745098, 0.52156863, 0.2745098 ],\n",
              "         [0.21960784, 0.12156863, 0.02745098],\n",
              "         [0.20784314, 0.13333333, 0.07843137]],\n",
              "\n",
              "        [[0.70588235, 0.54509804, 0.37647059],\n",
              "         [0.67843137, 0.48235294, 0.16470588],\n",
              "         [0.72941176, 0.56470588, 0.11764706],\n",
              "         ...,\n",
              "         [0.72156863, 0.58039216, 0.36862745],\n",
              "         [0.38039216, 0.24313725, 0.13333333],\n",
              "         [0.3254902 , 0.20784314, 0.13333333]],\n",
              "\n",
              "        [[0.69411765, 0.56470588, 0.45490196],\n",
              "         [0.65882353, 0.50588235, 0.36862745],\n",
              "         [0.70196078, 0.55686275, 0.34117647],\n",
              "         ...,\n",
              "         [0.84705882, 0.72156863, 0.54901961],\n",
              "         [0.59215686, 0.4627451 , 0.32941176],\n",
              "         [0.48235294, 0.36078431, 0.28235294]]],\n",
              "\n",
              "\n",
              "       [[[0.60392157, 0.69411765, 0.73333333],\n",
              "         [0.49411765, 0.5372549 , 0.53333333],\n",
              "         [0.41176471, 0.40784314, 0.37254902],\n",
              "         ...,\n",
              "         [0.35686275, 0.37254902, 0.27843137],\n",
              "         [0.34117647, 0.35294118, 0.27843137],\n",
              "         [0.30980392, 0.31764706, 0.2745098 ]],\n",
              "\n",
              "        [[0.54901961, 0.62745098, 0.6627451 ],\n",
              "         [0.56862745, 0.6       , 0.60392157],\n",
              "         [0.49019608, 0.49019608, 0.4627451 ],\n",
              "         ...,\n",
              "         [0.37647059, 0.38823529, 0.30588235],\n",
              "         [0.30196078, 0.31372549, 0.24313725],\n",
              "         [0.27843137, 0.28627451, 0.23921569]],\n",
              "\n",
              "        [[0.54901961, 0.60784314, 0.64313725],\n",
              "         [0.54509804, 0.57254902, 0.58431373],\n",
              "         [0.45098039, 0.45098039, 0.43921569],\n",
              "         ...,\n",
              "         [0.30980392, 0.32156863, 0.25098039],\n",
              "         [0.26666667, 0.2745098 , 0.21568627],\n",
              "         [0.2627451 , 0.27058824, 0.21568627]],\n",
              "\n",
              "        ...,\n",
              "\n",
              "        [[0.68627451, 0.65490196, 0.65098039],\n",
              "         [0.61176471, 0.60392157, 0.62745098],\n",
              "         [0.60392157, 0.62745098, 0.66666667],\n",
              "         ...,\n",
              "         [0.16470588, 0.13333333, 0.14117647],\n",
              "         [0.23921569, 0.20784314, 0.22352941],\n",
              "         [0.36470588, 0.3254902 , 0.35686275]],\n",
              "\n",
              "        [[0.64705882, 0.60392157, 0.50196078],\n",
              "         [0.61176471, 0.59607843, 0.50980392],\n",
              "         [0.62352941, 0.63137255, 0.55686275],\n",
              "         ...,\n",
              "         [0.40392157, 0.36470588, 0.37647059],\n",
              "         [0.48235294, 0.44705882, 0.47058824],\n",
              "         [0.51372549, 0.4745098 , 0.51372549]],\n",
              "\n",
              "        [[0.63921569, 0.58039216, 0.47058824],\n",
              "         [0.61960784, 0.58039216, 0.47843137],\n",
              "         [0.63921569, 0.61176471, 0.52156863],\n",
              "         ...,\n",
              "         [0.56078431, 0.52156863, 0.54509804],\n",
              "         [0.56078431, 0.5254902 , 0.55686275],\n",
              "         [0.56078431, 0.52156863, 0.56470588]]],\n",
              "\n",
              "\n",
              "       [[[1.        , 1.        , 1.        ],\n",
              "         [0.99215686, 0.99215686, 0.99215686],\n",
              "         [0.99215686, 0.99215686, 0.99215686],\n",
              "         ...,\n",
              "         [0.99215686, 0.99215686, 0.99215686],\n",
              "         [0.99215686, 0.99215686, 0.99215686],\n",
              "         [0.99215686, 0.99215686, 0.99215686]],\n",
              "\n",
              "        [[1.        , 1.        , 1.        ],\n",
              "         [1.        , 1.        , 1.        ],\n",
              "         [1.        , 1.        , 1.        ],\n",
              "         ...,\n",
              "         [1.        , 1.        , 1.        ],\n",
              "         [1.        , 1.        , 1.        ],\n",
              "         [1.        , 1.        , 1.        ]],\n",
              "\n",
              "        [[1.        , 1.        , 1.        ],\n",
              "         [0.99607843, 0.99607843, 0.99607843],\n",
              "         [0.99607843, 0.99607843, 0.99607843],\n",
              "         ...,\n",
              "         [0.99607843, 0.99607843, 0.99607843],\n",
              "         [0.99607843, 0.99607843, 0.99607843],\n",
              "         [0.99607843, 0.99607843, 0.99607843]],\n",
              "\n",
              "        ...,\n",
              "\n",
              "        [[0.44313725, 0.47058824, 0.43921569],\n",
              "         [0.43529412, 0.4627451 , 0.43529412],\n",
              "         [0.41176471, 0.43921569, 0.41568627],\n",
              "         ...,\n",
              "         [0.28235294, 0.31764706, 0.31372549],\n",
              "         [0.28235294, 0.31372549, 0.30980392],\n",
              "         [0.28235294, 0.31372549, 0.30980392]],\n",
              "\n",
              "        [[0.43529412, 0.4627451 , 0.43137255],\n",
              "         [0.40784314, 0.43529412, 0.40784314],\n",
              "         [0.38823529, 0.41568627, 0.38431373],\n",
              "         ...,\n",
              "         [0.26666667, 0.29411765, 0.28627451],\n",
              "         [0.2745098 , 0.29803922, 0.29411765],\n",
              "         [0.30588235, 0.32941176, 0.32156863]],\n",
              "\n",
              "        [[0.41568627, 0.44313725, 0.41176471],\n",
              "         [0.38823529, 0.41568627, 0.38431373],\n",
              "         [0.37254902, 0.4       , 0.36862745],\n",
              "         ...,\n",
              "         [0.30588235, 0.33333333, 0.3254902 ],\n",
              "         [0.30980392, 0.33333333, 0.3254902 ],\n",
              "         [0.31372549, 0.3372549 , 0.32941176]]],\n",
              "\n",
              "\n",
              "       ...,\n",
              "\n",
              "\n",
              "       [[[0.1372549 , 0.69803922, 0.92156863],\n",
              "         [0.15686275, 0.69019608, 0.9372549 ],\n",
              "         [0.16470588, 0.69019608, 0.94509804],\n",
              "         ...,\n",
              "         [0.38823529, 0.69411765, 0.85882353],\n",
              "         [0.30980392, 0.57647059, 0.77254902],\n",
              "         [0.34901961, 0.58039216, 0.74117647]],\n",
              "\n",
              "        [[0.22352941, 0.71372549, 0.91764706],\n",
              "         [0.17254902, 0.72156863, 0.98039216],\n",
              "         [0.19607843, 0.71764706, 0.94117647],\n",
              "         ...,\n",
              "         [0.61176471, 0.71372549, 0.78431373],\n",
              "         [0.55294118, 0.69411765, 0.80784314],\n",
              "         [0.45490196, 0.58431373, 0.68627451]],\n",
              "\n",
              "        [[0.38431373, 0.77254902, 0.92941176],\n",
              "         [0.25098039, 0.74117647, 0.98823529],\n",
              "         [0.27058824, 0.75294118, 0.96078431],\n",
              "         ...,\n",
              "         [0.7372549 , 0.76470588, 0.80784314],\n",
              "         [0.46666667, 0.52941176, 0.57647059],\n",
              "         [0.23921569, 0.30980392, 0.35294118]],\n",
              "\n",
              "        ...,\n",
              "\n",
              "        [[0.28627451, 0.30980392, 0.30196078],\n",
              "         [0.20784314, 0.24705882, 0.26666667],\n",
              "         [0.21176471, 0.26666667, 0.31372549],\n",
              "         ...,\n",
              "         [0.06666667, 0.15686275, 0.25098039],\n",
              "         [0.08235294, 0.14117647, 0.2       ],\n",
              "         [0.12941176, 0.18823529, 0.19215686]],\n",
              "\n",
              "        [[0.23921569, 0.26666667, 0.29411765],\n",
              "         [0.21568627, 0.2745098 , 0.3372549 ],\n",
              "         [0.22352941, 0.30980392, 0.40392157],\n",
              "         ...,\n",
              "         [0.09411765, 0.18823529, 0.28235294],\n",
              "         [0.06666667, 0.1372549 , 0.20784314],\n",
              "         [0.02745098, 0.09019608, 0.1254902 ]],\n",
              "\n",
              "        [[0.17254902, 0.21960784, 0.28627451],\n",
              "         [0.18039216, 0.25882353, 0.34509804],\n",
              "         [0.19215686, 0.30196078, 0.41176471],\n",
              "         ...,\n",
              "         [0.10588235, 0.20392157, 0.30196078],\n",
              "         [0.08235294, 0.16862745, 0.25882353],\n",
              "         [0.04705882, 0.12156863, 0.19607843]]],\n",
              "\n",
              "\n",
              "       [[[0.74117647, 0.82745098, 0.94117647],\n",
              "         [0.72941176, 0.81568627, 0.9254902 ],\n",
              "         [0.7254902 , 0.81176471, 0.92156863],\n",
              "         ...,\n",
              "         [0.68627451, 0.76470588, 0.87843137],\n",
              "         [0.6745098 , 0.76078431, 0.87058824],\n",
              "         [0.6627451 , 0.76078431, 0.8627451 ]],\n",
              "\n",
              "        [[0.76078431, 0.82352941, 0.9372549 ],\n",
              "         [0.74901961, 0.81176471, 0.9254902 ],\n",
              "         [0.74509804, 0.80784314, 0.92156863],\n",
              "         ...,\n",
              "         [0.67843137, 0.75294118, 0.8627451 ],\n",
              "         [0.67058824, 0.74901961, 0.85490196],\n",
              "         [0.65490196, 0.74509804, 0.84705882]],\n",
              "\n",
              "        [[0.81568627, 0.85882353, 0.95686275],\n",
              "         [0.80392157, 0.84705882, 0.94117647],\n",
              "         [0.8       , 0.84313725, 0.9372549 ],\n",
              "         ...,\n",
              "         [0.68627451, 0.74901961, 0.85098039],\n",
              "         [0.6745098 , 0.74509804, 0.84705882],\n",
              "         [0.6627451 , 0.74901961, 0.84313725]],\n",
              "\n",
              "        ...,\n",
              "\n",
              "        [[0.81176471, 0.78039216, 0.70980392],\n",
              "         [0.79607843, 0.76470588, 0.68627451],\n",
              "         [0.79607843, 0.76862745, 0.67843137],\n",
              "         ...,\n",
              "         [0.52941176, 0.51764706, 0.49803922],\n",
              "         [0.63529412, 0.61960784, 0.58823529],\n",
              "         [0.65882353, 0.63921569, 0.59215686]],\n",
              "\n",
              "        [[0.77647059, 0.74509804, 0.66666667],\n",
              "         [0.74117647, 0.70980392, 0.62352941],\n",
              "         [0.70588235, 0.6745098 , 0.57647059],\n",
              "         ...,\n",
              "         [0.69803922, 0.67058824, 0.62745098],\n",
              "         [0.68627451, 0.6627451 , 0.61176471],\n",
              "         [0.68627451, 0.6627451 , 0.60392157]],\n",
              "\n",
              "        [[0.77647059, 0.74117647, 0.67843137],\n",
              "         [0.74117647, 0.70980392, 0.63529412],\n",
              "         [0.69803922, 0.66666667, 0.58431373],\n",
              "         ...,\n",
              "         [0.76470588, 0.72156863, 0.6627451 ],\n",
              "         [0.76862745, 0.74117647, 0.67058824],\n",
              "         [0.76470588, 0.74509804, 0.67058824]]],\n",
              "\n",
              "\n",
              "       [[[0.89803922, 0.89803922, 0.9372549 ],\n",
              "         [0.9254902 , 0.92941176, 0.96862745],\n",
              "         [0.91764706, 0.9254902 , 0.96862745],\n",
              "         ...,\n",
              "         [0.85098039, 0.85882353, 0.91372549],\n",
              "         [0.86666667, 0.8745098 , 0.91764706],\n",
              "         [0.87058824, 0.8745098 , 0.91372549]],\n",
              "\n",
              "        [[0.87058824, 0.86666667, 0.89803922],\n",
              "         [0.9372549 , 0.9372549 , 0.97647059],\n",
              "         [0.91372549, 0.91764706, 0.96470588],\n",
              "         ...,\n",
              "         [0.8745098 , 0.8745098 , 0.9254902 ],\n",
              "         [0.89019608, 0.89411765, 0.93333333],\n",
              "         [0.82352941, 0.82745098, 0.8627451 ]],\n",
              "\n",
              "        [[0.83529412, 0.80784314, 0.82745098],\n",
              "         [0.91764706, 0.90980392, 0.9372549 ],\n",
              "         [0.90588235, 0.91372549, 0.95686275],\n",
              "         ...,\n",
              "         [0.8627451 , 0.8627451 , 0.90980392],\n",
              "         [0.8627451 , 0.85882353, 0.90980392],\n",
              "         [0.79215686, 0.79607843, 0.84313725]],\n",
              "\n",
              "        ...,\n",
              "\n",
              "        [[0.58823529, 0.56078431, 0.52941176],\n",
              "         [0.54901961, 0.52941176, 0.49803922],\n",
              "         [0.51764706, 0.49803922, 0.47058824],\n",
              "         ...,\n",
              "         [0.87843137, 0.87058824, 0.85490196],\n",
              "         [0.90196078, 0.89411765, 0.88235294],\n",
              "         [0.94509804, 0.94509804, 0.93333333]],\n",
              "\n",
              "        [[0.5372549 , 0.51764706, 0.49411765],\n",
              "         [0.50980392, 0.49803922, 0.47058824],\n",
              "         [0.49019608, 0.4745098 , 0.45098039],\n",
              "         ...,\n",
              "         [0.70980392, 0.70588235, 0.69803922],\n",
              "         [0.79215686, 0.78823529, 0.77647059],\n",
              "         [0.83137255, 0.82745098, 0.81176471]],\n",
              "\n",
              "        [[0.47843137, 0.46666667, 0.44705882],\n",
              "         [0.4627451 , 0.45490196, 0.43137255],\n",
              "         [0.47058824, 0.45490196, 0.43529412],\n",
              "         ...,\n",
              "         [0.70196078, 0.69411765, 0.67843137],\n",
              "         [0.64313725, 0.64313725, 0.63529412],\n",
              "         [0.63921569, 0.63921569, 0.63137255]]]])"
            ]
          },
          "metadata": {},
          "execution_count": 15
        }
      ]
    },
    {
      "cell_type": "markdown",
      "source": [
        "This is the time to make a decision for your target variable. Note that your target variable has 10 classes. You can either leave it as it is (integers between 0 and 9) or transform it to one-hot encoded target. Whatever you pick, please specify which loss function you should use down the road? (5 points)"
      ],
      "metadata": {
        "id": "wxIgbwI6nGlx"
      }
    },
    {
      "cell_type": "markdown",
      "source": [
        "I am deciding to leave it as integers between 0 and 9. The loss function I will want to use is 'SparseCategoricalCrossentropy' because it used when the labels are integers."
      ],
      "metadata": {
        "id": "90V3hzeqFrMy"
      }
    },
    {
      "cell_type": "markdown",
      "source": [
        "Question 2: Train the ANN model (20 points)"
      ],
      "metadata": {
        "id": "cXfOZYc8GFdL"
      }
    },
    {
      "cell_type": "code",
      "source": [
        "from tensorflow import keras\n",
        "from tensorflow.keras import layers\n",
        "from tensorflow.keras.layers import Flatten\n",
        "from tensorflow.keras.callbacks import EarlyStopping, ModelCheckpoint"
      ],
      "metadata": {
        "id": "HwEs8eYcacbY"
      },
      "execution_count": 16,
      "outputs": []
    },
    {
      "cell_type": "code",
      "source": [
        "x_train.shape"
      ],
      "metadata": {
        "colab": {
          "base_uri": "https://localhost:8080/"
        },
        "id": "NqLf8kI1jU1Q",
        "outputId": "bf210902-aa07-43b4-a9a7-58a15596fa98"
      },
      "execution_count": 17,
      "outputs": [
        {
          "output_type": "execute_result",
          "data": {
            "text/plain": [
              "(50000, 32, 32, 3)"
            ]
          },
          "metadata": {},
          "execution_count": 17
        }
      ]
    },
    {
      "cell_type": "code",
      "source": [
        "def build_ann_model():\n",
        "   inputs = keras.Input(shape=(x_train.shape[1:]), name= \"my_input\")\n",
        "   flatten_inputs = layers.Flatten()(inputs)\n",
        "   features = layers.Dense(512, activation='relu',   name='first_layer')(flatten_inputs)\n",
        "   features = layers.Dense(256, activation='relu',   name='second_layer')(features)\n",
        "   features = layers.Dense(256, activation='relu',   name='third_layer')(features)\n",
        "   outputs   = layers.Dense(10,  activation='softmax',name='output_layer')(features)\n",
        "   model = keras.Model(inputs=inputs, outputs=outputs)\n",
        "   model.compile(optimizer='rmsprop', loss='SparseCategoricalCrossentropy', metrics=['accuracy'])\n",
        "   return model\n",
        "\n"
      ],
      "metadata": {
        "id": "JISaFB-0Gw2k"
      },
      "execution_count": 18,
      "outputs": []
    },
    {
      "cell_type": "code",
      "source": [
        "ann_models = build_ann_model()\n",
        "ann_models.summary()"
      ],
      "metadata": {
        "colab": {
          "base_uri": "https://localhost:8080/"
        },
        "id": "-3lbI4Ese9N0",
        "outputId": "7b2b8b70-02f8-466a-aad3-e0e3dd3c5c09"
      },
      "execution_count": 19,
      "outputs": [
        {
          "output_type": "stream",
          "name": "stdout",
          "text": [
            "Model: \"model\"\n",
            "_________________________________________________________________\n",
            " Layer (type)                Output Shape              Param #   \n",
            "=================================================================\n",
            " my_input (InputLayer)       [(None, 32, 32, 3)]       0         \n",
            "                                                                 \n",
            " flatten (Flatten)           (None, 3072)              0         \n",
            "                                                                 \n",
            " first_layer (Dense)         (None, 512)               1573376   \n",
            "                                                                 \n",
            " second_layer (Dense)        (None, 256)               131328    \n",
            "                                                                 \n",
            " third_layer (Dense)         (None, 256)               65792     \n",
            "                                                                 \n",
            " output_layer (Dense)        (None, 10)                2570      \n",
            "                                                                 \n",
            "=================================================================\n",
            "Total params: 1773066 (6.76 MB)\n",
            "Trainable params: 1773066 (6.76 MB)\n",
            "Non-trainable params: 0 (0.00 Byte)\n",
            "_________________________________________________________________\n"
          ]
        }
      ]
    },
    {
      "cell_type": "code",
      "source": [
        "early_stopping   = EarlyStopping(monitor='val_loss', mode='min', verbose=1, patience=10)\n",
        "model_checkpoint = ModelCheckpoint(monitor='val_loss', save_best_only=True, filepath=\"ann_model.h5\")\n",
        "callback_list    = [early_stopping,model_checkpoint]"
      ],
      "metadata": {
        "id": "OWnObpeDZrLQ"
      },
      "execution_count": 20,
      "outputs": []
    },
    {
      "cell_type": "code",
      "source": [
        "ann_models.fit(x_train,y_train, validation_data=(x_test, y_test), epochs=25, batch_size=64,\n",
        "          callbacks=callback_list)"
      ],
      "metadata": {
        "colab": {
          "base_uri": "https://localhost:8080/"
        },
        "id": "I5CmJ7k8hSGK",
        "outputId": "a722748a-ef6f-415e-9b51-a7403742412e"
      },
      "execution_count": 21,
      "outputs": [
        {
          "output_type": "stream",
          "name": "stdout",
          "text": [
            "Epoch 1/25\n",
            "782/782 [==============================] - 8s 5ms/step - loss: 1.9624 - accuracy: 0.2878 - val_loss: 2.0009 - val_accuracy: 0.2719\n",
            "Epoch 2/25\n",
            " 30/782 [>.............................] - ETA: 2s - loss: 1.7657 - accuracy: 0.3578"
          ]
        },
        {
          "output_type": "stream",
          "name": "stderr",
          "text": [
            "/usr/local/lib/python3.10/dist-packages/keras/src/engine/training.py:3079: UserWarning: You are saving your model as an HDF5 file via `model.save()`. This file format is considered legacy. We recommend using instead the native Keras format, e.g. `model.save('my_model.keras')`.\n",
            "  saving_api.save_model(\n"
          ]
        },
        {
          "output_type": "stream",
          "name": "stdout",
          "text": [
            "782/782 [==============================] - 3s 4ms/step - loss: 1.7234 - accuracy: 0.3835 - val_loss: 1.7743 - val_accuracy: 0.3537\n",
            "Epoch 3/25\n",
            "782/782 [==============================] - 3s 4ms/step - loss: 1.6360 - accuracy: 0.4169 - val_loss: 1.6564 - val_accuracy: 0.4053\n",
            "Epoch 4/25\n",
            "782/782 [==============================] - 4s 5ms/step - loss: 1.5756 - accuracy: 0.4376 - val_loss: 1.6692 - val_accuracy: 0.4129\n",
            "Epoch 5/25\n",
            "782/782 [==============================] - 3s 4ms/step - loss: 1.5344 - accuracy: 0.4534 - val_loss: 1.8436 - val_accuracy: 0.3828\n",
            "Epoch 6/25\n",
            "782/782 [==============================] - 3s 4ms/step - loss: 1.5048 - accuracy: 0.4647 - val_loss: 1.5981 - val_accuracy: 0.4399\n",
            "Epoch 7/25\n",
            "782/782 [==============================] - 4s 5ms/step - loss: 1.4760 - accuracy: 0.4770 - val_loss: 1.5298 - val_accuracy: 0.4549\n",
            "Epoch 8/25\n",
            "782/782 [==============================] - 4s 5ms/step - loss: 1.4575 - accuracy: 0.4818 - val_loss: 1.5451 - val_accuracy: 0.4535\n",
            "Epoch 9/25\n",
            "782/782 [==============================] - 5s 7ms/step - loss: 1.4424 - accuracy: 0.4914 - val_loss: 1.7726 - val_accuracy: 0.4004\n",
            "Epoch 10/25\n",
            "782/782 [==============================] - 6s 7ms/step - loss: 1.4268 - accuracy: 0.4928 - val_loss: 2.0515 - val_accuracy: 0.3542\n",
            "Epoch 11/25\n",
            "782/782 [==============================] - 3s 4ms/step - loss: 1.4176 - accuracy: 0.4983 - val_loss: 1.6229 - val_accuracy: 0.4415\n",
            "Epoch 12/25\n",
            "782/782 [==============================] - 3s 4ms/step - loss: 1.4067 - accuracy: 0.4998 - val_loss: 1.8447 - val_accuracy: 0.4077\n",
            "Epoch 13/25\n",
            "782/782 [==============================] - 4s 5ms/step - loss: 1.3937 - accuracy: 0.5045 - val_loss: 1.8744 - val_accuracy: 0.3989\n",
            "Epoch 14/25\n",
            "782/782 [==============================] - 4s 5ms/step - loss: 1.3879 - accuracy: 0.5076 - val_loss: 1.6622 - val_accuracy: 0.4287\n",
            "Epoch 15/25\n",
            "782/782 [==============================] - 4s 5ms/step - loss: 1.3734 - accuracy: 0.5137 - val_loss: 1.9193 - val_accuracy: 0.4141\n",
            "Epoch 16/25\n",
            "782/782 [==============================] - 4s 5ms/step - loss: 1.3670 - accuracy: 0.5166 - val_loss: 1.9568 - val_accuracy: 0.3964\n",
            "Epoch 17/25\n",
            "782/782 [==============================] - 4s 5ms/step - loss: 1.3652 - accuracy: 0.5185 - val_loss: 1.5794 - val_accuracy: 0.4651\n",
            "Epoch 17: early stopping\n"
          ]
        },
        {
          "output_type": "execute_result",
          "data": {
            "text/plain": [
              "<keras.src.callbacks.History at 0x79f6801bb5e0>"
            ]
          },
          "metadata": {},
          "execution_count": 21
        }
      ]
    },
    {
      "cell_type": "code",
      "source": [
        "test_model = keras.models.load_model(\"ann_model.h5\")\n",
        "test_model.evaluate(x_test, y_test)"
      ],
      "metadata": {
        "colab": {
          "base_uri": "https://localhost:8080/"
        },
        "id": "ffwJdNIYmUHk",
        "outputId": "89606aff-8ac5-479f-9f93-a91e9adbbbc8"
      },
      "execution_count": 22,
      "outputs": [
        {
          "output_type": "stream",
          "name": "stdout",
          "text": [
            "313/313 [==============================] - 1s 3ms/step - loss: 1.5298 - accuracy: 0.4549\n"
          ]
        },
        {
          "output_type": "execute_result",
          "data": {
            "text/plain": [
              "[1.5297924280166626, 0.45489999651908875]"
            ]
          },
          "metadata": {},
          "execution_count": 22
        }
      ]
    },
    {
      "cell_type": "markdown",
      "source": [
        "Question 3: Train the CNN model (25 points)"
      ],
      "metadata": {
        "id": "l2gRs7WIGyCP"
      }
    },
    {
      "cell_type": "code",
      "source": [
        "def build_cnn_model():\n",
        "    inputs= keras.Input(shape= x_train.shape[1:], name='Input layer')\n",
        "    x = layers.Conv2D(filters= 32, kernel_size = 3, strides = (1,1) , padding='same',  activation='relu' ,name=\"conv_layer_1\")(inputs)\n",
        "    x = layers.MaxPool2D(pool_size=2, name=\"pooling_1\")(x)\n",
        "    x = layers.Conv2D(filters= 64, kernel_size = 3,  padding='same',activation='relu', name=\"conv_layer_2\")(x)\n",
        "    x = layers.MaxPool2D(pool_size=2, name=\"pooling_2\")(x)\n",
        "    x = layers.Conv2D(filters= 128, kernel_size = 3, padding='same', activation='relu', name=\"conv_layer_3\")(x)\n",
        "    x = layers.MaxPool2D(pool_size=2, name=\"pooling_3\")(x)\n",
        "    x = layers.Conv2D(filters= 256, kernel_size = 3, padding='same', activation='relu', name=\"conv_layer_4\")(x)\n",
        "    x = layers.Flatten(name=\"flattening_layer\")(x)\n",
        "    x = layers.Dense(units= 64, activation='relu')(x)\n",
        "    outputs = layers.Dense(units= 10, activation='softmax', name='output_layer')(x)\n",
        "\n",
        "    model = keras.Model(inputs= inputs , outputs=outputs, name='my_first_CNN_model')\n",
        "\n",
        "    model.compile(optimizer='rmsprop',\n",
        "                  loss='sparse_categorical_crossentropy',\n",
        "                  metrics=['accuracy'])\n",
        "\n",
        "    return model"
      ],
      "metadata": {
        "id": "k9B01_qPG78S"
      },
      "execution_count": 37,
      "outputs": []
    },
    {
      "cell_type": "code",
      "source": [
        "cnn_models = build_cnn_model()\n",
        "cnn_models.summary()"
      ],
      "metadata": {
        "colab": {
          "base_uri": "https://localhost:8080/"
        },
        "id": "ljfjHiwquVZ8",
        "outputId": "0377f92c-816c-4963-f611-dedd50b47b15"
      },
      "execution_count": 38,
      "outputs": [
        {
          "output_type": "stream",
          "name": "stdout",
          "text": [
            "Model: \"my_first_CNN_model\"\n",
            "_________________________________________________________________\n",
            " Layer (type)                Output Shape              Param #   \n",
            "=================================================================\n",
            " Input layer (InputLayer)    [(None, 32, 32, 3)]       0         \n",
            "                                                                 \n",
            " conv_layer_1 (Conv2D)       (None, 32, 32, 32)        896       \n",
            "                                                                 \n",
            " pooling_1 (MaxPooling2D)    (None, 16, 16, 32)        0         \n",
            "                                                                 \n",
            " conv_layer_2 (Conv2D)       (None, 16, 16, 64)        18496     \n",
            "                                                                 \n",
            " pooling_2 (MaxPooling2D)    (None, 8, 8, 64)          0         \n",
            "                                                                 \n",
            " conv_layer_3 (Conv2D)       (None, 8, 8, 128)         73856     \n",
            "                                                                 \n",
            " pooling_3 (MaxPooling2D)    (None, 4, 4, 128)         0         \n",
            "                                                                 \n",
            " conv_layer_4 (Conv2D)       (None, 4, 4, 256)         295168    \n",
            "                                                                 \n",
            " flattening_layer (Flatten)  (None, 4096)              0         \n",
            "                                                                 \n",
            " dense_2 (Dense)             (None, 64)                262208    \n",
            "                                                                 \n",
            " output_layer (Dense)        (None, 10)                650       \n",
            "                                                                 \n",
            "=================================================================\n",
            "Total params: 651274 (2.48 MB)\n",
            "Trainable params: 651274 (2.48 MB)\n",
            "Non-trainable params: 0 (0.00 Byte)\n",
            "_________________________________________________________________\n"
          ]
        }
      ]
    },
    {
      "cell_type": "code",
      "source": [
        "early_stopping   = EarlyStopping(monitor='val_loss', mode='min', verbose=1, patience=10)\n",
        "model_checkpoint = ModelCheckpoint(monitor='val_loss', save_best_only=True, filepath=\"cnn_model.h5\")\n",
        "\n",
        "callback_list    = [early_stopping,model_checkpoint]"
      ],
      "metadata": {
        "id": "aPIzVRrtyMq7"
      },
      "execution_count": 39,
      "outputs": []
    },
    {
      "cell_type": "code",
      "source": [
        "history1 = cnn_models.fit(x_train,y_train, validation_data=(x_test, y_test), epochs=20, batch_size=64,\n",
        "          callbacks=callback_list)"
      ],
      "metadata": {
        "colab": {
          "base_uri": "https://localhost:8080/"
        },
        "id": "QxcqoFp3yQZB",
        "outputId": "60e6b8ab-38c8-489c-8d32-7d62a0489db9"
      },
      "execution_count": 40,
      "outputs": [
        {
          "output_type": "stream",
          "name": "stdout",
          "text": [
            "Epoch 1/20\n",
            "782/782 [==============================] - 7s 7ms/step - loss: 1.6429 - accuracy: 0.4003 - val_loss: 1.2666 - val_accuracy: 0.5479\n",
            "Epoch 2/20\n",
            " 17/782 [..............................] - ETA: 5s - loss: 1.2362 - accuracy: 0.5570"
          ]
        },
        {
          "output_type": "stream",
          "name": "stderr",
          "text": [
            "/usr/local/lib/python3.10/dist-packages/keras/src/engine/training.py:3079: UserWarning: You are saving your model as an HDF5 file via `model.save()`. This file format is considered legacy. We recommend using instead the native Keras format, e.g. `model.save('my_model.keras')`.\n",
            "  saving_api.save_model(\n"
          ]
        },
        {
          "output_type": "stream",
          "name": "stdout",
          "text": [
            "782/782 [==============================] - 5s 6ms/step - loss: 1.1287 - accuracy: 0.5986 - val_loss: 1.2404 - val_accuracy: 0.5786\n",
            "Epoch 3/20\n",
            "782/782 [==============================] - 5s 6ms/step - loss: 0.8904 - accuracy: 0.6861 - val_loss: 1.0671 - val_accuracy: 0.6297\n",
            "Epoch 4/20\n",
            "782/782 [==============================] - 5s 7ms/step - loss: 0.7341 - accuracy: 0.7433 - val_loss: 0.8175 - val_accuracy: 0.7179\n",
            "Epoch 5/20\n",
            "782/782 [==============================] - 4s 6ms/step - loss: 0.6048 - accuracy: 0.7869 - val_loss: 0.8720 - val_accuracy: 0.7069\n",
            "Epoch 6/20\n",
            "782/782 [==============================] - 5s 6ms/step - loss: 0.4917 - accuracy: 0.8298 - val_loss: 0.8194 - val_accuracy: 0.7235\n",
            "Epoch 7/20\n",
            "782/782 [==============================] - 5s 7ms/step - loss: 0.3955 - accuracy: 0.8621 - val_loss: 0.9302 - val_accuracy: 0.7105\n",
            "Epoch 8/20\n",
            "782/782 [==============================] - 5s 6ms/step - loss: 0.3150 - accuracy: 0.8914 - val_loss: 1.1671 - val_accuracy: 0.6872\n",
            "Epoch 9/20\n",
            "782/782 [==============================] - 5s 7ms/step - loss: 0.2448 - accuracy: 0.9145 - val_loss: 1.0069 - val_accuracy: 0.7290\n",
            "Epoch 10/20\n",
            "782/782 [==============================] - 5s 6ms/step - loss: 0.2007 - accuracy: 0.9295 - val_loss: 1.1559 - val_accuracy: 0.7386\n",
            "Epoch 11/20\n",
            "782/782 [==============================] - 5s 6ms/step - loss: 0.1663 - accuracy: 0.9423 - val_loss: 1.2229 - val_accuracy: 0.7419\n",
            "Epoch 12/20\n",
            "782/782 [==============================] - 5s 7ms/step - loss: 0.1480 - accuracy: 0.9489 - val_loss: 1.3272 - val_accuracy: 0.7445\n",
            "Epoch 13/20\n",
            "782/782 [==============================] - 5s 6ms/step - loss: 0.1352 - accuracy: 0.9539 - val_loss: 1.4992 - val_accuracy: 0.7335\n",
            "Epoch 14/20\n",
            "782/782 [==============================] - 5s 6ms/step - loss: 0.1309 - accuracy: 0.9565 - val_loss: 1.6538 - val_accuracy: 0.7264\n",
            "Epoch 14: early stopping\n"
          ]
        }
      ]
    },
    {
      "cell_type": "code",
      "source": [
        "test_model = keras.models.load_model(\"cnn_model.h5\")\n",
        "test_model.evaluate(x_test, y_test)"
      ],
      "metadata": {
        "colab": {
          "base_uri": "https://localhost:8080/"
        },
        "id": "3vz9wpUozIBn",
        "outputId": "1d34f856-dfa4-4d54-bd1a-689d3001ffc9"
      },
      "execution_count": 41,
      "outputs": [
        {
          "output_type": "stream",
          "name": "stdout",
          "text": [
            "313/313 [==============================] - 1s 3ms/step - loss: 0.8175 - accuracy: 0.7179\n"
          ]
        },
        {
          "output_type": "execute_result",
          "data": {
            "text/plain": [
              "[0.8175109624862671, 0.7178999781608582]"
            ]
          },
          "metadata": {},
          "execution_count": 41
        }
      ]
    },
    {
      "cell_type": "markdown",
      "source": [
        "Question 4: Train the CNN model with data augmentation (25 points)"
      ],
      "metadata": {
        "id": "JCvApdgmGx_6"
      }
    },
    {
      "cell_type": "code",
      "source": [
        "def build_cnn_aug_model():\n",
        "    data_augmentation = keras.Sequential([\n",
        "        layers.experimental.preprocessing.RandomRotation(0.2),\n",
        "         layers.experimental.preprocessing.RandomZoom(0.3),\n",
        "         layers.experimental.preprocessing.RandomFlip(\"vertical\")\n",
        "    ], name=\"data_augmentation\")\n",
        "\n",
        "    inputs = keras.Input(shape=x_train.shape[1:], name='Input layer')\n",
        "    x = data_augmentation(inputs)\n",
        "    x = layers.Conv2D(filters=32, kernel_size=3, strides=(1,1), padding='same', activation='relu', name=\"conv_layer_1\")(x)\n",
        "    x = layers.MaxPool2D(pool_size=2, name=\"pooling_1\")(x)\n",
        "    x = layers.Conv2D(filters=64, kernel_size=3, padding='same', activation='relu', name=\"conv_layer_2\")(x)\n",
        "    x = layers.MaxPool2D(pool_size=2, name=\"pooling_2\")(x)\n",
        "    x = layers.Conv2D(filters=128, kernel_size=3, padding='same', activation='relu', name=\"conv_layer_3\")(x)\n",
        "    x = layers.MaxPool2D(pool_size=2, name=\"pooling_3\")(x)\n",
        "    x = layers.Flatten(name=\"flattening_layer\")(x)\n",
        "    x = layers.Dense(units=64, activation='relu')(x)\n",
        "    outputs = layers.Dense(units=10, activation='softmax', name='output_layer')(x)\n",
        "\n",
        "    model = keras.Model(inputs=inputs, outputs=outputs, name='my_first_CNN__aug_model')\n",
        "\n",
        "    model.compile(optimizer='rmsprop',\n",
        "                  loss='sparse_categorical_crossentropy',\n",
        "                  metrics=['accuracy'])\n",
        "\n",
        "    return model"
      ],
      "metadata": {
        "id": "hEDqJhbpGxYW"
      },
      "execution_count": 28,
      "outputs": []
    },
    {
      "cell_type": "code",
      "source": [
        "model_augmented = build_cnn_aug_model()\n",
        "model_augmented.summary()\n"
      ],
      "metadata": {
        "colab": {
          "base_uri": "https://localhost:8080/"
        },
        "id": "UAY-RCgQHRGP",
        "outputId": "58458a78-0785-4673-c20c-957d604bffa5"
      },
      "execution_count": 29,
      "outputs": [
        {
          "output_type": "stream",
          "name": "stdout",
          "text": [
            "Model: \"my_first_CNN__aug_model\"\n",
            "_________________________________________________________________\n",
            " Layer (type)                Output Shape              Param #   \n",
            "=================================================================\n",
            " Input layer (InputLayer)    [(None, 32, 32, 3)]       0         \n",
            "                                                                 \n",
            " data_augmentation (Sequent  (None, 32, 32, 3)         0         \n",
            " ial)                                                            \n",
            "                                                                 \n",
            " conv_layer_1 (Conv2D)       (None, 32, 32, 32)        896       \n",
            "                                                                 \n",
            " pooling_1 (MaxPooling2D)    (None, 16, 16, 32)        0         \n",
            "                                                                 \n",
            " conv_layer_2 (Conv2D)       (None, 16, 16, 64)        18496     \n",
            "                                                                 \n",
            " pooling_2 (MaxPooling2D)    (None, 8, 8, 64)          0         \n",
            "                                                                 \n",
            " conv_layer_3 (Conv2D)       (None, 8, 8, 128)         73856     \n",
            "                                                                 \n",
            " pooling_3 (MaxPooling2D)    (None, 4, 4, 128)         0         \n",
            "                                                                 \n",
            " flattening_layer (Flatten)  (None, 2048)              0         \n",
            "                                                                 \n",
            " dense_1 (Dense)             (None, 64)                131136    \n",
            "                                                                 \n",
            " output_layer (Dense)        (None, 10)                650       \n",
            "                                                                 \n",
            "=================================================================\n",
            "Total params: 225034 (879.04 KB)\n",
            "Trainable params: 225034 (879.04 KB)\n",
            "Non-trainable params: 0 (0.00 Byte)\n",
            "_________________________________________________________________\n"
          ]
        }
      ]
    },
    {
      "cell_type": "code",
      "source": [
        "early_stopping   = EarlyStopping(monitor='val_loss', mode='min', verbose=1, patience=10)\n",
        "model_checkpoint = ModelCheckpoint(monitor='val_loss', save_best_only=True, filepath=\"model_cnn_aug.h5\")\n",
        "callback_list    = [early_stopping,model_checkpoint]"
      ],
      "metadata": {
        "id": "00G_VB1o9a2f"
      },
      "execution_count": 30,
      "outputs": []
    },
    {
      "cell_type": "code",
      "source": [
        "history = model_augmented.fit(x=x_train, y=y_train, validation_data=(x_test, y_test),\n",
        "          epochs=40, batch_size=128, callbacks=callback_list)"
      ],
      "metadata": {
        "colab": {
          "base_uri": "https://localhost:8080/"
        },
        "id": "clPAReWC9rpK",
        "outputId": "16c3ef71-9dac-4130-95cd-969484d745ce"
      },
      "execution_count": 31,
      "outputs": [
        {
          "output_type": "stream",
          "name": "stdout",
          "text": [
            "Epoch 1/40\n",
            "391/391 [==============================] - 6s 10ms/step - loss: 2.0078 - accuracy: 0.2585 - val_loss: 1.7873 - val_accuracy: 0.3481\n",
            "Epoch 2/40\n",
            "391/391 [==============================] - 3s 8ms/step - loss: 1.7730 - accuracy: 0.3622 - val_loss: 1.6162 - val_accuracy: 0.4136\n",
            "Epoch 3/40\n",
            "391/391 [==============================] - 3s 9ms/step - loss: 1.6638 - accuracy: 0.4030 - val_loss: 1.6698 - val_accuracy: 0.4070\n",
            "Epoch 4/40\n",
            "391/391 [==============================] - 4s 9ms/step - loss: 1.5900 - accuracy: 0.4322 - val_loss: 1.4334 - val_accuracy: 0.4896\n",
            "Epoch 5/40\n",
            "391/391 [==============================] - 3s 8ms/step - loss: 1.5358 - accuracy: 0.4531 - val_loss: 1.4144 - val_accuracy: 0.4946\n",
            "Epoch 6/40\n",
            "391/391 [==============================] - 3s 9ms/step - loss: 1.4885 - accuracy: 0.4695 - val_loss: 1.3653 - val_accuracy: 0.5152\n",
            "Epoch 7/40\n",
            "391/391 [==============================] - 4s 10ms/step - loss: 1.4458 - accuracy: 0.4851 - val_loss: 1.4484 - val_accuracy: 0.4932\n",
            "Epoch 8/40\n",
            "391/391 [==============================] - 3s 8ms/step - loss: 1.4128 - accuracy: 0.4985 - val_loss: 1.3169 - val_accuracy: 0.5333\n",
            "Epoch 9/40\n",
            "391/391 [==============================] - 3s 8ms/step - loss: 1.3718 - accuracy: 0.5114 - val_loss: 1.2575 - val_accuracy: 0.5577\n",
            "Epoch 10/40\n",
            "391/391 [==============================] - 4s 9ms/step - loss: 1.3474 - accuracy: 0.5183 - val_loss: 1.3128 - val_accuracy: 0.5441\n",
            "Epoch 11/40\n",
            "391/391 [==============================] - 4s 9ms/step - loss: 1.3114 - accuracy: 0.5338 - val_loss: 1.2565 - val_accuracy: 0.5561\n",
            "Epoch 12/40\n",
            "391/391 [==============================] - 3s 8ms/step - loss: 1.2913 - accuracy: 0.5421 - val_loss: 1.3379 - val_accuracy: 0.5283\n",
            "Epoch 13/40\n",
            "391/391 [==============================] - 3s 9ms/step - loss: 1.2735 - accuracy: 0.5483 - val_loss: 1.2373 - val_accuracy: 0.5630\n",
            "Epoch 14/40\n",
            "391/391 [==============================] - 4s 10ms/step - loss: 1.2456 - accuracy: 0.5598 - val_loss: 1.3790 - val_accuracy: 0.5226\n",
            "Epoch 15/40\n",
            "391/391 [==============================] - 3s 8ms/step - loss: 1.2327 - accuracy: 0.5650 - val_loss: 1.1480 - val_accuracy: 0.5940\n",
            "Epoch 16/40\n",
            "391/391 [==============================] - 3s 8ms/step - loss: 1.2076 - accuracy: 0.5734 - val_loss: 1.1944 - val_accuracy: 0.5834\n",
            "Epoch 17/40\n",
            "391/391 [==============================] - 4s 11ms/step - loss: 1.1979 - accuracy: 0.5753 - val_loss: 1.1313 - val_accuracy: 0.5985\n",
            "Epoch 18/40\n",
            "391/391 [==============================] - 4s 10ms/step - loss: 1.1856 - accuracy: 0.5802 - val_loss: 1.2066 - val_accuracy: 0.5843\n",
            "Epoch 19/40\n",
            "391/391 [==============================] - 3s 8ms/step - loss: 1.1710 - accuracy: 0.5865 - val_loss: 1.1726 - val_accuracy: 0.5872\n",
            "Epoch 20/40\n",
            "391/391 [==============================] - 3s 8ms/step - loss: 1.1621 - accuracy: 0.5879 - val_loss: 1.1272 - val_accuracy: 0.6081\n",
            "Epoch 21/40\n",
            "391/391 [==============================] - 4s 10ms/step - loss: 1.1477 - accuracy: 0.5941 - val_loss: 1.2432 - val_accuracy: 0.5780\n",
            "Epoch 22/40\n",
            "391/391 [==============================] - 3s 8ms/step - loss: 1.1388 - accuracy: 0.5987 - val_loss: 1.1783 - val_accuracy: 0.5887\n",
            "Epoch 23/40\n",
            "391/391 [==============================] - 3s 8ms/step - loss: 1.1250 - accuracy: 0.6024 - val_loss: 1.2089 - val_accuracy: 0.5792\n",
            "Epoch 24/40\n",
            "391/391 [==============================] - 3s 8ms/step - loss: 1.1196 - accuracy: 0.6049 - val_loss: 1.2479 - val_accuracy: 0.5654\n",
            "Epoch 25/40\n",
            "391/391 [==============================] - 4s 10ms/step - loss: 1.1088 - accuracy: 0.6102 - val_loss: 1.1388 - val_accuracy: 0.6108\n",
            "Epoch 26/40\n",
            "391/391 [==============================] - 3s 8ms/step - loss: 1.0957 - accuracy: 0.6150 - val_loss: 1.1303 - val_accuracy: 0.6110\n",
            "Epoch 27/40\n",
            "391/391 [==============================] - 3s 8ms/step - loss: 1.0870 - accuracy: 0.6189 - val_loss: 1.3600 - val_accuracy: 0.5547\n",
            "Epoch 28/40\n",
            "391/391 [==============================] - 4s 10ms/step - loss: 1.0856 - accuracy: 0.6171 - val_loss: 1.1205 - val_accuracy: 0.6117\n",
            "Epoch 29/40\n",
            "391/391 [==============================] - 3s 9ms/step - loss: 1.0728 - accuracy: 0.6232 - val_loss: 1.2568 - val_accuracy: 0.5742\n",
            "Epoch 30/40\n",
            "391/391 [==============================] - 3s 8ms/step - loss: 1.0708 - accuracy: 0.6238 - val_loss: 1.2200 - val_accuracy: 0.5926\n",
            "Epoch 31/40\n",
            "391/391 [==============================] - 3s 8ms/step - loss: 1.0618 - accuracy: 0.6252 - val_loss: 1.2212 - val_accuracy: 0.5972\n",
            "Epoch 32/40\n",
            "391/391 [==============================] - 4s 10ms/step - loss: 1.0597 - accuracy: 0.6271 - val_loss: 1.1226 - val_accuracy: 0.6137\n",
            "Epoch 33/40\n",
            "391/391 [==============================] - 3s 8ms/step - loss: 1.0447 - accuracy: 0.6325 - val_loss: 1.0905 - val_accuracy: 0.6290\n",
            "Epoch 34/40\n",
            "391/391 [==============================] - 3s 8ms/step - loss: 1.0432 - accuracy: 0.6350 - val_loss: 1.0659 - val_accuracy: 0.6366\n",
            "Epoch 35/40\n",
            "391/391 [==============================] - 3s 8ms/step - loss: 1.0400 - accuracy: 0.6322 - val_loss: 1.0952 - val_accuracy: 0.6219\n",
            "Epoch 36/40\n",
            "391/391 [==============================] - 4s 10ms/step - loss: 1.0342 - accuracy: 0.6333 - val_loss: 1.1720 - val_accuracy: 0.6106\n",
            "Epoch 37/40\n",
            "391/391 [==============================] - 3s 8ms/step - loss: 1.0315 - accuracy: 0.6378 - val_loss: 1.1297 - val_accuracy: 0.6169\n",
            "Epoch 38/40\n",
            "391/391 [==============================] - 3s 8ms/step - loss: 1.0254 - accuracy: 0.6388 - val_loss: 1.0728 - val_accuracy: 0.6338\n",
            "Epoch 39/40\n",
            "391/391 [==============================] - 3s 9ms/step - loss: 1.0176 - accuracy: 0.6400 - val_loss: 1.0867 - val_accuracy: 0.6252\n",
            "Epoch 40/40\n",
            "391/391 [==============================] - 5s 13ms/step - loss: 1.0098 - accuracy: 0.6454 - val_loss: 1.0595 - val_accuracy: 0.6379\n"
          ]
        }
      ]
    },
    {
      "cell_type": "code",
      "source": [
        "test_model = keras.models.load_model(\"model_cnn_aug.h5\")\n",
        "test_model.evaluate(x_test, y_test)"
      ],
      "metadata": {
        "colab": {
          "base_uri": "https://localhost:8080/"
        },
        "id": "wt-6W9CPNosk",
        "outputId": "12a20e1b-aad1-4448-f29c-c57f49795939"
      },
      "execution_count": 32,
      "outputs": [
        {
          "output_type": "stream",
          "name": "stdout",
          "text": [
            "313/313 [==============================] - 1s 3ms/step - loss: 1.0595 - accuracy: 0.6379\n"
          ]
        },
        {
          "output_type": "execute_result",
          "data": {
            "text/plain": [
              "[1.0594754219055176, 0.6378999948501587]"
            ]
          },
          "metadata": {},
          "execution_count": 32
        }
      ]
    },
    {
      "cell_type": "markdown",
      "source": [
        "\n",
        "Question 5: Evaluate your best model (35 points)"
      ],
      "metadata": {
        "id": "hIW0aGMBH6Mq"
      }
    },
    {
      "cell_type": "markdown",
      "source": [
        "For this question, go back and see which of the above models (ANN, CNN or CNN augmented) was the winner for the image classification task (hopefully one of your CNN models is the winner). Load that model and call it winning_model. (remember you have saved this before using Modelcheckpoint call back)  (5 points)"
      ],
      "metadata": {
        "id": "O811IlROHRkW"
      }
    },
    {
      "cell_type": "code",
      "source": [
        "winning_model = keras.models.load_model(\"cnn_model.h5\")"
      ],
      "metadata": {
        "id": "GF8JujWYICFH"
      },
      "execution_count": 34,
      "outputs": []
    },
    {
      "cell_type": "markdown",
      "source": [
        "Report the model summary (winning_model.summary() ). How many parameters are there in the last convolutional layer in your winning model. Show me the breakdown of that number (ex: 3*3*3*50+50 = 1400) (5 points)"
      ],
      "metadata": {
        "id": "tWdcHR_GH9vK"
      }
    },
    {
      "cell_type": "code",
      "source": [
        "winning_model.summary()"
      ],
      "metadata": {
        "colab": {
          "base_uri": "https://localhost:8080/"
        },
        "id": "1mG4aBr9IBVA",
        "outputId": "01985cbf-0bea-4bff-b0ca-fb35f503391d"
      },
      "execution_count": 35,
      "outputs": [
        {
          "output_type": "stream",
          "name": "stdout",
          "text": [
            "Model: \"my_first_CNN_model\"\n",
            "_________________________________________________________________\n",
            " Layer (type)                Output Shape              Param #   \n",
            "=================================================================\n",
            " Input layer (InputLayer)    [(None, 32, 32, 3)]       0         \n",
            "                                                                 \n",
            " conv_layer_1 (Conv2D)       (None, 32, 32, 32)        896       \n",
            "                                                                 \n",
            " pooling_1 (MaxPooling2D)    (None, 16, 16, 32)        0         \n",
            "                                                                 \n",
            " conv_layer_2 (Conv2D)       (None, 16, 16, 64)        18496     \n",
            "                                                                 \n",
            " pooling_2 (MaxPooling2D)    (None, 8, 8, 64)          0         \n",
            "                                                                 \n",
            " conv_layer_3 (Conv2D)       (None, 8, 8, 128)         73856     \n",
            "                                                                 \n",
            " pooling_3 (MaxPooling2D)    (None, 4, 4, 128)         0         \n",
            "                                                                 \n",
            " conv_layer_4 (Conv2D)       (None, 4, 4, 256)         295168    \n",
            "                                                                 \n",
            " flattening_layer (Flatten)  (None, 4096)              0         \n",
            "                                                                 \n",
            " dense (Dense)               (None, 64)                262208    \n",
            "                                                                 \n",
            " output_layer (Dense)        (None, 10)                650       \n",
            "                                                                 \n",
            "=================================================================\n",
            "Total params: 651274 (2.48 MB)\n",
            "Trainable params: 651274 (2.48 MB)\n",
            "Non-trainable params: 0 (0.00 Byte)\n",
            "_________________________________________________________________\n"
          ]
        }
      ]
    },
    {
      "cell_type": "markdown",
      "source": [
        "(kernal * (channel depth of previous layer) +1 ) * channel depth of last layer"
      ],
      "metadata": {
        "id": "_tj4vZucUAqo"
      }
    },
    {
      "cell_type": "code",
      "source": [
        "((3*3*128)+1)*256"
      ],
      "metadata": {
        "colab": {
          "base_uri": "https://localhost:8080/"
        },
        "id": "OS-XuEbJT-1s",
        "outputId": "30cc6d5f-9d9c-42ca-ff5f-94f9ef556fb3"
      },
      "execution_count": 42,
      "outputs": [
        {
          "output_type": "execute_result",
          "data": {
            "text/plain": [
              "295168"
            ]
          },
          "metadata": {},
          "execution_count": 42
        }
      ]
    },
    {
      "cell_type": "markdown",
      "source": [
        "Plot the loss vs epoch for the train and validation set. At what epoch number does your model start overfitting? (5 points)"
      ],
      "metadata": {
        "id": "SGNsslCBICtZ"
      }
    },
    {
      "cell_type": "code",
      "source": [
        "metrics = pd.DataFrame(history1.history)"
      ],
      "metadata": {
        "id": "8Q01hDonWFMV"
      },
      "execution_count": 46,
      "outputs": []
    },
    {
      "cell_type": "code",
      "source": [
        "metrics.head()"
      ],
      "metadata": {
        "colab": {
          "base_uri": "https://localhost:8080/",
          "height": 206
        },
        "id": "Fs8HKKlCWH1C",
        "outputId": "e6a899ee-7ca8-4ff3-f475-08ee0db89f30"
      },
      "execution_count": 47,
      "outputs": [
        {
          "output_type": "execute_result",
          "data": {
            "text/plain": [
              "       loss  accuracy  val_loss  val_accuracy\n",
              "0  1.642922   0.40028  1.266650        0.5479\n",
              "1  1.128721   0.59856  1.240354        0.5786\n",
              "2  0.890367   0.68606  1.067096        0.6297\n",
              "3  0.734108   0.74328  0.817511        0.7179\n",
              "4  0.604762   0.78692  0.871998        0.7069"
            ],
            "text/html": [
              "\n",
              "  <div id=\"df-ba86f187-4b7f-404a-8565-cd05c716ac9e\" class=\"colab-df-container\">\n",
              "    <div>\n",
              "<style scoped>\n",
              "    .dataframe tbody tr th:only-of-type {\n",
              "        vertical-align: middle;\n",
              "    }\n",
              "\n",
              "    .dataframe tbody tr th {\n",
              "        vertical-align: top;\n",
              "    }\n",
              "\n",
              "    .dataframe thead th {\n",
              "        text-align: right;\n",
              "    }\n",
              "</style>\n",
              "<table border=\"1\" class=\"dataframe\">\n",
              "  <thead>\n",
              "    <tr style=\"text-align: right;\">\n",
              "      <th></th>\n",
              "      <th>loss</th>\n",
              "      <th>accuracy</th>\n",
              "      <th>val_loss</th>\n",
              "      <th>val_accuracy</th>\n",
              "    </tr>\n",
              "  </thead>\n",
              "  <tbody>\n",
              "    <tr>\n",
              "      <th>0</th>\n",
              "      <td>1.642922</td>\n",
              "      <td>0.40028</td>\n",
              "      <td>1.266650</td>\n",
              "      <td>0.5479</td>\n",
              "    </tr>\n",
              "    <tr>\n",
              "      <th>1</th>\n",
              "      <td>1.128721</td>\n",
              "      <td>0.59856</td>\n",
              "      <td>1.240354</td>\n",
              "      <td>0.5786</td>\n",
              "    </tr>\n",
              "    <tr>\n",
              "      <th>2</th>\n",
              "      <td>0.890367</td>\n",
              "      <td>0.68606</td>\n",
              "      <td>1.067096</td>\n",
              "      <td>0.6297</td>\n",
              "    </tr>\n",
              "    <tr>\n",
              "      <th>3</th>\n",
              "      <td>0.734108</td>\n",
              "      <td>0.74328</td>\n",
              "      <td>0.817511</td>\n",
              "      <td>0.7179</td>\n",
              "    </tr>\n",
              "    <tr>\n",
              "      <th>4</th>\n",
              "      <td>0.604762</td>\n",
              "      <td>0.78692</td>\n",
              "      <td>0.871998</td>\n",
              "      <td>0.7069</td>\n",
              "    </tr>\n",
              "  </tbody>\n",
              "</table>\n",
              "</div>\n",
              "    <div class=\"colab-df-buttons\">\n",
              "\n",
              "  <div class=\"colab-df-container\">\n",
              "    <button class=\"colab-df-convert\" onclick=\"convertToInteractive('df-ba86f187-4b7f-404a-8565-cd05c716ac9e')\"\n",
              "            title=\"Convert this dataframe to an interactive table.\"\n",
              "            style=\"display:none;\">\n",
              "\n",
              "  <svg xmlns=\"http://www.w3.org/2000/svg\" height=\"24px\" viewBox=\"0 -960 960 960\">\n",
              "    <path d=\"M120-120v-720h720v720H120Zm60-500h600v-160H180v160Zm220 220h160v-160H400v160Zm0 220h160v-160H400v160ZM180-400h160v-160H180v160Zm440 0h160v-160H620v160ZM180-180h160v-160H180v160Zm440 0h160v-160H620v160Z\"/>\n",
              "  </svg>\n",
              "    </button>\n",
              "\n",
              "  <style>\n",
              "    .colab-df-container {\n",
              "      display:flex;\n",
              "      gap: 12px;\n",
              "    }\n",
              "\n",
              "    .colab-df-convert {\n",
              "      background-color: #E8F0FE;\n",
              "      border: none;\n",
              "      border-radius: 50%;\n",
              "      cursor: pointer;\n",
              "      display: none;\n",
              "      fill: #1967D2;\n",
              "      height: 32px;\n",
              "      padding: 0 0 0 0;\n",
              "      width: 32px;\n",
              "    }\n",
              "\n",
              "    .colab-df-convert:hover {\n",
              "      background-color: #E2EBFA;\n",
              "      box-shadow: 0px 1px 2px rgba(60, 64, 67, 0.3), 0px 1px 3px 1px rgba(60, 64, 67, 0.15);\n",
              "      fill: #174EA6;\n",
              "    }\n",
              "\n",
              "    .colab-df-buttons div {\n",
              "      margin-bottom: 4px;\n",
              "    }\n",
              "\n",
              "    [theme=dark] .colab-df-convert {\n",
              "      background-color: #3B4455;\n",
              "      fill: #D2E3FC;\n",
              "    }\n",
              "\n",
              "    [theme=dark] .colab-df-convert:hover {\n",
              "      background-color: #434B5C;\n",
              "      box-shadow: 0px 1px 3px 1px rgba(0, 0, 0, 0.15);\n",
              "      filter: drop-shadow(0px 1px 2px rgba(0, 0, 0, 0.3));\n",
              "      fill: #FFFFFF;\n",
              "    }\n",
              "  </style>\n",
              "\n",
              "    <script>\n",
              "      const buttonEl =\n",
              "        document.querySelector('#df-ba86f187-4b7f-404a-8565-cd05c716ac9e button.colab-df-convert');\n",
              "      buttonEl.style.display =\n",
              "        google.colab.kernel.accessAllowed ? 'block' : 'none';\n",
              "\n",
              "      async function convertToInteractive(key) {\n",
              "        const element = document.querySelector('#df-ba86f187-4b7f-404a-8565-cd05c716ac9e');\n",
              "        const dataTable =\n",
              "          await google.colab.kernel.invokeFunction('convertToInteractive',\n",
              "                                                    [key], {});\n",
              "        if (!dataTable) return;\n",
              "\n",
              "        const docLinkHtml = 'Like what you see? Visit the ' +\n",
              "          '<a target=\"_blank\" href=https://colab.research.google.com/notebooks/data_table.ipynb>data table notebook</a>'\n",
              "          + ' to learn more about interactive tables.';\n",
              "        element.innerHTML = '';\n",
              "        dataTable['output_type'] = 'display_data';\n",
              "        await google.colab.output.renderOutput(dataTable, element);\n",
              "        const docLink = document.createElement('div');\n",
              "        docLink.innerHTML = docLinkHtml;\n",
              "        element.appendChild(docLink);\n",
              "      }\n",
              "    </script>\n",
              "  </div>\n",
              "\n",
              "\n",
              "<div id=\"df-3627e9e7-0898-4f3e-a8df-da1563d26ab1\">\n",
              "  <button class=\"colab-df-quickchart\" onclick=\"quickchart('df-3627e9e7-0898-4f3e-a8df-da1563d26ab1')\"\n",
              "            title=\"Suggest charts.\"\n",
              "            style=\"display:none;\">\n",
              "\n",
              "<svg xmlns=\"http://www.w3.org/2000/svg\" height=\"24px\"viewBox=\"0 0 24 24\"\n",
              "     width=\"24px\">\n",
              "    <g>\n",
              "        <path d=\"M19 3H5c-1.1 0-2 .9-2 2v14c0 1.1.9 2 2 2h14c1.1 0 2-.9 2-2V5c0-1.1-.9-2-2-2zM9 17H7v-7h2v7zm4 0h-2V7h2v10zm4 0h-2v-4h2v4z\"/>\n",
              "    </g>\n",
              "</svg>\n",
              "  </button>\n",
              "\n",
              "<style>\n",
              "  .colab-df-quickchart {\n",
              "      --bg-color: #E8F0FE;\n",
              "      --fill-color: #1967D2;\n",
              "      --hover-bg-color: #E2EBFA;\n",
              "      --hover-fill-color: #174EA6;\n",
              "      --disabled-fill-color: #AAA;\n",
              "      --disabled-bg-color: #DDD;\n",
              "  }\n",
              "\n",
              "  [theme=dark] .colab-df-quickchart {\n",
              "      --bg-color: #3B4455;\n",
              "      --fill-color: #D2E3FC;\n",
              "      --hover-bg-color: #434B5C;\n",
              "      --hover-fill-color: #FFFFFF;\n",
              "      --disabled-bg-color: #3B4455;\n",
              "      --disabled-fill-color: #666;\n",
              "  }\n",
              "\n",
              "  .colab-df-quickchart {\n",
              "    background-color: var(--bg-color);\n",
              "    border: none;\n",
              "    border-radius: 50%;\n",
              "    cursor: pointer;\n",
              "    display: none;\n",
              "    fill: var(--fill-color);\n",
              "    height: 32px;\n",
              "    padding: 0;\n",
              "    width: 32px;\n",
              "  }\n",
              "\n",
              "  .colab-df-quickchart:hover {\n",
              "    background-color: var(--hover-bg-color);\n",
              "    box-shadow: 0 1px 2px rgba(60, 64, 67, 0.3), 0 1px 3px 1px rgba(60, 64, 67, 0.15);\n",
              "    fill: var(--button-hover-fill-color);\n",
              "  }\n",
              "\n",
              "  .colab-df-quickchart-complete:disabled,\n",
              "  .colab-df-quickchart-complete:disabled:hover {\n",
              "    background-color: var(--disabled-bg-color);\n",
              "    fill: var(--disabled-fill-color);\n",
              "    box-shadow: none;\n",
              "  }\n",
              "\n",
              "  .colab-df-spinner {\n",
              "    border: 2px solid var(--fill-color);\n",
              "    border-color: transparent;\n",
              "    border-bottom-color: var(--fill-color);\n",
              "    animation:\n",
              "      spin 1s steps(1) infinite;\n",
              "  }\n",
              "\n",
              "  @keyframes spin {\n",
              "    0% {\n",
              "      border-color: transparent;\n",
              "      border-bottom-color: var(--fill-color);\n",
              "      border-left-color: var(--fill-color);\n",
              "    }\n",
              "    20% {\n",
              "      border-color: transparent;\n",
              "      border-left-color: var(--fill-color);\n",
              "      border-top-color: var(--fill-color);\n",
              "    }\n",
              "    30% {\n",
              "      border-color: transparent;\n",
              "      border-left-color: var(--fill-color);\n",
              "      border-top-color: var(--fill-color);\n",
              "      border-right-color: var(--fill-color);\n",
              "    }\n",
              "    40% {\n",
              "      border-color: transparent;\n",
              "      border-right-color: var(--fill-color);\n",
              "      border-top-color: var(--fill-color);\n",
              "    }\n",
              "    60% {\n",
              "      border-color: transparent;\n",
              "      border-right-color: var(--fill-color);\n",
              "    }\n",
              "    80% {\n",
              "      border-color: transparent;\n",
              "      border-right-color: var(--fill-color);\n",
              "      border-bottom-color: var(--fill-color);\n",
              "    }\n",
              "    90% {\n",
              "      border-color: transparent;\n",
              "      border-bottom-color: var(--fill-color);\n",
              "    }\n",
              "  }\n",
              "</style>\n",
              "\n",
              "  <script>\n",
              "    async function quickchart(key) {\n",
              "      const quickchartButtonEl =\n",
              "        document.querySelector('#' + key + ' button');\n",
              "      quickchartButtonEl.disabled = true;  // To prevent multiple clicks.\n",
              "      quickchartButtonEl.classList.add('colab-df-spinner');\n",
              "      try {\n",
              "        const charts = await google.colab.kernel.invokeFunction(\n",
              "            'suggestCharts', [key], {});\n",
              "      } catch (error) {\n",
              "        console.error('Error during call to suggestCharts:', error);\n",
              "      }\n",
              "      quickchartButtonEl.classList.remove('colab-df-spinner');\n",
              "      quickchartButtonEl.classList.add('colab-df-quickchart-complete');\n",
              "    }\n",
              "    (() => {\n",
              "      let quickchartButtonEl =\n",
              "        document.querySelector('#df-3627e9e7-0898-4f3e-a8df-da1563d26ab1 button');\n",
              "      quickchartButtonEl.style.display =\n",
              "        google.colab.kernel.accessAllowed ? 'block' : 'none';\n",
              "    })();\n",
              "  </script>\n",
              "</div>\n",
              "    </div>\n",
              "  </div>\n"
            ]
          },
          "metadata": {},
          "execution_count": 47
        }
      ]
    },
    {
      "cell_type": "code",
      "source": [
        "metrics[['accuracy','val_accuracy']].plot()\n",
        "plt.show()"
      ],
      "metadata": {
        "colab": {
          "base_uri": "https://localhost:8080/",
          "height": 430
        },
        "id": "zFGeoeoAWON1",
        "outputId": "253e7374-e379-43e2-9aca-21cda7f1af29"
      },
      "execution_count": 48,
      "outputs": [
        {
          "output_type": "display_data",
          "data": {
            "text/plain": [
              "<Figure size 640x480 with 1 Axes>"
            ],
            "image/png": "[encoded data removed]"
          },
          "metadata": {}
        }
      ]
    },
    {
      "cell_type": "code",
      "source": [
        "metrics[['loss','val_loss']].plot()\n",
        "plt.show()"
      ],
      "metadata": {
        "colab": {
          "base_uri": "https://localhost:8080/",
          "height": 430
        },
        "id": "2iyK5XTuUwIq",
        "outputId": "2e591da6-7526-4674-97e6-c41d2fcc0cd6"
      },
      "execution_count": 49,
      "outputs": [
        {
          "output_type": "display_data",
          "data": {
            "text/plain": [
              "<Figure size 640x480 with 1 Axes>"
            ],
            "image/png": "[encoded data removed]"
          },
          "metadata": {}
        }
      ]
    },
    {
      "cell_type": "markdown",
      "source": [
        "It looks like at around 5 epochs, the model starts to overfit. It's generalization to new, unseen data (validation set) starts to degrade after the 5th epoch."
      ],
      "metadata": {
        "id": "oZ22K29OYCLo"
      }
    },
    {
      "cell_type": "markdown",
      "source": [
        "Import classification_report and confusion_matrix from sklearn.metrics. Print out the classification report! Based on f1 score, which of the classes has the lowest f1 score? what does that mean?  (5 points)"
      ],
      "metadata": {
        "id": "5fFM82z7IMK8"
      }
    },
    {
      "cell_type": "code",
      "source": [
        "from sklearn.metrics import classification_report,confusion_matrix\n",
        "import seaborn as sns"
      ],
      "metadata": {
        "id": "GWYxIBAVQZ3s"
      },
      "execution_count": 56,
      "outputs": []
    },
    {
      "cell_type": "code",
      "source": [
        "y_pred = winning_model.predict(x_test)\n",
        "y_pred_classes = np.argmax(y_pred, axis=1)"
      ],
      "metadata": {
        "colab": {
          "base_uri": "https://localhost:8080/"
        },
        "id": "OLjrkxl2IJcH",
        "outputId": "a24959c5-3d74-4620-d4c6-54c68ab91e45"
      },
      "execution_count": 57,
      "outputs": [
        {
          "output_type": "stream",
          "name": "stdout",
          "text": [
            "313/313 [==============================] - 1s 3ms/step\n"
          ]
        }
      ]
    },
    {
      "cell_type": "code",
      "source": [
        "print(classification_report(y_test, y_pred_classes))"
      ],
      "metadata": {
        "colab": {
          "base_uri": "https://localhost:8080/"
        },
        "id": "VReHFtjTQ5yW",
        "outputId": "7ff0bec7-c999-4080-ae47-05f76801bfa8"
      },
      "execution_count": 58,
      "outputs": [
        {
          "output_type": "stream",
          "name": "stdout",
          "text": [
            "              precision    recall  f1-score   support\n",
            "\n",
            "           0       0.82      0.74      0.78      1000\n",
            "           1       0.87      0.82      0.84      1000\n",
            "           2       0.59      0.70      0.64      1000\n",
            "           3       0.54      0.55      0.55      1000\n",
            "           4       0.71      0.70      0.70      1000\n",
            "           5       0.69      0.57      0.63      1000\n",
            "           6       0.68      0.87      0.76      1000\n",
            "           7       0.73      0.82      0.77      1000\n",
            "           8       0.92      0.74      0.82      1000\n",
            "           9       0.83      0.80      0.81      1000\n",
            "\n",
            "    accuracy                           0.73     10000\n",
            "   macro avg       0.74      0.73      0.73     10000\n",
            "weighted avg       0.74      0.73      0.73     10000\n",
            "\n"
          ]
        }
      ]
    },
    {
      "cell_type": "markdown",
      "source": [
        "Cat images have the lowest f1 score of .55. That means that cat images are the most difficult to predict correctly compared to other classes. That means there are alot more false positives and false negatives in predicting cat images."
      ],
      "metadata": {
        "id": "7qfU8JzWZuaw"
      }
    },
    {
      "cell_type": "markdown",
      "source": [
        "Use seaborn.heatmap to visualize the confusion matrix. What are the classes that your model have hard time distinguishing them from each other? name 3 pair of classes.  (5 points)"
      ],
      "metadata": {
        "id": "LTYzaeSqINpU"
      }
    },
    {
      "cell_type": "code",
      "source": [
        "confusion_matrix(y_test,y_pred_classes)"
      ],
      "metadata": {
        "colab": {
          "base_uri": "https://localhost:8080/"
        },
        "id": "KuORniOjRVvD",
        "outputId": "83c6d1a2-e39b-4359-a9be-5a7a0349180e"
      },
      "execution_count": 59,
      "outputs": [
        {
          "output_type": "execute_result",
          "data": {
            "text/plain": [
              "array([[742,  13,  88,  23,  24,   4,  26,  12,  29,  39],\n",
              "       [ 11, 816,  16,  18,   6,   3,  29,   7,  16,  78],\n",
              "       [ 34,   2, 704,  43,  70,  36,  68,  38,   1,   4],\n",
              "       [ 11,   4,  98, 547,  59, 119,  82,  65,   2,  13],\n",
              "       [  7,   1,  73,  63, 700,  25,  68,  58,   5,   0],\n",
              "       [  3,   1,  81, 168,  41, 573,  48,  77,   1,   7],\n",
              "       [  3,   0,  39,  47,  16,  12, 866,  15,   1,   1],\n",
              "       [  6,   2,  36,  34,  54,  29,  19, 817,   0,   3],\n",
              "       [ 65,  36,  36,  39,  14,   9,  35,   4, 739,  23],\n",
              "       [ 18,  58,  16,  23,   4,  15,  26,  30,  11, 799]])"
            ]
          },
          "metadata": {},
          "execution_count": 59
        }
      ]
    },
    {
      "cell_type": "code",
      "source": [
        "plt.figure(figsize=(10,8))\n",
        "sns.heatmap(confusion_matrix(y_test,y_pred_classes),annot=True, cmap='YlGnBu',fmt='g')\n",
        "\n",
        "plt.xlabel('Predicted labels')\n",
        "plt.ylabel('True labels')\n",
        "plt.title('Confusion Matrix')\n",
        "plt.show()"
      ],
      "metadata": {
        "colab": {
          "base_uri": "https://localhost:8080/",
          "height": 718
        },
        "id": "FcpzIXJMRbKg",
        "outputId": "70b04186-4b74-4687-fcc3-28be30fe1e75"
      },
      "execution_count": 61,
      "outputs": [
        {
          "output_type": "display_data",
          "data": {
            "text/plain": [
              "<Figure size 1000x800 with 2 Axes>"
            ],
            "image/png": "[encoded data removed]"
          },
          "metadata": {}
        }
      ]
    },
    {
      "cell_type": "markdown",
      "source": [
        "My model has a difficult time distinguishing between classes 3 and 5, classes 0 and 2, and classes 3 and 7."
      ],
      "metadata": {
        "id": "VNwpH7P7dagx"
      }
    },
    {
      "cell_type": "markdown",
      "source": [
        "Visualize the first 6 misclassifications of your winning model. (You can borrow from code from the notebook we covered in class). (5 points)"
      ],
      "metadata": {
        "id": "sEFrloB0IVpb"
      }
    },
    {
      "cell_type": "code",
      "source": [
        "if y_test.ndim == 2:\n",
        "    y_test_indices = np.argmax(y_test, axis=1)\n",
        "else:\n",
        "    y_test_indices = y_test\n",
        "\n",
        "# Identify misclassified indices\n",
        "misclassified_idx = np.where(y_pred_classes != y_test_indices)[0]\n",
        "\n",
        "print(f\"Total misclassified images: {len(misclassified_idx)}\")"
      ],
      "metadata": {
        "colab": {
          "base_uri": "https://localhost:8080/"
        },
        "id": "hAgrxl-QlIm5",
        "outputId": "85d1f7ca-749c-4c12-d6e2-7ed264d3a6d3"
      },
      "execution_count": 70,
      "outputs": [
        {
          "output_type": "stream",
          "name": "stdout",
          "text": [
            "Total misclassified images: 9100\n"
          ]
        }
      ]
    },
    {
      "cell_type": "code",
      "source": [
        "print(\"y_test shape:\", y_test.shape)\n",
        "print(\"First 10 y_test values:\", y_test[:10])\n",
        "\n",
        "print(\"\\ny_pred_classes shape:\", y_pred_classes.shape)\n",
        "print(\"First 10 y_pred_classes values:\", y_pred_classes[:10])"
      ],
      "metadata": {
        "colab": {
          "base_uri": "https://localhost:8080/"
        },
        "id": "xObwCtFHmzTc",
        "outputId": "36cbb524-f729-45ff-ba7c-e28fcf7afd5c"
      },
      "execution_count": 75,
      "outputs": [
        {
          "output_type": "stream",
          "name": "stdout",
          "text": [
            "y_test shape: (10000, 1)\n",
            "First 10 y_test values: [[3]\n",
            " [8]\n",
            " [8]\n",
            " [0]\n",
            " [6]\n",
            " [6]\n",
            " [1]\n",
            " [6]\n",
            " [3]\n",
            " [1]]\n",
            "\n",
            "y_pred_classes shape: (10000,)\n",
            "First 10 y_pred_classes values: [3 8 8 8 6 6 1 6 3 9]\n"
          ]
        }
      ]
    },
    {
      "cell_type": "code",
      "source": [
        "misclassified_idx = np.where(y_pred_classes != y_test[:, 0])[0]  # The [0] is to reshape y_test from (10000, 1) to (10000,)\n",
        "\n",
        "# Display the first 6 misclassified images\n",
        "plt.figure(figsize=(12, 8))\n",
        "for i, idx in enumerate(misclassified_idx[:6]):\n",
        "    plt.subplot(2, 3, i + 1)\n",
        "    plt.imshow(x_test[idx], cmap='gray')\n",
        "    plt.title(f\"True: {y_test[idx][0]}, Pred: {y_pred_classes[idx]}\")\n",
        "    plt.axis('off')\n",
        "plt.tight_layout()\n",
        "plt.show()"
      ],
      "metadata": {
        "colab": {
          "base_uri": "https://localhost:8080/",
          "height": 810
        },
        "id": "FWZHNN9lnBc-",
        "outputId": "dc6867e9-6ed8-4fed-f33d-6cedf1484797"
      },
      "execution_count": 76,
      "outputs": [
        {
          "output_type": "display_data",
          "data": {
            "text/plain": [
              "<Figure size 1200x800 with 6 Axes>"
            ],
            "image/png": "[encoded data removed]"
          },
          "metadata": {}
        }
      ]
    },
    {
      "cell_type": "markdown",
      "source": [
        "When I first looked at these misclassified images, I also did not know for sure what 4 of the 6 images were. I correctly classified the dog and boat images."
      ],
      "metadata": {
        "id": "Tntcx-E-IkpE"
      }
    }
  ]
}